{
 "cells": [
  {
   "cell_type": "markdown",
   "metadata": {},
   "source": [
    "# Machine Learning Kaggle project\n",
    "## Google Play Store Apps Project\n",
    "Amr Mohamed Gaber <br>\n",
    "March 8th, 2020"
   ]
  },
  {
   "cell_type": "markdown",
   "metadata": {},
   "source": [
    "\n",
    "## Project Overview\n",
    "### Problem Statement\n",
    "This project aims to use the dataset provided by [Lavanya Gupta](https://www.kaggle.com/lava18/google-play-store-apps) to train a supervised machine learning algorithm to predict app ratings.\n",
    "\n",
    "**A supervised machine learning algorithm** is an algorithm where you feed to the algorithm your training dataset including your desired solutions *'labels'* so it can find correlations between instances in the data which leads to it understanding the dataset better.\n",
    "\n",
    "To predict the target numerical value `'Rating'`, We will be using Regression Algorithms given a set of predictors *'features'*.\n",
    "\n",
    "We will be using small functions to do everything, this will help us to automate most of the work done and be able to save time, update and reuse them later or on different machines/algorithms.\n",
    "like for example:\n",
    "- in case of downloading/installing the dataset on different/multiple machines, or if the dataset changes regularly.\n",
    "- reuse some of the transoformation functions on different Machine Learning algorithms.\n",
    "\n",
    "Our steps through the whole project will be as following:\n",
    "- Getting the data.\n",
    "- Data exploration.\n",
    "- Taking a quick look at the Data Structure.\n",
    "- Creating a Test set\n",
    "- Discover and Visualize the data.\n",
    "- Prepare the Data for Machine Learning.\n",
    "- Select and Train a Model\n",
    "- Fine-Tune the Model"
   ]
  },
  {
   "cell_type": "markdown",
   "metadata": {},
   "source": [
    "## Getting the data\n",
    "First, We will need to download the dataset using kaggle's api into a new folder we created inside our working directory called ' ..\\datasets\\gplay\\ ', by running the following code:"
   ]
  },
  {
   "cell_type": "code",
   "execution_count": 1,
   "metadata": {},
   "outputs": [],
   "source": [
    "import os\n",
    "import kaggle\n",
    "\n",
    "GPLAY_PATH = os.path.join(\"datasets\", \"gplay\")\n",
    "GPLAY_URL = \"lava18/google-play-store-apps\"\n",
    "\n",
    "def fetch_gplay_data(gplay_url=GPLAY_URL, gplay_path=GPLAY_PATH):\n",
    "    '''\n",
    "    Creates a datasets/gplay directory in your workspace,\n",
    "    downloads the google-play-store-apps.zip file,\n",
    "    and extract its files in this directory\n",
    "    '''\n",
    "    if not os.path.isdir(gplay_path):\n",
    "        os.makedirs(gplay_path)\n",
    "    kaggle.api.authenticate()\n",
    "    kaggle.api.dataset_download_files(gplay_url, path=gplay_path, unzip=True)"
   ]
  },
  {
   "cell_type": "code",
   "execution_count": 2,
   "metadata": {},
   "outputs": [],
   "source": [
    "fetch_gplay_data()"
   ]
  },
  {
   "cell_type": "markdown",
   "metadata": {},
   "source": [
    "Then Loading the data from the `googleplaystore.csv` file into our working space by running the following code:"
   ]
  },
  {
   "cell_type": "code",
   "execution_count": 3,
   "metadata": {},
   "outputs": [],
   "source": [
    "import pandas as pd\n",
    "\n",
    "def load_gplay_data(gplay_path=GPLAY_PATH):\n",
    "    csv_path = os.path.join(gplay_path, \"googleplaystore.csv\")\n",
    "    return pd.read_csv(csv_path)"
   ]
  },
  {
   "cell_type": "code",
   "execution_count": 4,
   "metadata": {},
   "outputs": [
    {
     "name": "stdout",
     "output_type": "stream",
     "text": [
      "<class 'pandas.core.frame.DataFrame'>\n",
      "RangeIndex: 10841 entries, 0 to 10840\n",
      "Data columns (total 13 columns):\n",
      "App               10841 non-null object\n",
      "Category          10841 non-null object\n",
      "Rating            9367 non-null float64\n",
      "Reviews           10841 non-null object\n",
      "Size              10841 non-null object\n",
      "Installs          10841 non-null object\n",
      "Type              10840 non-null object\n",
      "Price             10841 non-null object\n",
      "Content Rating    10840 non-null object\n",
      "Genres            10841 non-null object\n",
      "Last Updated      10841 non-null object\n",
      "Current Ver       10833 non-null object\n",
      "Android Ver       10838 non-null object\n",
      "dtypes: float64(1), object(12)\n",
      "memory usage: 1.1+ MB\n"
     ]
    }
   ],
   "source": [
    "gplay = load_gplay_data() \n",
    "gplay.info()"
   ]
  },
  {
   "cell_type": "markdown",
   "metadata": {},
   "source": [
    "## Data Exploration\n",
    "The input data consists of 10841 apps. Every Instance cosists of 12 features and 1 output or label target, they are all in text form so we will need to reformat them later.\n",
    "\n",
    "* **App:** Application name.\n",
    "* **Category:** Category the app belongs to, there is a total of 33 unique catagory in this dataset.\n",
    "* **Reviews:** Number of user reviews for the app (as when scraped).\n",
    "* **Size:** Size of the app (as when scraped).\n",
    "* **Installs:** Number of user downloads/installs for the app (as when scraped).\n",
    "* **Type:** Paid or Free.\n",
    "* **Price:** Price of the app (as when scraped)\n",
    "* **Content Rating:** Age group the app is targeted at - Children / Mature 21+ / Adult.\n",
    "* **Genres:** An app can belong to multiple genres (apart from its main category). For eg, a musical family game will belong to Music, Game, Family genres, there is a total of 115 unique genre in this dataset.\n",
    "* **Rating (label):** Overall user rating of the app (as when scraped).\n",
    "\n",
    "**THIS features are UNNECESSARY and can be dropped from our dataset without affecting it too much:**\n",
    "* **Last Updated:** Date when the app was last updated on Play Store (as when scraped).\n",
    "* **Current Ver:** Current version of the app available on Play Store (as when scraped)\n",
    "* **Android Ver:** Min required Android version (as when scraped)\n"
   ]
  },
  {
   "cell_type": "code",
   "execution_count": 5,
   "metadata": {
    "scrolled": true
   },
   "outputs": [
    {
     "data": {
      "text/html": [
       "<div>\n",
       "<style scoped>\n",
       "    .dataframe tbody tr th:only-of-type {\n",
       "        vertical-align: middle;\n",
       "    }\n",
       "\n",
       "    .dataframe tbody tr th {\n",
       "        vertical-align: top;\n",
       "    }\n",
       "\n",
       "    .dataframe thead th {\n",
       "        text-align: right;\n",
       "    }\n",
       "</style>\n",
       "<table border=\"1\" class=\"dataframe\">\n",
       "  <thead>\n",
       "    <tr style=\"text-align: right;\">\n",
       "      <th></th>\n",
       "      <th>App</th>\n",
       "      <th>Category</th>\n",
       "      <th>Rating</th>\n",
       "      <th>Reviews</th>\n",
       "      <th>Size</th>\n",
       "      <th>Installs</th>\n",
       "      <th>Type</th>\n",
       "      <th>Price</th>\n",
       "      <th>Content Rating</th>\n",
       "      <th>Genres</th>\n",
       "      <th>Last Updated</th>\n",
       "      <th>Current Ver</th>\n",
       "      <th>Android Ver</th>\n",
       "    </tr>\n",
       "  </thead>\n",
       "  <tbody>\n",
       "    <tr>\n",
       "      <th>0</th>\n",
       "      <td>Photo Editor &amp; Candy Camera &amp; Grid &amp; ScrapBook</td>\n",
       "      <td>ART_AND_DESIGN</td>\n",
       "      <td>4.1</td>\n",
       "      <td>159</td>\n",
       "      <td>19M</td>\n",
       "      <td>10,000+</td>\n",
       "      <td>Free</td>\n",
       "      <td>0</td>\n",
       "      <td>Everyone</td>\n",
       "      <td>Art &amp; Design</td>\n",
       "      <td>January 7, 2018</td>\n",
       "      <td>1.0.0</td>\n",
       "      <td>4.0.3 and up</td>\n",
       "    </tr>\n",
       "    <tr>\n",
       "      <th>1</th>\n",
       "      <td>Coloring book moana</td>\n",
       "      <td>ART_AND_DESIGN</td>\n",
       "      <td>3.9</td>\n",
       "      <td>967</td>\n",
       "      <td>14M</td>\n",
       "      <td>500,000+</td>\n",
       "      <td>Free</td>\n",
       "      <td>0</td>\n",
       "      <td>Everyone</td>\n",
       "      <td>Art &amp; Design;Pretend Play</td>\n",
       "      <td>January 15, 2018</td>\n",
       "      <td>2.0.0</td>\n",
       "      <td>4.0.3 and up</td>\n",
       "    </tr>\n",
       "    <tr>\n",
       "      <th>2</th>\n",
       "      <td>U Launcher Lite – FREE Live Cool Themes, Hide ...</td>\n",
       "      <td>ART_AND_DESIGN</td>\n",
       "      <td>4.7</td>\n",
       "      <td>87510</td>\n",
       "      <td>8.7M</td>\n",
       "      <td>5,000,000+</td>\n",
       "      <td>Free</td>\n",
       "      <td>0</td>\n",
       "      <td>Everyone</td>\n",
       "      <td>Art &amp; Design</td>\n",
       "      <td>August 1, 2018</td>\n",
       "      <td>1.2.4</td>\n",
       "      <td>4.0.3 and up</td>\n",
       "    </tr>\n",
       "    <tr>\n",
       "      <th>3</th>\n",
       "      <td>Sketch - Draw &amp; Paint</td>\n",
       "      <td>ART_AND_DESIGN</td>\n",
       "      <td>4.5</td>\n",
       "      <td>215644</td>\n",
       "      <td>25M</td>\n",
       "      <td>50,000,000+</td>\n",
       "      <td>Free</td>\n",
       "      <td>0</td>\n",
       "      <td>Teen</td>\n",
       "      <td>Art &amp; Design</td>\n",
       "      <td>June 8, 2018</td>\n",
       "      <td>Varies with device</td>\n",
       "      <td>4.2 and up</td>\n",
       "    </tr>\n",
       "    <tr>\n",
       "      <th>4</th>\n",
       "      <td>Pixel Draw - Number Art Coloring Book</td>\n",
       "      <td>ART_AND_DESIGN</td>\n",
       "      <td>4.3</td>\n",
       "      <td>967</td>\n",
       "      <td>2.8M</td>\n",
       "      <td>100,000+</td>\n",
       "      <td>Free</td>\n",
       "      <td>0</td>\n",
       "      <td>Everyone</td>\n",
       "      <td>Art &amp; Design;Creativity</td>\n",
       "      <td>June 20, 2018</td>\n",
       "      <td>1.1</td>\n",
       "      <td>4.4 and up</td>\n",
       "    </tr>\n",
       "  </tbody>\n",
       "</table>\n",
       "</div>"
      ],
      "text/plain": [
       "                                                 App        Category  Rating  \\\n",
       "0     Photo Editor & Candy Camera & Grid & ScrapBook  ART_AND_DESIGN     4.1   \n",
       "1                                Coloring book moana  ART_AND_DESIGN     3.9   \n",
       "2  U Launcher Lite – FREE Live Cool Themes, Hide ...  ART_AND_DESIGN     4.7   \n",
       "3                              Sketch - Draw & Paint  ART_AND_DESIGN     4.5   \n",
       "4              Pixel Draw - Number Art Coloring Book  ART_AND_DESIGN     4.3   \n",
       "\n",
       "  Reviews  Size     Installs  Type Price Content Rating  \\\n",
       "0     159   19M      10,000+  Free     0       Everyone   \n",
       "1     967   14M     500,000+  Free     0       Everyone   \n",
       "2   87510  8.7M   5,000,000+  Free     0       Everyone   \n",
       "3  215644   25M  50,000,000+  Free     0           Teen   \n",
       "4     967  2.8M     100,000+  Free     0       Everyone   \n",
       "\n",
       "                      Genres      Last Updated         Current Ver  \\\n",
       "0               Art & Design   January 7, 2018               1.0.0   \n",
       "1  Art & Design;Pretend Play  January 15, 2018               2.0.0   \n",
       "2               Art & Design    August 1, 2018               1.2.4   \n",
       "3               Art & Design      June 8, 2018  Varies with device   \n",
       "4    Art & Design;Creativity     June 20, 2018                 1.1   \n",
       "\n",
       "    Android Ver  \n",
       "0  4.0.3 and up  \n",
       "1  4.0.3 and up  \n",
       "2  4.0.3 and up  \n",
       "3    4.2 and up  \n",
       "4    4.4 and up  "
      ]
     },
     "execution_count": 5,
     "metadata": {},
     "output_type": "execute_result"
    }
   ],
   "source": [
    "gplay.head()"
   ]
  },
  {
   "cell_type": "code",
   "execution_count": 6,
   "metadata": {},
   "outputs": [
    {
     "data": {
      "text/html": [
       "<div>\n",
       "<style scoped>\n",
       "    .dataframe tbody tr th:only-of-type {\n",
       "        vertical-align: middle;\n",
       "    }\n",
       "\n",
       "    .dataframe tbody tr th {\n",
       "        vertical-align: top;\n",
       "    }\n",
       "\n",
       "    .dataframe thead th {\n",
       "        text-align: right;\n",
       "    }\n",
       "</style>\n",
       "<table border=\"1\" class=\"dataframe\">\n",
       "  <thead>\n",
       "    <tr style=\"text-align: right;\">\n",
       "      <th></th>\n",
       "      <th>Rating</th>\n",
       "    </tr>\n",
       "  </thead>\n",
       "  <tbody>\n",
       "    <tr>\n",
       "      <th>count</th>\n",
       "      <td>9367.000000</td>\n",
       "    </tr>\n",
       "    <tr>\n",
       "      <th>mean</th>\n",
       "      <td>4.193338</td>\n",
       "    </tr>\n",
       "    <tr>\n",
       "      <th>std</th>\n",
       "      <td>0.537431</td>\n",
       "    </tr>\n",
       "    <tr>\n",
       "      <th>min</th>\n",
       "      <td>1.000000</td>\n",
       "    </tr>\n",
       "    <tr>\n",
       "      <th>25%</th>\n",
       "      <td>4.000000</td>\n",
       "    </tr>\n",
       "    <tr>\n",
       "      <th>50%</th>\n",
       "      <td>4.300000</td>\n",
       "    </tr>\n",
       "    <tr>\n",
       "      <th>75%</th>\n",
       "      <td>4.500000</td>\n",
       "    </tr>\n",
       "    <tr>\n",
       "      <th>max</th>\n",
       "      <td>19.000000</td>\n",
       "    </tr>\n",
       "  </tbody>\n",
       "</table>\n",
       "</div>"
      ],
      "text/plain": [
       "            Rating\n",
       "count  9367.000000\n",
       "mean      4.193338\n",
       "std       0.537431\n",
       "min       1.000000\n",
       "25%       4.000000\n",
       "50%       4.300000\n",
       "75%       4.500000\n",
       "max      19.000000"
      ]
     },
     "execution_count": 6,
     "metadata": {},
     "output_type": "execute_result"
    }
   ],
   "source": [
    "gplay.describe()"
   ]
  },
  {
   "cell_type": "code",
   "execution_count": 7,
   "metadata": {},
   "outputs": [
    {
     "name": "stdout",
     "output_type": "stream",
     "text": [
      "<class 'pandas.core.frame.DataFrame'>\n",
      "RangeIndex: 10841 entries, 0 to 10840\n",
      "Data columns (total 13 columns):\n",
      "App               10841 non-null object\n",
      "Category          10841 non-null object\n",
      "Rating            9367 non-null float64\n",
      "Reviews           10841 non-null object\n",
      "Size              10841 non-null object\n",
      "Installs          10841 non-null object\n",
      "Type              10840 non-null object\n",
      "Price             10841 non-null object\n",
      "Content Rating    10840 non-null object\n",
      "Genres            10841 non-null object\n",
      "Last Updated      10841 non-null object\n",
      "Current Ver       10833 non-null object\n",
      "Android Ver       10838 non-null object\n",
      "dtypes: float64(1), object(12)\n",
      "memory usage: 1.1+ MB\n"
     ]
    }
   ],
   "source": [
    "gplay.info()"
   ]
  },
  {
   "cell_type": "markdown",
   "metadata": {},
   "source": [
    "## Taking a quick look at the Data Structure \n",
    "We will go through each feature visualizing it, cleaning it, and breaking it down."
   ]
  },
  {
   "cell_type": "markdown",
   "metadata": {},
   "source": [
    "**we will drop NaN values for simplicity, since the objective is to predict the ratings of the apps, also and we cant reformat some values to visualize them without dealing with NaN first.**"
   ]
  },
  {
   "cell_type": "code",
   "execution_count": 8,
   "metadata": {},
   "outputs": [],
   "source": [
    "gplay.dropna(inplace=True)"
   ]
  },
  {
   "cell_type": "markdown",
   "metadata": {},
   "source": [
    "we will be using the `In-place` operation which is an operation that changes directly the content of a given linear algebra, \n",
    "vector, matrices(Tensor) without making a copy."
   ]
  },
  {
   "cell_type": "markdown",
   "metadata": {},
   "source": [
    "Lets start by visualizing the first feature `'Category'`  in a pie chart to figure how many categories are there, and we will use multiple colors from different cmaps to represent each of them:"
   ]
  },
  {
   "cell_type": "code",
   "execution_count": 9,
   "metadata": {},
   "outputs": [
    {
     "data": {
      "image/png": "[encoded data removed]",
      "text/plain": [
       "<Figure size 1080x720 with 1 Axes>"
      ]
     },
     "metadata": {},
     "output_type": "display_data"
    }
   ],
   "source": [
    "# visualizing 'Category' feature \n",
    "\n",
    "import matplotlib.pyplot as plt\n",
    "import numpy as np\n",
    "\n",
    "plt.figure(figsize=(15,10))\n",
    "\n",
    "x = gplay['Category'].value_counts().index #gets the labels\n",
    "y = gplay['Category'].value_counts() #gets the count for each label\n",
    "n = gplay['Category'].value_counts().count() #get the total count for this feature\n",
    "\n",
    "percent = 100.*y/y.sum()\n",
    "\n",
    "cmap = plt.get_cmap('tab20')\n",
    "color1 = [cmap(i) for i in np.linspace(0, 1, n//2+1)]\n",
    "cmap = plt.get_cmap('tab20c')\n",
    "color2 = [cmap(i) for i in np.linspace(0, 1, n//2+1)]\n",
    "\n",
    "colors = color1 + color2\n",
    "\n",
    "patches, texts = plt.pie(y, colors=colors, startangle=90, radius=1)\n",
    "\n",
    "labels = ['{0}: {1:1.2f} %'.format(i,j) for i,j in zip(x, percent)]\n",
    "\n",
    "sort_legend = False #incase you want them to be sorted according to their count\n",
    "\n",
    "if sort_legend:\n",
    "    patches, labels, dummy =  zip(*sorted(zip(patches, labels, y), key=lambda x: x[2], reverse=True))\n",
    "\n",
    "plt.legend(patches, labels, loc='best', bbox_to_anchor=(-0.1, 1.), fontsize=11)\n",
    "\n",
    "plt.savefig('piechart.png', bbox_inches='tight')"
   ]
  },
  {
   "cell_type": "markdown",
   "metadata": {},
   "source": [
    "Taking a look at the `'Category'` feature shows us that:\n",
    "- Family, Game, and Tool apps have more than third of the market share."
   ]
  },
  {
   "cell_type": "markdown",
   "metadata": {},
   "source": [
    "For `'Reviews'`, we just need to Change it from text values to numerical values."
   ]
  },
  {
   "cell_type": "code",
   "execution_count": 10,
   "metadata": {},
   "outputs": [],
   "source": [
    "gplay['Reviews'] = gplay['Reviews'].astype(int)"
   ]
  },
  {
   "cell_type": "markdown",
   "metadata": {},
   "source": [
    "For `'Size'`, we need to convert all app sizes to MB."
   ]
  },
  {
   "cell_type": "code",
   "execution_count": 11,
   "metadata": {},
   "outputs": [],
   "source": [
    "def cleaning_size(size):\n",
    "        if 'M' in size:\n",
    "            return float(size[:-1]) * 1_000_000\n",
    "        elif 'K' in size:\n",
    "            return float(size[:-1]) * 1_000\n",
    "        else:\n",
    "            return None    #for \"Varies with device\" size\n",
    "\n",
    "gplay['Size'] = gplay['Size'].map(cleaning_size)\n",
    "gplay.Size.fillna(method='ffill', inplace=True)    #forwardfill:propagates last valid observation forward"
   ]
  },
  {
   "cell_type": "markdown",
   "metadata": {},
   "source": [
    "For `'Installs'`, Remove '+' from it to make it numeric."
   ]
  },
  {
   "cell_type": "code",
   "execution_count": 12,
   "metadata": {},
   "outputs": [],
   "source": [
    "gplay['Installs'] = [int(num[:-1].replace(',','')) for num in gplay['Installs']]"
   ]
  },
  {
   "cell_type": "markdown",
   "metadata": {},
   "source": [
    "For `'Type'`, return a 0 for 'Free' apps and 1 for paid apps."
   ]
  },
  {
   "cell_type": "code",
   "execution_count": 13,
   "metadata": {},
   "outputs": [],
   "source": [
    "gplay['Type'] = [0  if type_ == 'Free' else 1 for type_ in gplay['Type']]"
   ]
  },
  {
   "cell_type": "markdown",
   "metadata": {},
   "source": [
    "For `'Price'`, change them to numeric form."
   ]
  },
  {
   "cell_type": "code",
   "execution_count": 14,
   "metadata": {},
   "outputs": [],
   "source": [
    "gplay['Price'] = [float(price_[1:])  if '$' in price_ else 0 for price_ in gplay['Price']]"
   ]
  },
  {
   "cell_type": "markdown",
   "metadata": {},
   "source": [
    "Just using 1 color map is enough for `'Content Rating'`:"
   ]
  },
  {
   "cell_type": "code",
   "execution_count": 15,
   "metadata": {},
   "outputs": [
    {
     "data": {
      "image/png": "[encoded data removed]",
      "text/plain": [
       "<Figure size 720x720 with 1 Axes>"
      ]
     },
     "metadata": {},
     "output_type": "display_data"
    }
   ],
   "source": [
    "# visualizing 'Content Rating' feature \n",
    "\n",
    "import matplotlib.pyplot as plt\n",
    "import numpy as np\n",
    "\n",
    "plt.figure(figsize=(10,10))\n",
    "\n",
    "x = gplay['Content Rating'].value_counts().index #gets the labels\n",
    "y = gplay['Content Rating'].value_counts() #gets the count for each label\n",
    "n = gplay['Content Rating'].value_counts().count() #get the total count for this feature\n",
    "\n",
    "percent = 100.*y/y.sum()\n",
    "\n",
    "cmap = plt.get_cmap('tab20')\n",
    "colors = [cmap(i) for i in np.linspace(0, 1, n//2+1)]\n",
    "\n",
    "\n",
    "patches, texts = plt.pie(y, colors=colors, startangle=90, radius=0.6)\n",
    "\n",
    "labels = ['\\'{0}\\': {1:1.2f} %'.format(i,j) for i,j in zip(x, percent)]\n",
    "\n",
    "sort_legend = False #incase you want them to be sorted according to their count\n",
    "\n",
    "if sort_legend:\n",
    "    patches, labels, dummy =  zip(*sorted(zip(patches, labels, y), key=lambda x: x[2], reverse=True))\n",
    "\n",
    "plt.legend(patches, labels, loc='best', bbox_to_anchor=(-0.1, 1.), fontsize=13)\n",
    "\n",
    "plt.savefig('piechart2.png', bbox_inches='tight')"
   ]
  },
  {
   "cell_type": "markdown",
   "metadata": {},
   "source": [
    "Taking a look at the `'Content Rating'` feature shows us that:\n",
    "- Everyone Rating is dominating the market."
   ]
  },
  {
   "cell_type": "markdown",
   "metadata": {},
   "source": [
    "After cleaning and reformating our features, we can have more info about our dataset."
   ]
  },
  {
   "cell_type": "code",
   "execution_count": 16,
   "metadata": {},
   "outputs": [
    {
     "data": {
      "text/html": [
       "<div>\n",
       "<style scoped>\n",
       "    .dataframe tbody tr th:only-of-type {\n",
       "        vertical-align: middle;\n",
       "    }\n",
       "\n",
       "    .dataframe tbody tr th {\n",
       "        vertical-align: top;\n",
       "    }\n",
       "\n",
       "    .dataframe thead th {\n",
       "        text-align: right;\n",
       "    }\n",
       "</style>\n",
       "<table border=\"1\" class=\"dataframe\">\n",
       "  <thead>\n",
       "    <tr style=\"text-align: right;\">\n",
       "      <th></th>\n",
       "      <th>App</th>\n",
       "      <th>Category</th>\n",
       "      <th>Rating</th>\n",
       "      <th>Reviews</th>\n",
       "      <th>Size</th>\n",
       "      <th>Installs</th>\n",
       "      <th>Type</th>\n",
       "      <th>Price</th>\n",
       "      <th>Content Rating</th>\n",
       "      <th>Genres</th>\n",
       "      <th>Last Updated</th>\n",
       "      <th>Current Ver</th>\n",
       "      <th>Android Ver</th>\n",
       "    </tr>\n",
       "  </thead>\n",
       "  <tbody>\n",
       "    <tr>\n",
       "      <th>0</th>\n",
       "      <td>Photo Editor &amp; Candy Camera &amp; Grid &amp; ScrapBook</td>\n",
       "      <td>ART_AND_DESIGN</td>\n",
       "      <td>4.1</td>\n",
       "      <td>159</td>\n",
       "      <td>19000000.0</td>\n",
       "      <td>10000</td>\n",
       "      <td>0</td>\n",
       "      <td>0.0</td>\n",
       "      <td>Everyone</td>\n",
       "      <td>Art &amp; Design</td>\n",
       "      <td>January 7, 2018</td>\n",
       "      <td>1.0.0</td>\n",
       "      <td>4.0.3 and up</td>\n",
       "    </tr>\n",
       "    <tr>\n",
       "      <th>1</th>\n",
       "      <td>Coloring book moana</td>\n",
       "      <td>ART_AND_DESIGN</td>\n",
       "      <td>3.9</td>\n",
       "      <td>967</td>\n",
       "      <td>14000000.0</td>\n",
       "      <td>500000</td>\n",
       "      <td>0</td>\n",
       "      <td>0.0</td>\n",
       "      <td>Everyone</td>\n",
       "      <td>Art &amp; Design;Pretend Play</td>\n",
       "      <td>January 15, 2018</td>\n",
       "      <td>2.0.0</td>\n",
       "      <td>4.0.3 and up</td>\n",
       "    </tr>\n",
       "    <tr>\n",
       "      <th>2</th>\n",
       "      <td>U Launcher Lite – FREE Live Cool Themes, Hide ...</td>\n",
       "      <td>ART_AND_DESIGN</td>\n",
       "      <td>4.7</td>\n",
       "      <td>87510</td>\n",
       "      <td>8700000.0</td>\n",
       "      <td>5000000</td>\n",
       "      <td>0</td>\n",
       "      <td>0.0</td>\n",
       "      <td>Everyone</td>\n",
       "      <td>Art &amp; Design</td>\n",
       "      <td>August 1, 2018</td>\n",
       "      <td>1.2.4</td>\n",
       "      <td>4.0.3 and up</td>\n",
       "    </tr>\n",
       "    <tr>\n",
       "      <th>3</th>\n",
       "      <td>Sketch - Draw &amp; Paint</td>\n",
       "      <td>ART_AND_DESIGN</td>\n",
       "      <td>4.5</td>\n",
       "      <td>215644</td>\n",
       "      <td>25000000.0</td>\n",
       "      <td>50000000</td>\n",
       "      <td>0</td>\n",
       "      <td>0.0</td>\n",
       "      <td>Teen</td>\n",
       "      <td>Art &amp; Design</td>\n",
       "      <td>June 8, 2018</td>\n",
       "      <td>Varies with device</td>\n",
       "      <td>4.2 and up</td>\n",
       "    </tr>\n",
       "    <tr>\n",
       "      <th>4</th>\n",
       "      <td>Pixel Draw - Number Art Coloring Book</td>\n",
       "      <td>ART_AND_DESIGN</td>\n",
       "      <td>4.3</td>\n",
       "      <td>967</td>\n",
       "      <td>2800000.0</td>\n",
       "      <td>100000</td>\n",
       "      <td>0</td>\n",
       "      <td>0.0</td>\n",
       "      <td>Everyone</td>\n",
       "      <td>Art &amp; Design;Creativity</td>\n",
       "      <td>June 20, 2018</td>\n",
       "      <td>1.1</td>\n",
       "      <td>4.4 and up</td>\n",
       "    </tr>\n",
       "  </tbody>\n",
       "</table>\n",
       "</div>"
      ],
      "text/plain": [
       "                                                 App        Category  Rating  \\\n",
       "0     Photo Editor & Candy Camera & Grid & ScrapBook  ART_AND_DESIGN     4.1   \n",
       "1                                Coloring book moana  ART_AND_DESIGN     3.9   \n",
       "2  U Launcher Lite – FREE Live Cool Themes, Hide ...  ART_AND_DESIGN     4.7   \n",
       "3                              Sketch - Draw & Paint  ART_AND_DESIGN     4.5   \n",
       "4              Pixel Draw - Number Art Coloring Book  ART_AND_DESIGN     4.3   \n",
       "\n",
       "   Reviews        Size  Installs  Type  Price Content Rating  \\\n",
       "0      159  19000000.0     10000     0    0.0       Everyone   \n",
       "1      967  14000000.0    500000     0    0.0       Everyone   \n",
       "2    87510   8700000.0   5000000     0    0.0       Everyone   \n",
       "3   215644  25000000.0  50000000     0    0.0           Teen   \n",
       "4      967   2800000.0    100000     0    0.0       Everyone   \n",
       "\n",
       "                      Genres      Last Updated         Current Ver  \\\n",
       "0               Art & Design   January 7, 2018               1.0.0   \n",
       "1  Art & Design;Pretend Play  January 15, 2018               2.0.0   \n",
       "2               Art & Design    August 1, 2018               1.2.4   \n",
       "3               Art & Design      June 8, 2018  Varies with device   \n",
       "4    Art & Design;Creativity     June 20, 2018                 1.1   \n",
       "\n",
       "    Android Ver  \n",
       "0  4.0.3 and up  \n",
       "1  4.0.3 and up  \n",
       "2  4.0.3 and up  \n",
       "3    4.2 and up  \n",
       "4    4.4 and up  "
      ]
     },
     "execution_count": 16,
     "metadata": {},
     "output_type": "execute_result"
    }
   ],
   "source": [
    "gplay.head()"
   ]
  },
  {
   "cell_type": "code",
   "execution_count": 17,
   "metadata": {},
   "outputs": [
    {
     "name": "stdout",
     "output_type": "stream",
     "text": [
      "<class 'pandas.core.frame.DataFrame'>\n",
      "Int64Index: 9360 entries, 0 to 10840\n",
      "Data columns (total 13 columns):\n",
      "App               9360 non-null object\n",
      "Category          9360 non-null object\n",
      "Rating            9360 non-null float64\n",
      "Reviews           9360 non-null int32\n",
      "Size              9360 non-null float64\n",
      "Installs          9360 non-null int64\n",
      "Type              9360 non-null int64\n",
      "Price             9360 non-null float64\n",
      "Content Rating    9360 non-null object\n",
      "Genres            9360 non-null object\n",
      "Last Updated      9360 non-null object\n",
      "Current Ver       9360 non-null object\n",
      "Android Ver       9360 non-null object\n",
      "dtypes: float64(3), int32(1), int64(2), object(7)\n",
      "memory usage: 987.2+ KB\n"
     ]
    }
   ],
   "source": [
    "gplay.info()"
   ]
  },
  {
   "cell_type": "code",
   "execution_count": 18,
   "metadata": {},
   "outputs": [
    {
     "data": {
      "text/html": [
       "<div>\n",
       "<style scoped>\n",
       "    .dataframe tbody tr th:only-of-type {\n",
       "        vertical-align: middle;\n",
       "    }\n",
       "\n",
       "    .dataframe tbody tr th {\n",
       "        vertical-align: top;\n",
       "    }\n",
       "\n",
       "    .dataframe thead th {\n",
       "        text-align: right;\n",
       "    }\n",
       "</style>\n",
       "<table border=\"1\" class=\"dataframe\">\n",
       "  <thead>\n",
       "    <tr style=\"text-align: right;\">\n",
       "      <th></th>\n",
       "      <th>Rating</th>\n",
       "      <th>Reviews</th>\n",
       "      <th>Size</th>\n",
       "      <th>Installs</th>\n",
       "      <th>Type</th>\n",
       "      <th>Price</th>\n",
       "    </tr>\n",
       "  </thead>\n",
       "  <tbody>\n",
       "    <tr>\n",
       "      <th>count</th>\n",
       "      <td>9360.000000</td>\n",
       "      <td>9.360000e+03</td>\n",
       "      <td>9.360000e+03</td>\n",
       "      <td>9.360000e+03</td>\n",
       "      <td>9360.000000</td>\n",
       "      <td>9360.000000</td>\n",
       "    </tr>\n",
       "    <tr>\n",
       "      <th>mean</th>\n",
       "      <td>4.191838</td>\n",
       "      <td>5.143767e+05</td>\n",
       "      <td>2.373330e+07</td>\n",
       "      <td>1.790875e+07</td>\n",
       "      <td>0.068910</td>\n",
       "      <td>0.961279</td>\n",
       "    </tr>\n",
       "    <tr>\n",
       "      <th>std</th>\n",
       "      <td>0.515263</td>\n",
       "      <td>3.145023e+06</td>\n",
       "      <td>2.326294e+07</td>\n",
       "      <td>9.126637e+07</td>\n",
       "      <td>0.253315</td>\n",
       "      <td>15.821640</td>\n",
       "    </tr>\n",
       "    <tr>\n",
       "      <th>min</th>\n",
       "      <td>1.000000</td>\n",
       "      <td>1.000000e+00</td>\n",
       "      <td>1.000000e+06</td>\n",
       "      <td>1.000000e+00</td>\n",
       "      <td>0.000000</td>\n",
       "      <td>0.000000</td>\n",
       "    </tr>\n",
       "    <tr>\n",
       "      <th>25%</th>\n",
       "      <td>4.000000</td>\n",
       "      <td>1.867500e+02</td>\n",
       "      <td>6.000000e+06</td>\n",
       "      <td>1.000000e+04</td>\n",
       "      <td>0.000000</td>\n",
       "      <td>0.000000</td>\n",
       "    </tr>\n",
       "    <tr>\n",
       "      <th>50%</th>\n",
       "      <td>4.300000</td>\n",
       "      <td>5.955000e+03</td>\n",
       "      <td>1.500000e+07</td>\n",
       "      <td>5.000000e+05</td>\n",
       "      <td>0.000000</td>\n",
       "      <td>0.000000</td>\n",
       "    </tr>\n",
       "    <tr>\n",
       "      <th>75%</th>\n",
       "      <td>4.500000</td>\n",
       "      <td>8.162750e+04</td>\n",
       "      <td>3.400000e+07</td>\n",
       "      <td>5.000000e+06</td>\n",
       "      <td>0.000000</td>\n",
       "      <td>0.000000</td>\n",
       "    </tr>\n",
       "    <tr>\n",
       "      <th>max</th>\n",
       "      <td>5.000000</td>\n",
       "      <td>7.815831e+07</td>\n",
       "      <td>1.000000e+08</td>\n",
       "      <td>1.000000e+09</td>\n",
       "      <td>1.000000</td>\n",
       "      <td>400.000000</td>\n",
       "    </tr>\n",
       "  </tbody>\n",
       "</table>\n",
       "</div>"
      ],
      "text/plain": [
       "            Rating       Reviews          Size      Installs         Type  \\\n",
       "count  9360.000000  9.360000e+03  9.360000e+03  9.360000e+03  9360.000000   \n",
       "mean      4.191838  5.143767e+05  2.373330e+07  1.790875e+07     0.068910   \n",
       "std       0.515263  3.145023e+06  2.326294e+07  9.126637e+07     0.253315   \n",
       "min       1.000000  1.000000e+00  1.000000e+06  1.000000e+00     0.000000   \n",
       "25%       4.000000  1.867500e+02  6.000000e+06  1.000000e+04     0.000000   \n",
       "50%       4.300000  5.955000e+03  1.500000e+07  5.000000e+05     0.000000   \n",
       "75%       4.500000  8.162750e+04  3.400000e+07  5.000000e+06     0.000000   \n",
       "max       5.000000  7.815831e+07  1.000000e+08  1.000000e+09     1.000000   \n",
       "\n",
       "             Price  \n",
       "count  9360.000000  \n",
       "mean      0.961279  \n",
       "std      15.821640  \n",
       "min       0.000000  \n",
       "25%       0.000000  \n",
       "50%       0.000000  \n",
       "75%       0.000000  \n",
       "max     400.000000  "
      ]
     },
     "execution_count": 18,
     "metadata": {},
     "output_type": "execute_result"
    }
   ],
   "source": [
    "gplay.describe()"
   ]
  },
  {
   "cell_type": "code",
   "execution_count": 19,
   "metadata": {},
   "outputs": [
    {
     "data": {
      "text/plain": [
       "array([[<matplotlib.axes._subplots.AxesSubplot object at 0x000001FE286205C8>,\n",
       "        <matplotlib.axes._subplots.AxesSubplot object at 0x000001FE2A065A08>],\n",
       "       [<matplotlib.axes._subplots.AxesSubplot object at 0x000001FE2A09EA88>,\n",
       "        <matplotlib.axes._subplots.AxesSubplot object at 0x000001FE2A0D5B88>],\n",
       "       [<matplotlib.axes._subplots.AxesSubplot object at 0x000001FE2A37FCC8>,\n",
       "        <matplotlib.axes._subplots.AxesSubplot object at 0x000001FE2A3B8C88>]],\n",
       "      dtype=object)"
      ]
     },
     "execution_count": 19,
     "metadata": {},
     "output_type": "execute_result"
    },
    {
     "data": {
      "image/png": "[encoded data removed]",
      "text/plain": [
       "<Figure size 1440x1080 with 6 Axes>"
      ]
     },
     "metadata": {
      "needs_background": "light"
     },
     "output_type": "display_data"
    }
   ],
   "source": [
    "%matplotlib inline\n",
    "gplay.hist(bins=40, figsize=(20,15))"
   ]
  },
  {
   "cell_type": "markdown",
   "metadata": {},
   "source": [
    "From the histograms, we find out that:\n",
    "- the **Everyone** Content rating is dominating the app store just like what we figured out from the pie chart.\n",
    "- not everyone who rated an app wrote a review.\n",
    "- the app store are mostly free apps."
   ]
  },
  {
   "cell_type": "markdown",
   "metadata": {},
   "source": [
    "# Create a Test Set\n",
    "\n",
    "After Taking a quick look at the Data Structure of our attributes and changing some of them to get a better visualization and be able to get the most out of them when fed into a machine learning algorithm, we will now create a Test set before taking any major steps."
   ]
  },
  {
   "cell_type": "markdown",
   "metadata": {},
   "source": [
    "We will create a test set now before we find any intersting patterns that maybe will influence us to select a particular kind of Machine Learning model which may in turn give us an optimistic estimate, which will make our system not perform as well as expected after launch due to **Snooping bias**."
   ]
  },
  {
   "cell_type": "markdown",
   "metadata": {},
   "source": [
    "We will need make another assumption here to create a Test set which isn't skewed, with no bias, and representative for the whole data set, we will be using **Stratified sampling** on `'Category'` feature assuming it is the most important feature for the rating dataset. \n",
    "**Stratified sampling** is in most cases a much better option than **Random sampling** which can be skewed.\n",
    "\n",
    "- **Random sampling** involves the random selection of data from the entire population so each possible sample is equally likely to occur. \n",
    "- **Stratified sampling** divides the population into smaller groups, or strata, based on shared characteristics."
   ]
  },
  {
   "cell_type": "code",
   "execution_count": 20,
   "metadata": {},
   "outputs": [
    {
     "data": {
      "text/plain": [
       "<matplotlib.axes._subplots.AxesSubplot at 0x1fe2b8bf748>"
      ]
     },
     "execution_count": 20,
     "metadata": {},
     "output_type": "execute_result"
    },
    {
     "data": {
      "image/png": "[encoded data removed]",
      "text/plain": [
       "<Figure size 432x288 with 1 Axes>"
      ]
     },
     "metadata": {
      "needs_background": "light"
     },
     "output_type": "display_data"
    }
   ],
   "source": [
    "gplay_cat = gplay[[\"Category\"]]\n",
    "\n",
    "from sklearn.preprocessing import OrdinalEncoder\n",
    "ordinal_encoder = OrdinalEncoder()\n",
    "gplay_cat_encoded = ordinal_encoder.fit_transform(gplay_cat)\n",
    "gplay[\"Category_cat\"] = gplay_cat_encoded\n",
    "gplay[\"Category_cat\"].hist()"
   ]
  },
  {
   "cell_type": "markdown",
   "metadata": {},
   "source": [
    "To get a list of the caregories represented, use the following:"
   ]
  },
  {
   "cell_type": "code",
   "execution_count": 21,
   "metadata": {
    "scrolled": true
   },
   "outputs": [
    {
     "data": {
      "text/plain": [
       "[array(['ART_AND_DESIGN', 'AUTO_AND_VEHICLES', 'BEAUTY',\n",
       "        'BOOKS_AND_REFERENCE', 'BUSINESS', 'COMICS', 'COMMUNICATION',\n",
       "        'DATING', 'EDUCATION', 'ENTERTAINMENT', 'EVENTS', 'FAMILY',\n",
       "        'FINANCE', 'FOOD_AND_DRINK', 'GAME', 'HEALTH_AND_FITNESS',\n",
       "        'HOUSE_AND_HOME', 'LIBRARIES_AND_DEMO', 'LIFESTYLE',\n",
       "        'MAPS_AND_NAVIGATION', 'MEDICAL', 'NEWS_AND_MAGAZINES',\n",
       "        'PARENTING', 'PERSONALIZATION', 'PHOTOGRAPHY', 'PRODUCTIVITY',\n",
       "        'SHOPPING', 'SOCIAL', 'SPORTS', 'TOOLS', 'TRAVEL_AND_LOCAL',\n",
       "        'VIDEO_PLAYERS', 'WEATHER'], dtype=object)]"
      ]
     },
     "execution_count": 21,
     "metadata": {},
     "output_type": "execute_result"
    }
   ],
   "source": [
    "ordinal_encoder.categories_"
   ]
  },
  {
   "cell_type": "code",
   "execution_count": 22,
   "metadata": {},
   "outputs": [
    {
     "name": "stderr",
     "output_type": "stream",
     "text": [
      "C:\\Users\\Admin\\Anaconda3\\lib\\site-packages\\ipykernel_launcher.py:5: FutureWarning: \n",
      "Passing list-likes to .loc or [] with any missing label will raise\n",
      "KeyError in the future, you can use .reindex() as an alternative.\n",
      "\n",
      "See the documentation here:\n",
      "https://pandas.pydata.org/pandas-docs/stable/user_guide/indexing.html#deprecate-loc-reindex-listlike\n",
      "  \"\"\"\n",
      "C:\\Users\\Admin\\Anaconda3\\lib\\site-packages\\ipykernel_launcher.py:6: FutureWarning: \n",
      "Passing list-likes to .loc or [] with any missing label will raise\n",
      "KeyError in the future, you can use .reindex() as an alternative.\n",
      "\n",
      "See the documentation here:\n",
      "https://pandas.pydata.org/pandas-docs/stable/user_guide/indexing.html#deprecate-loc-reindex-listlike\n",
      "  \n"
     ]
    }
   ],
   "source": [
    "from sklearn.model_selection import StratifiedShuffleSplit\n",
    "\n",
    "split = StratifiedShuffleSplit(n_splits=1, test_size=0.2, random_state=42)\n",
    "for train_index, test_index in split.split(gplay, gplay[\"Category_cat\"]):\n",
    "    strat_train_set = gplay.loc[train_index]\n",
    "    strat_test_set = gplay.loc[test_index]"
   ]
  },
  {
   "cell_type": "markdown",
   "metadata": {},
   "source": [
    "Now, lets check and see if the test_set follows histogram of `Category_cat` for the full dataset."
   ]
  },
  {
   "cell_type": "code",
   "execution_count": 23,
   "metadata": {},
   "outputs": [
    {
     "data": {
      "text/plain": [
       "11.0    0.159722\n",
       "14.0    0.098291\n",
       "29.0    0.068376\n",
       "20.0    0.040598\n",
       "25.0    0.033120\n",
       "24.0    0.033120\n",
       "12.0    0.030983\n",
       "15.0    0.028846\n",
       "26.0    0.027778\n",
       "23.0    0.027778\n",
       "4.0     0.027778\n",
       "18.0    0.027244\n",
       "6.0     0.026175\n",
       "27.0    0.025641\n",
       "28.0    0.022436\n",
       "3.0     0.021368\n",
       "7.0     0.019231\n",
       "31.0    0.019231\n",
       "8.0     0.017628\n",
       "30.0    0.017628\n",
       "21.0    0.014957\n",
       "9.0     0.014957\n",
       "13.0    0.012286\n",
       "19.0    0.011218\n",
       "16.0    0.008547\n",
       "1.0     0.008013\n",
       "32.0    0.008013\n",
       "5.0     0.007479\n",
       "17.0    0.005876\n",
       "22.0    0.004808\n",
       "10.0    0.004274\n",
       "0.0     0.004274\n",
       "2.0     0.003739\n",
       "Name: Category_cat, dtype: float64"
      ]
     },
     "execution_count": 23,
     "metadata": {},
     "output_type": "execute_result"
    }
   ],
   "source": [
    "strat_test_set[\"Category_cat\"].value_counts() / len(strat_test_set)"
   ]
  },
  {
   "cell_type": "markdown",
   "metadata": {},
   "source": [
    "After making our desired test_set, we can now drop the new attribute `'Category_cat'` to get the original databack."
   ]
  },
  {
   "cell_type": "code",
   "execution_count": 24,
   "metadata": {},
   "outputs": [],
   "source": [
    "for set_ in (strat_train_set, strat_test_set):\n",
    "    set_.drop(\"Category_cat\", axis=1, inplace=True)"
   ]
  },
  {
   "cell_type": "markdown",
   "metadata": {},
   "source": [
    "## Discover and Visualize\n",
    "After putting the test_set aside, we can go into more depth in exploring the train_set. Since our data set is quite small, we can work directly on the full set. First we will need a copy to not alter the original dataset"
   ]
  },
  {
   "cell_type": "code",
   "execution_count": 25,
   "metadata": {},
   "outputs": [],
   "source": [
    "gplay = strat_train_set.copy()"
   ]
  },
  {
   "cell_type": "markdown",
   "metadata": {},
   "source": [
    "Now, we can look for how much each attribute correlates with `'Rating'` attribute."
   ]
  },
  {
   "cell_type": "code",
   "execution_count": 26,
   "metadata": {},
   "outputs": [
    {
     "data": {
      "text/plain": [
       "Rating      1.000000\n",
       "Size        0.086284\n",
       "Reviews     0.064944\n",
       "Installs    0.047218\n",
       "Type        0.036922\n",
       "Price      -0.026860\n",
       "Name: Rating, dtype: float64"
      ]
     },
     "execution_count": 26,
     "metadata": {},
     "output_type": "execute_result"
    }
   ],
   "source": [
    "corr_matrix = gplay.corr()\n",
    "corr_matrix[\"Rating\"].sort_values(ascending=False)"
   ]
  },
  {
   "cell_type": "markdown",
   "metadata": {},
   "source": [
    "We will start by looking for any evident relationships or patterns between the attributes."
   ]
  },
  {
   "cell_type": "code",
   "execution_count": 27,
   "metadata": {
    "scrolled": false
   },
   "outputs": [
    {
     "name": "stderr",
     "output_type": "stream",
     "text": [
      "C:\\Users\\Admin\\Anaconda3\\lib\\site-packages\\seaborn\\distributions.py:288: UserWarning: Data must have variance to compute a kernel density estimate.\n",
      "  warnings.warn(msg, UserWarning)\n"
     ]
    },
    {
     "data": {
      "image/png": "[encoded data removed]",
      "text/plain": [
       "<Figure size 1314.97x1260 with 30 Axes>"
      ]
     },
     "metadata": {},
     "output_type": "display_data"
    }
   ],
   "source": [
    "import seaborn as sb\n",
    "sb.set(style=\"ticks\")\n",
    "attributes = [\"Rating\", \"Size\", \"Reviews\", \"Installs\", \"Price\"]\n",
    "figure = sb.pairplot(gplay, vars=attributes, height=3.5, hue=\"Type\", markers=[\"o\", \"d\"], kind=\"reg\")\n",
    "figure.savefig(\"relationships.png\")"
   ]
  },
  {
   "cell_type": "markdown",
   "metadata": {},
   "source": [
    "- `0` represents **free** apps.\n",
    "- `1` represents **paid** apps."
   ]
  },
  {
   "cell_type": "markdown",
   "metadata": {},
   "source": [
    "We can now experiment with some attribute combinations, so we can maybe get a more intersting attribute."
   ]
  },
  {
   "cell_type": "code",
   "execution_count": 28,
   "metadata": {},
   "outputs": [],
   "source": [
    "gplay[\"review_per_install\"]=gplay[\"Reviews\"]/gplay[\"Installs\"]\n",
    "gplay[\"size_per_install\"]=gplay[\"Size\"]/gplay[\"Installs\"]\n",
    "gplay[\"price_per_install\"]=gplay[\"Price\"]/gplay[\"Installs\"]"
   ]
  },
  {
   "cell_type": "code",
   "execution_count": 29,
   "metadata": {
    "scrolled": true
   },
   "outputs": [
    {
     "data": {
      "text/plain": [
       "Rating                1.000000\n",
       "review_per_install    0.209966\n",
       "Size                  0.086284\n",
       "Reviews               0.064944\n",
       "size_per_install      0.057274\n",
       "Installs              0.047218\n",
       "Type                  0.036922\n",
       "price_per_install     0.019932\n",
       "Price                -0.026860\n",
       "Name: Rating, dtype: float64"
      ]
     },
     "execution_count": 29,
     "metadata": {},
     "output_type": "execute_result"
    }
   ],
   "source": [
    "corr_matrix = gplay.corr()\n",
    "corr_matrix[\"Rating\"].sort_values(ascending=False)"
   ]
  },
  {
   "cell_type": "markdown",
   "metadata": {},
   "source": [
    "From taking a look at the correlation matrix, we find out that:\n",
    "- `'review_per_install'` is much more correlated with the `'Rating'` attribute than `'Reviews'` or `'Installs'`.\n",
    "\n",
    "But the other combinations didn't help as much, we will do more testing before making a decision but more on that later."
   ]
  },
  {
   "cell_type": "markdown",
   "metadata": {},
   "source": [
    "## Preparing the Data for Machine Learning"
   ]
  },
  {
   "cell_type": "markdown",
   "metadata": {},
   "source": [
    "### Data Cleaning\n",
    "Let's revert to our clean training set to start applying transformation to it."
   ]
  },
  {
   "cell_type": "code",
   "execution_count": 30,
   "metadata": {},
   "outputs": [
    {
     "data": {
      "text/html": [
       "<div>\n",
       "<style scoped>\n",
       "    .dataframe tbody tr th:only-of-type {\n",
       "        vertical-align: middle;\n",
       "    }\n",
       "\n",
       "    .dataframe tbody tr th {\n",
       "        vertical-align: top;\n",
       "    }\n",
       "\n",
       "    .dataframe thead th {\n",
       "        text-align: right;\n",
       "    }\n",
       "</style>\n",
       "<table border=\"1\" class=\"dataframe\">\n",
       "  <thead>\n",
       "    <tr style=\"text-align: right;\">\n",
       "      <th></th>\n",
       "      <th>App</th>\n",
       "      <th>Category</th>\n",
       "      <th>Reviews</th>\n",
       "      <th>Size</th>\n",
       "      <th>Installs</th>\n",
       "      <th>Type</th>\n",
       "      <th>Price</th>\n",
       "      <th>Content Rating</th>\n",
       "      <th>Genres</th>\n",
       "      <th>Last Updated</th>\n",
       "      <th>Current Ver</th>\n",
       "      <th>Android Ver</th>\n",
       "    </tr>\n",
       "  </thead>\n",
       "  <tbody>\n",
       "    <tr>\n",
       "      <th>8665</th>\n",
       "      <td>How well do you know me?</td>\n",
       "      <td>GAME</td>\n",
       "      <td>1290.0</td>\n",
       "      <td>6400000.0</td>\n",
       "      <td>100000.0</td>\n",
       "      <td>0.0</td>\n",
       "      <td>0.0</td>\n",
       "      <td>Everyone</td>\n",
       "      <td>Word</td>\n",
       "      <td>July 26, 2018</td>\n",
       "      <td>2.3.0</td>\n",
       "      <td>4.1 and up</td>\n",
       "    </tr>\n",
       "    <tr>\n",
       "      <th>1152</th>\n",
       "      <td>GoBank</td>\n",
       "      <td>FINANCE</td>\n",
       "      <td>5950.0</td>\n",
       "      <td>12000000.0</td>\n",
       "      <td>500000.0</td>\n",
       "      <td>0.0</td>\n",
       "      <td>0.0</td>\n",
       "      <td>Everyone</td>\n",
       "      <td>Finance</td>\n",
       "      <td>June 1, 2018</td>\n",
       "      <td>2.131</td>\n",
       "      <td>4.1 and up</td>\n",
       "    </tr>\n",
       "    <tr>\n",
       "      <th>6134</th>\n",
       "      <td>Photo BG Changer</td>\n",
       "      <td>PHOTOGRAPHY</td>\n",
       "      <td>11.0</td>\n",
       "      <td>17000000.0</td>\n",
       "      <td>1000.0</td>\n",
       "      <td>0.0</td>\n",
       "      <td>0.0</td>\n",
       "      <td>Everyone</td>\n",
       "      <td>Photography</td>\n",
       "      <td>February 21, 2018</td>\n",
       "      <td>1.3</td>\n",
       "      <td>4.1 and up</td>\n",
       "    </tr>\n",
       "    <tr>\n",
       "      <th>7882</th>\n",
       "      <td>NaN</td>\n",
       "      <td>NaN</td>\n",
       "      <td>NaN</td>\n",
       "      <td>NaN</td>\n",
       "      <td>NaN</td>\n",
       "      <td>NaN</td>\n",
       "      <td>NaN</td>\n",
       "      <td>NaN</td>\n",
       "      <td>NaN</td>\n",
       "      <td>NaN</td>\n",
       "      <td>NaN</td>\n",
       "      <td>NaN</td>\n",
       "    </tr>\n",
       "    <tr>\n",
       "      <th>3246</th>\n",
       "      <td>File Manager</td>\n",
       "      <td>TOOLS</td>\n",
       "      <td>739329.0</td>\n",
       "      <td>5300000.0</td>\n",
       "      <td>50000000.0</td>\n",
       "      <td>0.0</td>\n",
       "      <td>0.0</td>\n",
       "      <td>Everyone</td>\n",
       "      <td>Tools</td>\n",
       "      <td>April 17, 2018</td>\n",
       "      <td>Varies with device</td>\n",
       "      <td>Varies with device</td>\n",
       "    </tr>\n",
       "  </tbody>\n",
       "</table>\n",
       "</div>"
      ],
      "text/plain": [
       "                           App     Category   Reviews        Size    Installs  \\\n",
       "8665  How well do you know me?         GAME    1290.0   6400000.0    100000.0   \n",
       "1152                    GoBank      FINANCE    5950.0  12000000.0    500000.0   \n",
       "6134          Photo BG Changer  PHOTOGRAPHY      11.0  17000000.0      1000.0   \n",
       "7882                       NaN          NaN       NaN         NaN         NaN   \n",
       "3246              File Manager        TOOLS  739329.0   5300000.0  50000000.0   \n",
       "\n",
       "      Type  Price Content Rating       Genres       Last Updated  \\\n",
       "8665   0.0    0.0       Everyone         Word      July 26, 2018   \n",
       "1152   0.0    0.0       Everyone      Finance       June 1, 2018   \n",
       "6134   0.0    0.0       Everyone  Photography  February 21, 2018   \n",
       "7882   NaN    NaN            NaN          NaN                NaN   \n",
       "3246   0.0    0.0       Everyone        Tools     April 17, 2018   \n",
       "\n",
       "             Current Ver         Android Ver  \n",
       "8665               2.3.0          4.1 and up  \n",
       "1152               2.131          4.1 and up  \n",
       "6134                 1.3          4.1 and up  \n",
       "7882                 NaN                 NaN  \n",
       "3246  Varies with device  Varies with device  "
      ]
     },
     "execution_count": 30,
     "metadata": {},
     "output_type": "execute_result"
    }
   ],
   "source": [
    "gplay = strat_train_set.drop(\"Rating\", axis=1) # drop labels for training set\n",
    "gplay_labels = strat_train_set[\"Rating\"].copy()\n",
    "gplay.head()"
   ]
  },
  {
   "cell_type": "markdown",
   "metadata": {},
   "source": [
    "Since Most Machine Learning algorithms cannot work with missing features, we will have to deal with the missing values. First lets check how many NaN values are there in each feature."
   ]
  },
  {
   "cell_type": "code",
   "execution_count": 31,
   "metadata": {},
   "outputs": [
    {
     "data": {
      "text/plain": [
       "App               918\n",
       "Category          918\n",
       "Reviews           918\n",
       "Size              918\n",
       "Installs          918\n",
       "Type              918\n",
       "Price             918\n",
       "Content Rating    918\n",
       "Genres            918\n",
       "Last Updated      918\n",
       "Current Ver       918\n",
       "Android Ver       918\n",
       "dtype: int64"
      ]
     },
     "execution_count": 31,
     "metadata": {},
     "output_type": "execute_result"
    }
   ],
   "source": [
    "# np.any(np.isnan(mat))\n",
    "# np.all(np.isfinite(mat))\n",
    "\n",
    "gplay.isnull().sum()"
   ]
  },
  {
   "cell_type": "markdown",
   "metadata": {},
   "source": [
    "These NaN values resulted from splitting the dataset, so we will have to drop them in this case as they are NaN instances 'apps' rather than some missing values. However, in most cases we can:\n",
    "- if there is a lot of missing values we can drop the whole attribute.\n",
    "- if there is only some missing values, we can either swap the NaN values to some other value (like for example 0's or the mean for this attribute), or get rid of the corresponding apps."
   ]
  },
  {
   "cell_type": "code",
   "execution_count": 32,
   "metadata": {},
   "outputs": [
    {
     "data": {
      "text/plain": [
       "App               0\n",
       "Category          0\n",
       "Reviews           0\n",
       "Size              0\n",
       "Installs          0\n",
       "Type              0\n",
       "Price             0\n",
       "Content Rating    0\n",
       "Genres            0\n",
       "Last Updated      0\n",
       "Current Ver       0\n",
       "Android Ver       0\n",
       "dtype: int64"
      ]
     },
     "execution_count": 32,
     "metadata": {},
     "output_type": "execute_result"
    }
   ],
   "source": [
    "gplay.dropna(inplace=True)\n",
    "gplay_labels.dropna(inplace=True)\n",
    "gplay.isnull().sum()"
   ]
  },
  {
   "cell_type": "markdown",
   "metadata": {},
   "source": [
    "#### Assumptions\n",
    "The features: `'App'`, `'Last Updated'`, `'Current Ver'`, and `'Android Ver'` will have a little to no effect on the training algorithm as they are in my opinion not an important aspect when looking into installing a new app.\n",
    "- **App:** this contains the app name, and you can make a strong argument it is a needed attribute, but I don't think it is needed for the sake of simplicity.\n",
    "- **Last Updated:** this can mean that it is a final product and it needs no further improvment or fixes, but can also mean it is abandoned.\n",
    "* **Current Ver:** this will be different from app to app depending on the developers, so there is no point keeping it.\n",
    "* **Android Ver:** most of the time, users who can already install the app on their phone and hence do not have an older version of andriord, will only rate the app, also it is backward compatiable so no point in keeping it either."
   ]
  },
  {
   "cell_type": "code",
   "execution_count": 33,
   "metadata": {},
   "outputs": [],
   "source": [
    "gplay.drop(labels = ['App', 'Last Updated','Current Ver','Android Ver'], axis = 1, inplace = True)"
   ]
  },
  {
   "cell_type": "markdown",
   "metadata": {},
   "source": [
    "### Transformers\n",
    "Lets add the transformers we will be using, we will start by **one-hot encoding** transformer, which convert categorical values into SciPy **sparse matrix** (one-hot vectors).<br> <br>\n",
    "**a sparse matrix:** is a matrix in which most of the elements are zero. <br> <br>\n",
    "We will use it later on `'Category'` and `'Generes'` attributes, we only need to initalize it for now.\n",
    "\n",
    "**one-hot encoding**: when there are several features for each record that are non-numeric. Typically, learning algorithms expect input to be numeric, which requires that non-numeric features (called *categorical variables*) be converted. One popular way to convert categorical variables is by using the **one-hot encoding** scheme. One-hot encoding creates a _\"dummy\"_ variable for each possible category of each non-numeric feature. For example, assume `someFeature` has three possible entries: `A`, `B`, or `C`. We then encode this feature into `someFeature_A`, `someFeature_B` and `someFeature_C`.\n",
    "\n",
    "|   | someFeature |                    | someFeature_A | someFeature_B | someFeature_C |\n",
    "| :-: | :-: |                            | :-: | :-: | :-: |\n",
    "| 0 |  B  |  | 0 | 1 | 0 |\n",
    "| 1 |  C  | ----> one-hot encode ----> | 0 | 0 | 1 |\n",
    "| 2 |  A  |  | 1 | 0 | 0 |\n"
   ]
  },
  {
   "cell_type": "code",
   "execution_count": 34,
   "metadata": {},
   "outputs": [],
   "source": [
    "from sklearn.preprocessing import OneHotEncoder\n",
    "cat_encoder = OneHotEncoder()\n",
    "\n",
    "# gplay_cat = gplay[[\"Category\"]]\n",
    "# gplay_cat_1hot = cat_encoder.fit_transform(gplay_cat)\n",
    "# gplay_cat_1hot.toarray()\n",
    "# cat_encoder.categories_\n",
    "\n",
    "#WARNING MSG \n",
    "#np.seterr(divide='ignore', invalid='ignore')\n",
    "#np.errstate(divide='ignore',invalid='ignore') # for a block of code"
   ]
  },
  {
   "cell_type": "markdown",
   "metadata": {},
   "source": [
    "We can add now our **custom transformer**, we will need it to combine the attributes that we got earlier.\n",
    "We need it to work seamlessly with Scikit-Learn functionalities, so we need to create a class and implement three methods:\n",
    "- fit() .\n",
    "- transform() .\n",
    "- fit_transform() .\n",
    "\n",
    "We will make each new combined attribute as a **hyperparameter**, which will allow us to easily find out whether adding this attribute helps the Machine Learning algorithms or not. <br><br>\n",
    " **hyperparameter** is a parameter whose value is set before the learning process begins."
   ]
  },
  {
   "cell_type": "code",
   "execution_count": 35,
   "metadata": {},
   "outputs": [],
   "source": [
    "from sklearn.base import BaseEstimator, TransformerMixin\n",
    "\n",
    "reviews_ix = gplay.columns.get_loc(\"Reviews\")\n",
    "installs_ix = gplay.columns.get_loc(\"Installs\")\n",
    "size_ix = gplay.columns.get_loc(\"Size\")\n",
    "price_ix = gplay.columns.get_loc(\"Price\")\n",
    "\n",
    "class CombinedAttributesAdder(BaseEstimator, TransformerMixin):\n",
    "    def __init__(self, add_review_per_install=True, add_size_per_install=True, add_price_per_install=True):\n",
    "        # no *args or **kargs\n",
    "        self.add_review_per_install = add_review_per_install\n",
    "        self.add_size_per_install = add_size_per_install\n",
    "        self.add_price_per_install = add_price_per_install\n",
    "        \n",
    "    def fit(self, X, y=None):\n",
    "        return self # nothing else to do\n",
    "    \n",
    "    def transform(self, X):\n",
    "        y = np.c_[X]\n",
    "        if self.add_review_per_install:\n",
    "            review_per_install = X[:, reviews_ix] / X[:, installs_ix]\n",
    "            y = np.c_[y, review_per_install]\n",
    "        if self.add_size_per_install:\n",
    "            size_per_install = X[:, size_ix] / X[:, installs_ix]\n",
    "            y = np.c_[y, size_per_install]\n",
    "        if self.add_price_per_install:\n",
    "            install_per_price = X[:, price_ix] / X[:, installs_ix]\n",
    "            y = np.c_[y, install_per_price]\n",
    "        return y\n",
    "\n"
   ]
  },
  {
   "cell_type": "markdown",
   "metadata": {},
   "source": [
    "For `'Content Rating'`, We will turn them into numeric values, because they have an order to them unlike `'Genres'` and `'Category'`."
   ]
  },
  {
   "cell_type": "code",
   "execution_count": 36,
   "metadata": {},
   "outputs": [],
   "source": [
    "'''\n",
    "# in case you wanted to do it manually\n",
    "rating_cat = gplay['Content Rating'].unique()\n",
    "rating_dict = {rating_cat[i]:i for i in range(len(rating_cat))}\n",
    "gplay['Content Rating'] = gplay['Content Rating'].map(rating_dict).astype(int)\n",
    "\n",
    "'''\n",
    "gplay_cat = gplay[[\"Content Rating\"]]\n",
    "\n",
    "ordinal_encoder = OrdinalEncoder()\n",
    "gplay_cat_encoded = ordinal_encoder.fit_transform(gplay_cat)\n",
    "gplay[\"Content Rating\"] = gplay_cat_encoded\n"
   ]
  },
  {
   "cell_type": "code",
   "execution_count": 37,
   "metadata": {
    "scrolled": true
   },
   "outputs": [
    {
     "data": {
      "text/plain": [
       "[array(['Adults only 18+', 'Everyone', 'Everyone 10+', 'Mature 17+',\n",
       "        'Teen', 'Unrated'], dtype=object)]"
      ]
     },
     "execution_count": 37,
     "metadata": {},
     "output_type": "execute_result"
    }
   ],
   "source": [
    "# gplay_cat_encoded[:10]\n",
    "ordinal_encoder.categories_"
   ]
  },
  {
   "cell_type": "markdown",
   "metadata": {},
   "source": [
    "### Transformation Pipelines\n",
    "Because we will be using many data transformations steps that need to be executed in the right order, We will use the **Pipeline** class from Scikit-Learn to help us with such task."
   ]
  },
  {
   "cell_type": "markdown",
   "metadata": {},
   "source": [
    "We will need to differentiate between our numerical attributes and categorical attributes, because each type will require different kind of transformations."
   ]
  },
  {
   "cell_type": "code",
   "execution_count": 38,
   "metadata": {},
   "outputs": [],
   "source": [
    "gplay_cat = [\"Category\", \"Genres\"]\n",
    "gplay_num = gplay.drop(gplay_cat, axis=1)\n",
    "num_attribs = list(gplay_num)\n",
    "cat_attribs = list(gplay_cat)"
   ]
  },
  {
   "cell_type": "markdown",
   "metadata": {},
   "source": [
    "We can start by making a small **pipeline** for the numerical attributes, **SimpleImputer** should compute the median value on the training set and use it to fill the missing values in the training set, then **StandardScaler** class will Normalize the training set, and finally combine our attributes using our custom transformer **CombinedAttributesAdder**.\n",
    "\n",
    "**StandardScaler** standardizes a feature by subtracting the mean and then scaling to unit variance. Unit variance means dividing all the values by the standard deviation."
   ]
  },
  {
   "cell_type": "code",
   "execution_count": 39,
   "metadata": {},
   "outputs": [],
   "source": [
    "from sklearn.pipeline import Pipeline\n",
    "from sklearn.preprocessing import StandardScaler\n",
    "from sklearn.impute import SimpleImputer\n",
    "\n",
    "num_pipeline = Pipeline([\n",
    "        ('imputer', SimpleImputer(strategy=\"mean\")),\n",
    "        ('std_scaler', StandardScaler()),\n",
    "        ('attribs_adder', CombinedAttributesAdder()),\n",
    "    ])\n",
    "\n",
    "#gplay_num_tr = num_pipeline.fit_transform(gplay_num)"
   ]
  },
  {
   "cell_type": "markdown",
   "metadata": {},
   "source": [
    "Now, Let's apply all the transformations to our data. **ColumnTransformer** applies each transformer to the appropriate\n",
    "columns and concatenates the outputs along the second axis."
   ]
  },
  {
   "cell_type": "code",
   "execution_count": 40,
   "metadata": {},
   "outputs": [],
   "source": [
    "from sklearn.compose import ColumnTransformer\n",
    "\n",
    "full_pipeline = ColumnTransformer([\n",
    "        (\"num\", num_pipeline, num_attribs),\n",
    "        (\"cat\", OneHotEncoder(), cat_attribs),\n",
    "    ])\n",
    "\n",
    "gplay_prepared = full_pipeline.fit_transform(gplay)"
   ]
  },
  {
   "cell_type": "markdown",
   "metadata": {},
   "source": [
    "looking at our final training set before starting with the Machine Learning Algorithms."
   ]
  },
  {
   "cell_type": "code",
   "execution_count": 41,
   "metadata": {},
   "outputs": [],
   "source": [
    "cat_cols = list(full_pipeline.transformers_[1][1].get_feature_names(cat_attribs))\n",
    "combined_cols = [\"price_per_install\", \"review_per_install\", \"size_per_install\"]"
   ]
  },
  {
   "cell_type": "code",
   "execution_count": 42,
   "metadata": {
    "scrolled": true
   },
   "outputs": [
    {
     "data": {
      "text/html": [
       "<div>\n",
       "<style scoped>\n",
       "    .dataframe tbody tr th:only-of-type {\n",
       "        vertical-align: middle;\n",
       "    }\n",
       "\n",
       "    .dataframe tbody tr th {\n",
       "        vertical-align: top;\n",
       "    }\n",
       "\n",
       "    .dataframe thead th {\n",
       "        text-align: right;\n",
       "    }\n",
       "</style>\n",
       "<table border=\"1\" class=\"dataframe\">\n",
       "  <thead>\n",
       "    <tr style=\"text-align: right;\">\n",
       "      <th></th>\n",
       "      <th>Reviews</th>\n",
       "      <th>Size</th>\n",
       "      <th>Installs</th>\n",
       "      <th>Type</th>\n",
       "      <th>Price</th>\n",
       "      <th>Content Rating</th>\n",
       "      <th>price_per_install</th>\n",
       "      <th>review_per_install</th>\n",
       "      <th>size_per_install</th>\n",
       "      <th>Category_ART_AND_DESIGN</th>\n",
       "      <th>...</th>\n",
       "      <th>Genres_Tools</th>\n",
       "      <th>Genres_Tools;Education</th>\n",
       "      <th>Genres_Travel &amp; Local</th>\n",
       "      <th>Genres_Travel &amp; Local;Action &amp; Adventure</th>\n",
       "      <th>Genres_Trivia</th>\n",
       "      <th>Genres_Video Players &amp; Editors</th>\n",
       "      <th>Genres_Video Players &amp; Editors;Creativity</th>\n",
       "      <th>Genres_Video Players &amp; Editors;Music &amp; Video</th>\n",
       "      <th>Genres_Weather</th>\n",
       "      <th>Genres_Word</th>\n",
       "    </tr>\n",
       "  </thead>\n",
       "  <tbody>\n",
       "    <tr>\n",
       "      <th>8665</th>\n",
       "      <td>-0.168157</td>\n",
       "      <td>-0.741520</td>\n",
       "      <td>-0.205721</td>\n",
       "      <td>-0.275025</td>\n",
       "      <td>-0.061729</td>\n",
       "      <td>-0.471717</td>\n",
       "      <td>2.696195</td>\n",
       "      <td>0.748010</td>\n",
       "      <td>1.715181</td>\n",
       "      <td>0.0</td>\n",
       "      <td>...</td>\n",
       "      <td>0.0</td>\n",
       "      <td>0.0</td>\n",
       "      <td>0.0</td>\n",
       "      <td>0.0</td>\n",
       "      <td>0.0</td>\n",
       "      <td>0.0</td>\n",
       "      <td>0.0</td>\n",
       "      <td>0.0</td>\n",
       "      <td>0.0</td>\n",
       "      <td>1.0</td>\n",
       "    </tr>\n",
       "    <tr>\n",
       "      <th>1152</th>\n",
       "      <td>-0.166805</td>\n",
       "      <td>-0.501112</td>\n",
       "      <td>-0.201672</td>\n",
       "      <td>-0.275025</td>\n",
       "      <td>-0.061729</td>\n",
       "      <td>-0.471717</td>\n",
       "      <td>1.822063</td>\n",
       "      <td>0.733287</td>\n",
       "      <td>1.715181</td>\n",
       "      <td>0.0</td>\n",
       "      <td>...</td>\n",
       "      <td>0.0</td>\n",
       "      <td>0.0</td>\n",
       "      <td>0.0</td>\n",
       "      <td>0.0</td>\n",
       "      <td>0.0</td>\n",
       "      <td>0.0</td>\n",
       "      <td>0.0</td>\n",
       "      <td>0.0</td>\n",
       "      <td>0.0</td>\n",
       "      <td>0.0</td>\n",
       "    </tr>\n",
       "    <tr>\n",
       "      <th>6134</th>\n",
       "      <td>-0.168528</td>\n",
       "      <td>-0.286462</td>\n",
       "      <td>-0.206723</td>\n",
       "      <td>-0.275025</td>\n",
       "      <td>-0.061729</td>\n",
       "      <td>-0.471717</td>\n",
       "      <td>1.041587</td>\n",
       "      <td>0.751653</td>\n",
       "      <td>1.715181</td>\n",
       "      <td>0.0</td>\n",
       "      <td>...</td>\n",
       "      <td>0.0</td>\n",
       "      <td>0.0</td>\n",
       "      <td>0.0</td>\n",
       "      <td>0.0</td>\n",
       "      <td>0.0</td>\n",
       "      <td>0.0</td>\n",
       "      <td>0.0</td>\n",
       "      <td>0.0</td>\n",
       "      <td>0.0</td>\n",
       "      <td>0.0</td>\n",
       "    </tr>\n",
       "    <tr>\n",
       "      <th>3246</th>\n",
       "      <td>0.045934</td>\n",
       "      <td>-0.788743</td>\n",
       "      <td>0.299400</td>\n",
       "      <td>-0.275025</td>\n",
       "      <td>-0.061729</td>\n",
       "      <td>-0.471717</td>\n",
       "      <td>2.867900</td>\n",
       "      <td>-1.088629</td>\n",
       "      <td>1.715181</td>\n",
       "      <td>0.0</td>\n",
       "      <td>...</td>\n",
       "      <td>1.0</td>\n",
       "      <td>0.0</td>\n",
       "      <td>0.0</td>\n",
       "      <td>0.0</td>\n",
       "      <td>0.0</td>\n",
       "      <td>0.0</td>\n",
       "      <td>0.0</td>\n",
       "      <td>0.0</td>\n",
       "      <td>0.0</td>\n",
       "      <td>0.0</td>\n",
       "    </tr>\n",
       "    <tr>\n",
       "      <th>5091</th>\n",
       "      <td>-0.168525</td>\n",
       "      <td>-0.599851</td>\n",
       "      <td>-0.206632</td>\n",
       "      <td>-0.275025</td>\n",
       "      <td>-0.061729</td>\n",
       "      <td>-0.471717</td>\n",
       "      <td>2.181081</td>\n",
       "      <td>0.751322</td>\n",
       "      <td>1.715181</td>\n",
       "      <td>0.0</td>\n",
       "      <td>...</td>\n",
       "      <td>0.0</td>\n",
       "      <td>0.0</td>\n",
       "      <td>0.0</td>\n",
       "      <td>0.0</td>\n",
       "      <td>0.0</td>\n",
       "      <td>0.0</td>\n",
       "      <td>0.0</td>\n",
       "      <td>0.0</td>\n",
       "      <td>0.0</td>\n",
       "      <td>0.0</td>\n",
       "    </tr>\n",
       "  </tbody>\n",
       "</table>\n",
       "<p>5 rows × 146 columns</p>\n",
       "</div>"
      ],
      "text/plain": [
       "       Reviews      Size  Installs      Type     Price  Content Rating  \\\n",
       "8665 -0.168157 -0.741520 -0.205721 -0.275025 -0.061729       -0.471717   \n",
       "1152 -0.166805 -0.501112 -0.201672 -0.275025 -0.061729       -0.471717   \n",
       "6134 -0.168528 -0.286462 -0.206723 -0.275025 -0.061729       -0.471717   \n",
       "3246  0.045934 -0.788743  0.299400 -0.275025 -0.061729       -0.471717   \n",
       "5091 -0.168525 -0.599851 -0.206632 -0.275025 -0.061729       -0.471717   \n",
       "\n",
       "      price_per_install  review_per_install  size_per_install  \\\n",
       "8665           2.696195            0.748010          1.715181   \n",
       "1152           1.822063            0.733287          1.715181   \n",
       "6134           1.041587            0.751653          1.715181   \n",
       "3246           2.867900           -1.088629          1.715181   \n",
       "5091           2.181081            0.751322          1.715181   \n",
       "\n",
       "      Category_ART_AND_DESIGN  ...  Genres_Tools  Genres_Tools;Education  \\\n",
       "8665                      0.0  ...           0.0                     0.0   \n",
       "1152                      0.0  ...           0.0                     0.0   \n",
       "6134                      0.0  ...           0.0                     0.0   \n",
       "3246                      0.0  ...           1.0                     0.0   \n",
       "5091                      0.0  ...           0.0                     0.0   \n",
       "\n",
       "      Genres_Travel & Local  Genres_Travel & Local;Action & Adventure  \\\n",
       "8665                    0.0                                       0.0   \n",
       "1152                    0.0                                       0.0   \n",
       "6134                    0.0                                       0.0   \n",
       "3246                    0.0                                       0.0   \n",
       "5091                    0.0                                       0.0   \n",
       "\n",
       "      Genres_Trivia  Genres_Video Players & Editors  \\\n",
       "8665            0.0                             0.0   \n",
       "1152            0.0                             0.0   \n",
       "6134            0.0                             0.0   \n",
       "3246            0.0                             0.0   \n",
       "5091            0.0                             0.0   \n",
       "\n",
       "      Genres_Video Players & Editors;Creativity  \\\n",
       "8665                                        0.0   \n",
       "1152                                        0.0   \n",
       "6134                                        0.0   \n",
       "3246                                        0.0   \n",
       "5091                                        0.0   \n",
       "\n",
       "      Genres_Video Players & Editors;Music & Video  Genres_Weather  \\\n",
       "8665                                           0.0             0.0   \n",
       "1152                                           0.0             0.0   \n",
       "6134                                           0.0             0.0   \n",
       "3246                                           0.0             0.0   \n",
       "5091                                           0.0             0.0   \n",
       "\n",
       "      Genres_Word  \n",
       "8665          1.0  \n",
       "1152          0.0  \n",
       "6134          0.0  \n",
       "3246          0.0  \n",
       "5091          0.0  \n",
       "\n",
       "[5 rows x 146 columns]"
      ]
     },
     "execution_count": 42,
     "metadata": {},
     "output_type": "execute_result"
    }
   ],
   "source": [
    "gplay_prepared_attribs = pd.DataFrame(\n",
    "    gplay_prepared.toarray(),\n",
    "    columns=num_attribs+combined_cols+cat_cols,\n",
    "    index=gplay.index)\n",
    "gplay_prepared_attribs.head()"
   ]
  },
  {
   "cell_type": "code",
   "execution_count": 43,
   "metadata": {},
   "outputs": [
    {
     "data": {
      "text/plain": [
       "(6570, 146)"
      ]
     },
     "execution_count": 43,
     "metadata": {},
     "output_type": "execute_result"
    }
   ],
   "source": [
    "gplay_prepared.shape"
   ]
  },
  {
   "cell_type": "markdown",
   "metadata": {},
   "source": [
    "we now have `146` features after applying every transformation:\n",
    "- `33` after one hot encoding the `'Category'` attribute .\n",
    "- `104` after one hot encoding the `'Generes'` attribute.\n",
    "- `6` for the numerical attributes (`'Reviews'`, `'Size'`, `'Installs'`, `'Type'`, `'Price'`, `'Content Rating'`).\n",
    "- `3` from the combined attributes we created (`'review_per_install'`, `'size_per_install'`, `'price_per_install'`)."
   ]
  },
  {
   "cell_type": "markdown",
   "metadata": {},
   "source": [
    "## Select and Train a Model\n",
    "We will investigate three different supervised algorithms, they are:\n",
    "- Linear Regression\n",
    "- Decision Tree\n",
    "- SVM\n",
    "- XGBoost"
   ]
  },
  {
   "cell_type": "markdown",
   "metadata": {},
   "source": [
    "Let's briefly talk about each model to understand them better, we will test them afterwards."
   ]
  },
  {
   "cell_type": "markdown",
   "metadata": {},
   "source": [
    "### 1) Linear Regression\n",
    "**Linear Regression** model is great for learning about the data analysis process. \n",
    "However, it isn’t recommended for most practical applications because it oversimplifies real world problems."
   ]
  },
  {
   "cell_type": "markdown",
   "metadata": {},
   "source": [
    "###  2) Decision Tree\n",
    "A **decision tree** is a managerial tool that presents all the decision alternatives and outcomes in a flowchart type of diagram, like a tree with branches and leaves. Each branch of the tree represents a decision option, its cost and the probability that it is likely to occur. The leaves at the end of the branches show the possible payoffs or outcomes. A decision tree illustrates graphically all the possible alternatives, probabilities and outcomes and identifies the benefits of using decision analysis. [1]<br><br>\n",
    "**Strengths of Decision Tree:**\n",
    "- Decision trees can handle both categorical and numerical variables at the same time as features. [2]\n",
    "- Nonlinear relationships between parameters do not affect tree performance [3]\n",
    "- Decision trees implicitly perform variable screening or feature selection [3]\n",
    "- The best feature of using trees for analytics - easy to interpret and explain to executives [3]\n",
    "\n",
    "**Weaknesses of Decision Tree:**\n",
    "- They can easily overfit. This can be negated by validation methods and pruning, but this is a grey area. [4]\n",
    "- They can be extremely sensitive to small perturbations in the data where a slight change can result in a drastically         different tree. [4]\n",
    "\n",
    "**Refrences:**<br>\n",
    "[**1**](https://smallbusiness.chron.com/advantages-decision-trees-75226.html)<br>\n",
    "[**2**](https://datascience.stackexchange.com/questions/32622/how-to-make-a-decision-tree-when-i-have-both-continous-and-categorical-variables)<br>\n",
    "[**3**](http://www.simafore.com/blog/bid/62333/4-key-advantages-of-using-decision-trees-for-predictive-analytics)<br>\n",
    "[**4**](https://stats.stackexchange.com/questions/1292/what-is-the-weak-side-of-decision-trees)"
   ]
  },
  {
   "cell_type": "markdown",
   "metadata": {},
   "source": [
    "###  3) SVM\n",
    "“Support Vector Machine” (SVM) is a supervised machine learning algorithm which can be used for both classification (SVC) or regression (SVR) challenges. In the SVM algorithm, we use a mechanism called kernels, which essentially calculate distance between two observations by plotting each data item as a point in n-dimensional space (where n is number of features you have) with the value of each feature being the value of a particular coordinate. Then, we find a decision boundary that maximizes the distance between the closest members of separate classes.[1]\n",
    "\n",
    "**Strengths of SVM:**\n",
    "- SVM's can model non-linear decision boundaries, and there are many kernels to choose from. They are also fairly robust against overfitting, especially in high-dimensional space. [1]\n",
    "\n",
    "**Weaknesses of SVM:**\n",
    "- However, SVM's are memory intensive, trickier to tune due to the importance of picking the right kernel, and don't scale well to larger datasets. Currently in the industry, random forests are usually preferred over SVM's. [1]\n",
    "\n",
    "**Refrences:**<br>\n",
    "[**1**](https://elitedatascience.com/machine-learning-algorithms)"
   ]
  },
  {
   "cell_type": "markdown",
   "metadata": {},
   "source": [
    "###  4) XGBoost\n",
    "XGBoost is an efficient and easy to use algorithm which delivers high performance and accuracy as compared to other algorithms. XGBoost is also known as regularized version of GBM. [1] <br><br>\n",
    "**Strengths of XGBoost:**\n",
    "- *Regularization:* XGBoost has in-built L1 and L2 regularization which prevents the model from overfitting. That is why, XGBoost is also called regularized form of GBM (Gradient Boosting Machine). [1]\n",
    "- *Handling Missing Values:* XGBoost has an in-built capability to handle missing values. When XGBoost encounters a missing value at a node, it tries both the left and right hand split and learns the way leading to higher loss for each node. It then does the same when working on the testing data. [1]\n",
    "- *Cross Validation:* XGBoost allows user to run a cross-validation at each iteration of the boosting process and thus it is easy to get the exact optimum number of boosting iterations in a single run. This is unlike GBM where we have to run a grid-search and only a limited values can be tested. [1]\n",
    "\n",
    "**Weaknesses of XGBoost:**\n",
    "- It can be slow. [2]\n",
    "- It can create a complex model. [2]\n",
    "\n",
    "**Refrences:**<br>\n",
    "[**1**](http://theprofessionalspoint.blogspot.com/2019/03/advantages-of-xgboost-algorithm-in.html) <br>\n",
    "[**2**](https://machinelearningmastery.com/gentle-introduction-xgboost-applied-machine-learning/ )"
   ]
  },
  {
   "cell_type": "markdown",
   "metadata": {},
   "source": [
    "we can now start training and evaluating our models."
   ]
  },
  {
   "cell_type": "markdown",
   "metadata": {},
   "source": [
    "## Training and Evaluating on the Training Set"
   ]
  },
  {
   "cell_type": "markdown",
   "metadata": {},
   "source": [
    "We will train all our models with the default parameters first, Let's start with Linear Regression."
   ]
  },
  {
   "cell_type": "code",
   "execution_count": 45,
   "metadata": {},
   "outputs": [
    {
     "data": {
      "text/plain": [
       "LinearRegression(copy_X=True, fit_intercept=True, n_jobs=None, normalize=False)"
      ]
     },
     "execution_count": 45,
     "metadata": {},
     "output_type": "execute_result"
    }
   ],
   "source": [
    "from sklearn.linear_model import LinearRegression\n",
    "\n",
    "lin_reg = LinearRegression()\n",
    "lin_reg.fit(gplay_prepared, gplay_labels)"
   ]
  },
  {
   "cell_type": "markdown",
   "metadata": {},
   "source": [
    "We will try it out on some instances from our training set and compare it to its original label(value)."
   ]
  },
  {
   "cell_type": "code",
   "execution_count": 46,
   "metadata": {},
   "outputs": [
    {
     "name": "stdout",
     "output_type": "stream",
     "text": [
      "Actual Value: [3.9, 4.4, 3.8, 4.6, 3.9]\n",
      "Predictions: [4.3499178  4.12295271 4.19025271 4.04478471 4.35498392]\n"
     ]
    }
   ],
   "source": [
    "head = 5\n",
    "some_data = gplay.iloc[:head]\n",
    "some_labels = gplay_labels.iloc[:head]\n",
    "\n",
    "some_data_prepared = full_pipeline.transform(some_data)\n",
    "\n",
    "print(\"Actual Value:\", list(some_labels))\n",
    "print(\"Predictions:\", lin_reg.predict(some_data_prepared))"
   ]
  },
  {
   "cell_type": "markdown",
   "metadata": {},
   "source": [
    "The predictions aren't that accurate but we can measure its **RMSE (The root-mean-square deviation or root-mean-square error)** which is a frequently used measure of the differences between values predicted by a model or an estimator and the values observed."
   ]
  },
  {
   "cell_type": "code",
   "execution_count": 48,
   "metadata": {},
   "outputs": [
    {
     "data": {
      "text/plain": [
       "0.4929729152778508"
      ]
     },
     "execution_count": 48,
     "metadata": {},
     "output_type": "execute_result"
    }
   ],
   "source": [
    "from sklearn.metrics import mean_squared_error\n",
    "\n",
    "gplay_predictions = lin_reg.predict(gplay_prepared)\n",
    "lin_mse = mean_squared_error(gplay_labels, gplay_predictions)\n",
    "lin_rmse = np.sqrt(lin_mse)\n",
    "lin_rmse"
   ]
  },
  {
   "cell_type": "markdown",
   "metadata": {},
   "source": [
    "It appears that our model is decent with almost **12%** error, but we can do better."
   ]
  },
  {
   "cell_type": "markdown",
   "metadata": {},
   "source": [
    "Let's try the Decision Tree next."
   ]
  },
  {
   "cell_type": "code",
   "execution_count": 49,
   "metadata": {},
   "outputs": [
    {
     "data": {
      "text/plain": [
       "DecisionTreeRegressor(criterion='mse', max_depth=None, max_features=None,\n",
       "                      max_leaf_nodes=None, min_impurity_decrease=0.0,\n",
       "                      min_impurity_split=None, min_samples_leaf=1,\n",
       "                      min_samples_split=2, min_weight_fraction_leaf=0.0,\n",
       "                      presort=False, random_state=42, splitter='best')"
      ]
     },
     "execution_count": 49,
     "metadata": {},
     "output_type": "execute_result"
    }
   ],
   "source": [
    "from sklearn.tree import DecisionTreeRegressor\n",
    "\n",
    "tree_reg = DecisionTreeRegressor(random_state=42)\n",
    "tree_reg.fit(gplay_prepared, gplay_labels)"
   ]
  },
  {
   "cell_type": "markdown",
   "metadata": {},
   "source": [
    "Then we will do our small comparision."
   ]
  },
  {
   "cell_type": "code",
   "execution_count": 50,
   "metadata": {},
   "outputs": [
    {
     "name": "stdout",
     "output_type": "stream",
     "text": [
      "Actual Value: [3.9, 4.4, 3.8, 4.6, 3.9]\n",
      "Predictions: [3.9 4.4 3.8 4.6 3.9]\n"
     ]
    }
   ],
   "source": [
    "print(\"Actual Value:\", list(some_labels))\n",
    "print(\"Predictions:\", tree_reg.predict(some_data_prepared))"
   ]
  },
  {
   "cell_type": "markdown",
   "metadata": {},
   "source": [
    "The predictions looks perfect, We will measure **RMSE** to get the exact error if it exists."
   ]
  },
  {
   "cell_type": "code",
   "execution_count": 51,
   "metadata": {},
   "outputs": [
    {
     "data": {
      "text/plain": [
       "0.007453559924999297"
      ]
     },
     "execution_count": 51,
     "metadata": {},
     "output_type": "execute_result"
    }
   ],
   "source": [
    "gplay_predictions = tree_reg.predict(gplay_prepared)\n",
    "tree_mse = mean_squared_error(gplay_labels, gplay_predictions)\n",
    "tree_rmse = np.sqrt(tree_mse)\n",
    "tree_rmse"
   ]
  },
  {
   "cell_type": "markdown",
   "metadata": {},
   "source": [
    "the **0%** error means that it is much more likely our model has badly **overfit** the data.<br>\n",
    "**Overfitting:** the model preforms too well on the training data only and may therefore fail to fit additional data or predict future observations reliably"
   ]
  },
  {
   "cell_type": "markdown",
   "metadata": {},
   "source": [
    "Let's try the SVM next."
   ]
  },
  {
   "cell_type": "code",
   "execution_count": 53,
   "metadata": {},
   "outputs": [
    {
     "name": "stderr",
     "output_type": "stream",
     "text": [
      "C:\\Users\\Admin\\Anaconda3\\lib\\site-packages\\sklearn\\svm\\base.py:193: FutureWarning: The default value of gamma will change from 'auto' to 'scale' in version 0.22 to account better for unscaled features. Set gamma explicitly to 'auto' or 'scale' to avoid this warning.\n",
      "  \"avoid this warning.\", FutureWarning)\n"
     ]
    },
    {
     "data": {
      "text/plain": [
       "SVR(C=1.0, cache_size=200, coef0=0.0, degree=3, epsilon=0.1,\n",
       "    gamma='auto_deprecated', kernel='rbf', max_iter=-1, shrinking=True,\n",
       "    tol=0.001, verbose=False)"
      ]
     },
     "execution_count": 53,
     "metadata": {},
     "output_type": "execute_result"
    }
   ],
   "source": [
    "from sklearn.svm import SVR\n",
    "\n",
    "svr_reg = SVR()\n",
    "svr_reg.fit(gplay_prepared, gplay_labels)"
   ]
  },
  {
   "cell_type": "markdown",
   "metadata": {},
   "source": [
    "Then we will do our small comparision."
   ]
  },
  {
   "cell_type": "code",
   "execution_count": 54,
   "metadata": {},
   "outputs": [
    {
     "name": "stdout",
     "output_type": "stream",
     "text": [
      "Actual Value: [3.9, 4.4, 3.8, 4.6, 3.9]\n",
      "Predictions: [4.31063814 4.29941393 4.20811858 4.30305594 4.40912135]\n"
     ]
    }
   ],
   "source": [
    "print(\"Actual Value:\", list(some_labels))\n",
    "print(\"Predictions:\", svr_reg.predict(some_data_prepared))"
   ]
  },
  {
   "cell_type": "markdown",
   "metadata": {},
   "source": [
    "The Predictions varies between the data, We will need to measure **RMSE** to get an approximation."
   ]
  },
  {
   "cell_type": "code",
   "execution_count": 55,
   "metadata": {},
   "outputs": [
    {
     "data": {
      "text/plain": [
       "0.4986974387735443"
      ]
     },
     "execution_count": 55,
     "metadata": {},
     "output_type": "execute_result"
    }
   ],
   "source": [
    "gplay_predictions = svr_reg.predict(gplay_prepared)\n",
    "svr_mse = mean_squared_error(gplay_labels, gplay_predictions)\n",
    "svr_rmse = np.sqrt(svr_mse)\n",
    "svr_rmse"
   ]
  },
  {
   "cell_type": "markdown",
   "metadata": {},
   "source": [
    "It appears that our model is as good as our Linear regression model, with a difference between them **2%** error."
   ]
  },
  {
   "cell_type": "markdown",
   "metadata": {},
   "source": [
    "Finally, Let's try the XGBoost."
   ]
  },
  {
   "cell_type": "code",
   "execution_count": 56,
   "metadata": {},
   "outputs": [
    {
     "name": "stderr",
     "output_type": "stream",
     "text": [
      "C:\\Users\\Admin\\Anaconda3\\lib\\site-packages\\xgboost\\core.py:587: FutureWarning: Series.base is deprecated and will be removed in a future version\n",
      "  if getattr(data, 'base', None) is not None and \\\n"
     ]
    },
    {
     "data": {
      "text/plain": [
       "XGBRegressor(base_score=0.5, booster='gbtree', colsample_bylevel=1,\n",
       "             colsample_bynode=1, colsample_bytree=1, gamma=0,\n",
       "             importance_type='gain', learning_rate=0.1, max_delta_step=0,\n",
       "             max_depth=3, min_child_weight=1, missing=None, n_estimators=100,\n",
       "             n_jobs=1, nthread=None, objective='reg:linear', random_state=42,\n",
       "             reg_alpha=0, reg_lambda=1, scale_pos_weight=1, seed=None,\n",
       "             silent=True, subsample=1, verbosity=1)"
      ]
     },
     "execution_count": 56,
     "metadata": {},
     "output_type": "execute_result"
    }
   ],
   "source": [
    "import xgboost as xgb \n",
    "\n",
    "xgb_reg = xgb.XGBRegressor(random_state=42, silent=True)\n",
    "xgb_reg.fit(gplay_prepared, gplay_labels)"
   ]
  },
  {
   "cell_type": "markdown",
   "metadata": {},
   "source": [
    "Then we will do our small comparision."
   ]
  },
  {
   "cell_type": "code",
   "execution_count": 57,
   "metadata": {},
   "outputs": [
    {
     "name": "stdout",
     "output_type": "stream",
     "text": [
      "Actual Value: [3.9, 4.4, 3.8, 4.6, 3.9]\n",
      "Predictions: [3.994983  4.153594  3.925327  4.359478  4.1238623]\n"
     ]
    }
   ],
   "source": [
    "print(\"Actual Value:\", list(some_labels))\n",
    "print(\"Predictions:\", xgb_reg.predict(some_data_prepared))"
   ]
  },
  {
   "cell_type": "markdown",
   "metadata": {},
   "source": [
    "The Predictions varies between the data, We will need to measure **RMSE** to get an approximation."
   ]
  },
  {
   "cell_type": "code",
   "execution_count": 58,
   "metadata": {},
   "outputs": [
    {
     "data": {
      "text/plain": [
       "0.4424193926537391"
      ]
     },
     "execution_count": 58,
     "metadata": {},
     "output_type": "execute_result"
    }
   ],
   "source": [
    "gplay_predictions = xgb_reg.predict(gplay_prepared)\n",
    "xgb_mse = mean_squared_error(gplay_labels, gplay_predictions)\n",
    "xgb_rmse = np.sqrt(xgb_mse)\n",
    "xgb_rmse"
   ]
  },
  {
   "cell_type": "markdown",
   "metadata": {},
   "source": [
    "It appears that our model is better than the Linear regression model, with almost **11%** error."
   ]
  },
  {
   "cell_type": "markdown",
   "metadata": {},
   "source": [
    "We will get better evaluations on the **Linear Regression**, **Decision Tree**, **SVM**,and the **XGBoost** by using Scikit-Learn’s K-fold **cross-validation** feature.<br><br>\n",
    "[**K-Folds Cross-validation:**](https://towardsdatascience.com/why-and-how-to-cross-validate-a-model-d6424b45261f) Split the entire data randomly into k folds, Then fit the model using the (K-1) folds and validate the model using the remaining Kth fold, Repeat this process until every K-fold serve as the test set. Then take the average of your recorded scores. That will be the performance metric for the model, this ensures that every observation from the original dataset has the chance of appearing in training and test set. This is one among the best approach if we have a limited input data. "
   ]
  },
  {
   "cell_type": "markdown",
   "metadata": {},
   "source": [
    "We start by our linear regression model:"
   ]
  },
  {
   "cell_type": "code",
   "execution_count": 59,
   "metadata": {},
   "outputs": [
    {
     "data": {
      "text/plain": [
       "0.4986513555110406"
      ]
     },
     "execution_count": 59,
     "metadata": {},
     "output_type": "execute_result"
    }
   ],
   "source": [
    "from sklearn.model_selection import cross_val_score\n",
    "\n",
    "scores = cross_val_score(lin_reg, gplay_prepared, gplay_labels,\n",
    "                         scoring=\"neg_mean_squared_error\", cv=10)\n",
    "gplay_rmse_scores = np.sqrt(-scores)\n",
    "gplay_rmse_scores.mean()"
   ]
  },
  {
   "cell_type": "markdown",
   "metadata": {},
   "source": [
    "Followed by our Decision Tree model:"
   ]
  },
  {
   "cell_type": "code",
   "execution_count": 60,
   "metadata": {},
   "outputs": [
    {
     "data": {
      "text/plain": [
       "0.615534079868363"
      ]
     },
     "execution_count": 60,
     "metadata": {},
     "output_type": "execute_result"
    }
   ],
   "source": [
    "scores = cross_val_score(tree_reg, gplay_prepared, gplay_labels,\n",
    "                         scoring=\"neg_mean_squared_error\", cv=10)\n",
    "gplay_rmse_scores = np.sqrt(-scores)\n",
    "gplay_rmse_scores.mean()"
   ]
  },
  {
   "cell_type": "markdown",
   "metadata": {},
   "source": [
    "Followed by our SVM model:"
   ]
  },
  {
   "cell_type": "code",
   "execution_count": 68,
   "metadata": {},
   "outputs": [
    {
     "data": {
      "text/plain": [
       "0.5027243140310812"
      ]
     },
     "execution_count": 68,
     "metadata": {},
     "output_type": "execute_result"
    }
   ],
   "source": [
    "# you can remove it with no effect on the model\n",
    "import warnings\n",
    "warnings.simplefilter(action='ignore', category=FutureWarning)\n",
    "\n",
    "scores = cross_val_score(svr_reg, gplay_prepared, gplay_labels,\n",
    "                         scoring=\"neg_mean_squared_error\", cv=10)\n",
    "gplay_rmse_scores = np.sqrt(-scores)\n",
    "gplay_rmse_scores.mean()"
   ]
  },
  {
   "cell_type": "markdown",
   "metadata": {},
   "source": [
    "And Finally, We try our XGBoost model:"
   ]
  },
  {
   "cell_type": "code",
   "execution_count": 69,
   "metadata": {},
   "outputs": [
    {
     "data": {
      "text/plain": [
       "0.4669635511812569"
      ]
     },
     "execution_count": 69,
     "metadata": {},
     "output_type": "execute_result"
    }
   ],
   "source": [
    "scores = cross_val_score(xgb_reg, gplay_prepared, gplay_labels,\n",
    "                         scoring=\"neg_mean_squared_error\", cv=10)\n",
    "gplay_rmse_scores = np.sqrt(-scores)\n",
    "gplay_rmse_scores.mean()"
   ]
  },
  {
   "cell_type": "markdown",
   "metadata": {},
   "source": [
    "From the looks of it, we found out that:\n",
    "- **Linear Regression** got the same error value and most likely its limit.\n",
    "- **Decision Tree** is overfitting and preforming worse than the other two.\n",
    "- **SVR** is a great model, it is the main candidate to be our main model.\n",
    "- **XGBoost** is good model, and the other cadidate to be our main model."
   ]
  },
  {
   "cell_type": "markdown",
   "metadata": {},
   "source": [
    "We will plot the learning curve for each model to get more insights on which model is the better model."
   ]
  },
  {
   "cell_type": "code",
   "execution_count": 63,
   "metadata": {},
   "outputs": [],
   "source": [
    "from sklearn.model_selection import learning_curve\n",
    "%matplotlib inline\n",
    "\n",
    "# It is good to randomize the data before drawing Learning Curves\n",
    "from sklearn.model_selection import ShuffleSplit, train_test_split\n",
    "\n",
    "def draw_learning_curves(X, y, estimator, num_trainings):\n",
    "    cv1 = ShuffleSplit(n_splits=10, random_state=0, test_size=0.2, train_size=None)\n",
    "    train_sizes, train_scores, test_scores = learning_curve(\n",
    "        estimator, X, y, cv=cv1, n_jobs=1, train_sizes=np.linspace(.1, 1.0, num_trainings),scoring = 'r2')\n",
    "    \n",
    "    print(\"train size :\\n\",train_sizes)\n",
    "    print()\n",
    "    train_scores_mean = np.mean(train_scores, axis=1)\n",
    "    print(\"train score mean:\\n\",train_scores_mean)\n",
    "    print()\n",
    "    #train_scores_std = np.std(train_scores, axis=1)\n",
    "    test_scores_mean = np.mean(test_scores, axis=1)\n",
    "    #test_scores_std = np.std(test_scores, axis=1)\n",
    "\n",
    "    plt.grid();\n",
    "\n",
    "    plt.title(\"Learning Curves\");\n",
    "    plt.xlabel(\"Training examples\");\n",
    "    plt.ylabel(\"Score\");\n",
    "\n",
    "    plt.plot(train_sizes,train_scores_mean, 'o-', color=\"g\",\n",
    "             label=\"Training score\");\n",
    "    plt.plot(train_sizes,test_scores_mean, 'o-', color=\"y\",\n",
    "             label=\"Cross-validation score\");\n",
    "    plt.legend(loc=\"best\");\n",
    "    \n"
   ]
  },
  {
   "cell_type": "code",
   "execution_count": 64,
   "metadata": {},
   "outputs": [
    {
     "name": "stdout",
     "output_type": "stream",
     "text": [
      "train size :\n",
      " [ 525 1051 1576 2102 2628 3153 3679 4204 4730 5256]\n",
      "\n",
      "train score mean:\n",
      " [0.15271264 0.1066187  0.08546114 0.07617493 0.07148316 0.06696588\n",
      " 0.06477805 0.06310894 0.06070058 0.05925619]\n",
      "\n"
     ]
    },
    {
     "data": {
      "image/png": "[encoded data removed]",
      "text/plain": [
       "<Figure size 432x288 with 1 Axes>"
      ]
     },
     "metadata": {
      "needs_background": "light"
     },
     "output_type": "display_data"
    }
   ],
   "source": [
    "draw_learning_curves(gplay_prepared, gplay_labels, lin_reg, 10)"
   ]
  },
  {
   "cell_type": "code",
   "execution_count": 65,
   "metadata": {},
   "outputs": [
    {
     "name": "stdout",
     "output_type": "stream",
     "text": [
      "train size :\n",
      " [ 525 1051 1576 2102 2628 3153 3679 4204 4730 5256]\n",
      "\n",
      "train score mean:\n",
      " [1.         1.         0.99998782 0.99999124 0.99999296 0.99999408\n",
      " 0.99992116 0.9998969  0.99987933 0.99985515]\n",
      "\n"
     ]
    },
    {
     "data": {
      "image/png": "[encoded data removed]",
      "text/plain": [
       "<Figure size 432x288 with 1 Axes>"
      ]
     },
     "metadata": {
      "needs_background": "light"
     },
     "output_type": "display_data"
    }
   ],
   "source": [
    "draw_learning_curves(gplay_prepared, gplay_labels, tree_reg, 10)"
   ]
  },
  {
   "cell_type": "code",
   "execution_count": 66,
   "metadata": {},
   "outputs": [
    {
     "name": "stdout",
     "output_type": "stream",
     "text": [
      "train size :\n",
      " [ 525 1051 1576 2102 2628 3153 3679 4204 4730 5256]\n",
      "\n",
      "train score mean:\n",
      " [0.06292702 0.04775674 0.04356995 0.04126765 0.04098916 0.04004547\n",
      " 0.03867243 0.03810515 0.03605293 0.03479692]\n",
      "\n"
     ]
    },
    {
     "data": {
      "image/png": "[encoded data removed]",
      "text/plain": [
       "<Figure size 432x288 with 1 Axes>"
      ]
     },
     "metadata": {
      "needs_background": "light"
     },
     "output_type": "display_data"
    }
   ],
   "source": [
    "draw_learning_curves(gplay_prepared, gplay_labels, svr_reg, 10)"
   ]
  },
  {
   "cell_type": "code",
   "execution_count": 67,
   "metadata": {},
   "outputs": [
    {
     "name": "stdout",
     "output_type": "stream",
     "text": [
      "train size :\n",
      " [ 525 1051 1576 2102 2628 3153 3679 4204 4730 5256]\n",
      "\n",
      "train score mean:\n",
      " [0.52974522 0.40803895 0.36198926 0.33450449 0.31332017 0.29452483\n",
      " 0.27933482 0.2635035  0.25548206 0.24554606]\n",
      "\n"
     ]
    },
    {
     "data": {
      "image/png": "[encoded data removed]",
      "text/plain": [
       "<Figure size 432x288 with 1 Axes>"
      ]
     },
     "metadata": {
      "needs_background": "light"
     },
     "output_type": "display_data"
    }
   ],
   "source": [
    "draw_learning_curves(gplay_prepared, gplay_labels, xgb_reg, 10)"
   ]
  },
  {
   "cell_type": "markdown",
   "metadata": {},
   "source": [
    "After plotting our learning curves, we found out that:\n",
    "- **Linear Regression** is underfitting (high bias).\n",
    "- **Decision Tree** is overfitting (high variance).\n",
    "- **SVR** is overall our best model.\n",
    "- **XGBoost** is not as good as our SVR model, but still a good model to consider."
   ]
  },
  {
   "cell_type": "markdown",
   "metadata": {},
   "source": [
    "## Fine-Tune our Models"
   ]
  },
  {
   "cell_type": "markdown",
   "metadata": {},
   "source": [
    "We can try multiple different hyperparameters manually until we find our a good combination of hyperparameter values, which will consume alot of time and we might end up not finding a great combination of hyperparameters.\n",
    "\n",
    "So instead, we will use Scikit-Learn’s **GridSearchCV** to search the best hyperparamter values for us, by giving it multiple values for the hyperparameters you want to experiment with and what values to try out, and it will use cross-validation to evaluate all the possible combinations of hyperparameter values."
   ]
  },
  {
   "cell_type": "markdown",
   "metadata": {},
   "source": [
    "(2x8x5)x5"
   ]
  },
  {
   "cell_type": "code",
   "execution_count": 71,
   "metadata": {},
   "outputs": [
    {
     "data": {
      "text/plain": [
       "GridSearchCV(cv=5, error_score='raise-deprecating',\n",
       "             estimator=SVR(C=1.0, cache_size=200, coef0=0.0, degree=3,\n",
       "                           epsilon=0.1, gamma='auto_deprecated', kernel='rbf',\n",
       "                           max_iter=-1, shrinking=True, tol=0.001,\n",
       "                           verbose=False),\n",
       "             iid='warn', n_jobs=None,\n",
       "             param_grid=[{'C': [1, 5, 10, 15, 20, 25, 50, 100],\n",
       "                          'epsilon': [0, 1, 0.1, 0.001, 0.0001],\n",
       "                          'kernel': ['rbf', 'sigmoid']}],\n",
       "             pre_dispatch='2*n_jobs', refit=True, return_train_score=True,\n",
       "             scoring='neg_mean_squared_error', verbose=0)"
      ]
     },
     "execution_count": 71,
     "metadata": {},
     "output_type": "execute_result"
    }
   ],
   "source": [
    "from sklearn.model_selection import GridSearchCV\n",
    "\n",
    "param_grid = [\n",
    "    {'kernel': [\"rbf\", \"sigmoid\"], 'C': [1, 5, 10, 15, 20, 25, 50, 100], 'epsilon': [0, 1, 0.1, 0.001, 0.0001]}\n",
    "  ]\n",
    "\n",
    "svr_reg = SVR()\n",
    "\n",
    "# train across 5 folds, that's a total of (12+6)*5=90 rounds of training \n",
    "grid_search = GridSearchCV(svr_reg, param_grid, cv=5,\n",
    "                           scoring='neg_mean_squared_error',\n",
    "                           return_train_score=True)\n",
    "\n",
    "grid_search.fit(gplay_prepared, gplay_labels)"
   ]
  },
  {
   "cell_type": "markdown",
   "metadata": {},
   "source": [
    "We can check the best estimator directly:"
   ]
  },
  {
   "cell_type": "code",
   "execution_count": 72,
   "metadata": {},
   "outputs": [
    {
     "data": {
      "text/plain": [
       "SVR(C=10, cache_size=200, coef0=0.0, degree=3, epsilon=0.1,\n",
       "    gamma='auto_deprecated', kernel='rbf', max_iter=-1, shrinking=True,\n",
       "    tol=0.001, verbose=False)"
      ]
     },
     "execution_count": 72,
     "metadata": {},
     "output_type": "execute_result"
    }
   ],
   "source": [
    "grid_search.best_estimator_"
   ]
  },
  {
   "cell_type": "code",
   "execution_count": 73,
   "metadata": {},
   "outputs": [
    {
     "name": "stdout",
     "output_type": "stream",
     "text": [
      "0.5058505682673902 {'C': 1, 'epsilon': 0, 'kernel': 'rbf'}\n",
      "22.10045588927101 {'C': 1, 'epsilon': 0, 'kernel': 'sigmoid'}\n",
      "0.5908174115138345 {'C': 1, 'epsilon': 1, 'kernel': 'rbf'}\n",
      "21.447542483382783 {'C': 1, 'epsilon': 1, 'kernel': 'sigmoid'}\n",
      "0.503925099884137 {'C': 1, 'epsilon': 0.1, 'kernel': 'rbf'}\n",
      "22.87991124644843 {'C': 1, 'epsilon': 0.1, 'kernel': 'sigmoid'}\n",
      "0.5058620000314592 {'C': 1, 'epsilon': 0.001, 'kernel': 'rbf'}\n",
      "22.066689458328113 {'C': 1, 'epsilon': 0.001, 'kernel': 'sigmoid'}\n",
      "0.5058420144585676 {'C': 1, 'epsilon': 0.0001, 'kernel': 'rbf'}\n",
      "22.015807420634424 {'C': 1, 'epsilon': 0.0001, 'kernel': 'sigmoid'}\n",
      "0.5041373886602537 {'C': 5, 'epsilon': 0, 'kernel': 'rbf'}\n",
      "110.64069575196844 {'C': 5, 'epsilon': 0, 'kernel': 'sigmoid'}\n",
      "0.5964343191046783 {'C': 5, 'epsilon': 1, 'kernel': 'rbf'}\n",
      "114.18263704585357 {'C': 5, 'epsilon': 1, 'kernel': 'sigmoid'}\n",
      "0.5022290536440825 {'C': 5, 'epsilon': 0.1, 'kernel': 'rbf'}\n",
      "113.01795331467675 {'C': 5, 'epsilon': 0.1, 'kernel': 'sigmoid'}\n",
      "0.5041605568477555 {'C': 5, 'epsilon': 0.001, 'kernel': 'rbf'}\n",
      "110.6329863448859 {'C': 5, 'epsilon': 0.001, 'kernel': 'sigmoid'}\n",
      "0.5041419408765628 {'C': 5, 'epsilon': 0.0001, 'kernel': 'rbf'}\n",
      "110.66193016451122 {'C': 5, 'epsilon': 0.0001, 'kernel': 'sigmoid'}\n",
      "0.5047551491057598 {'C': 10, 'epsilon': 0, 'kernel': 'rbf'}\n",
      "218.78392830376185 {'C': 10, 'epsilon': 0, 'kernel': 'sigmoid'}\n",
      "0.5950749254318475 {'C': 10, 'epsilon': 1, 'kernel': 'rbf'}\n",
      "222.5768178456311 {'C': 10, 'epsilon': 1, 'kernel': 'sigmoid'}\n",
      "0.5018247161865902 {'C': 10, 'epsilon': 0.1, 'kernel': 'rbf'}\n",
      "218.79742275761154 {'C': 10, 'epsilon': 0.1, 'kernel': 'sigmoid'}\n",
      "0.504789548828841 {'C': 10, 'epsilon': 0.001, 'kernel': 'rbf'}\n",
      "214.61240133004262 {'C': 10, 'epsilon': 0.001, 'kernel': 'sigmoid'}\n",
      "0.5047601709802465 {'C': 10, 'epsilon': 0.0001, 'kernel': 'rbf'}\n",
      "214.61154735311962 {'C': 10, 'epsilon': 0.0001, 'kernel': 'sigmoid'}\n",
      "0.5053699746504994 {'C': 15, 'epsilon': 0, 'kernel': 'rbf'}\n",
      "344.35796579163 {'C': 15, 'epsilon': 0, 'kernel': 'sigmoid'}\n",
      "0.5921853536228423 {'C': 15, 'epsilon': 1, 'kernel': 'rbf'}\n",
      "337.0230863816625 {'C': 15, 'epsilon': 1, 'kernel': 'sigmoid'}\n",
      "0.5020557238428366 {'C': 15, 'epsilon': 0.1, 'kernel': 'rbf'}\n",
      "337.14574559323745 {'C': 15, 'epsilon': 0.1, 'kernel': 'sigmoid'}\n",
      "0.5053170992603722 {'C': 15, 'epsilon': 0.001, 'kernel': 'rbf'}\n",
      "344.3556928921467 {'C': 15, 'epsilon': 0.001, 'kernel': 'sigmoid'}\n",
      "0.5053684779047569 {'C': 15, 'epsilon': 0.0001, 'kernel': 'rbf'}\n",
      "344.3582813680705 {'C': 15, 'epsilon': 0.0001, 'kernel': 'sigmoid'}\n",
      "0.5058340653620972 {'C': 20, 'epsilon': 0, 'kernel': 'rbf'}\n",
      "458.08134584774535 {'C': 20, 'epsilon': 0, 'kernel': 'sigmoid'}\n",
      "0.5902668672858493 {'C': 20, 'epsilon': 1, 'kernel': 'rbf'}\n",
      "461.87697961516653 {'C': 20, 'epsilon': 1, 'kernel': 'sigmoid'}\n",
      "0.5022443307544624 {'C': 20, 'epsilon': 0.1, 'kernel': 'rbf'}\n",
      "449.66575984317615 {'C': 20, 'epsilon': 0.1, 'kernel': 'sigmoid'}\n",
      "0.5058011924277862 {'C': 20, 'epsilon': 0.001, 'kernel': 'rbf'}\n",
      "458.08290303426526 {'C': 20, 'epsilon': 0.001, 'kernel': 'sigmoid'}\n",
      "0.5058259806483446 {'C': 20, 'epsilon': 0.0001, 'kernel': 'rbf'}\n",
      "458.1183852059221 {'C': 20, 'epsilon': 0.0001, 'kernel': 'sigmoid'}\n",
      "0.5062967294051212 {'C': 25, 'epsilon': 0, 'kernel': 'rbf'}\n",
      "559.8717324433494 {'C': 25, 'epsilon': 0, 'kernel': 'sigmoid'}\n",
      "0.5892200105973713 {'C': 25, 'epsilon': 1, 'kernel': 'rbf'}\n",
      "554.4774009478086 {'C': 25, 'epsilon': 1, 'kernel': 'sigmoid'}\n",
      "0.5023670608527085 {'C': 25, 'epsilon': 0.1, 'kernel': 'rbf'}\n",
      "526.643681714012 {'C': 25, 'epsilon': 0.1, 'kernel': 'sigmoid'}\n",
      "0.5062391980430706 {'C': 25, 'epsilon': 0.001, 'kernel': 'rbf'}\n",
      "559.7991600281297 {'C': 25, 'epsilon': 0.001, 'kernel': 'sigmoid'}\n",
      "0.5062969357628261 {'C': 25, 'epsilon': 0.0001, 'kernel': 'rbf'}\n",
      "559.7652476105962 {'C': 25, 'epsilon': 0.0001, 'kernel': 'sigmoid'}\n",
      "0.5075354306216552 {'C': 50, 'epsilon': 0, 'kernel': 'rbf'}\n",
      "1096.6958612083179 {'C': 50, 'epsilon': 0, 'kernel': 'sigmoid'}\n",
      "0.5879702321283264 {'C': 50, 'epsilon': 1, 'kernel': 'rbf'}\n",
      "1079.8876013692734 {'C': 50, 'epsilon': 1, 'kernel': 'sigmoid'}\n",
      "0.5039351784929761 {'C': 50, 'epsilon': 0.1, 'kernel': 'rbf'}\n",
      "1082.3482318223441 {'C': 50, 'epsilon': 0.1, 'kernel': 'sigmoid'}\n",
      "0.5074993076360993 {'C': 50, 'epsilon': 0.001, 'kernel': 'rbf'}\n",
      "1096.7976290685644 {'C': 50, 'epsilon': 0.001, 'kernel': 'sigmoid'}\n",
      "0.50752211570868 {'C': 50, 'epsilon': 0.0001, 'kernel': 'rbf'}\n",
      "1096.695815938765 {'C': 50, 'epsilon': 0.0001, 'kernel': 'sigmoid'}\n",
      "0.5096441328506938 {'C': 100, 'epsilon': 0, 'kernel': 'rbf'}\n",
      "2125.667889415427 {'C': 100, 'epsilon': 0, 'kernel': 'sigmoid'}\n",
      "0.589519849320766 {'C': 100, 'epsilon': 1, 'kernel': 'rbf'}\n",
      "2214.824068876812 {'C': 100, 'epsilon': 1, 'kernel': 'sigmoid'}\n",
      "0.5058029976848727 {'C': 100, 'epsilon': 0.1, 'kernel': 'rbf'}\n",
      "2105.701888324003 {'C': 100, 'epsilon': 0.1, 'kernel': 'sigmoid'}\n",
      "0.5096151973922193 {'C': 100, 'epsilon': 0.001, 'kernel': 'rbf'}\n",
      "2125.666852118369 {'C': 100, 'epsilon': 0.001, 'kernel': 'sigmoid'}\n",
      "0.5096379772048664 {'C': 100, 'epsilon': 0.0001, 'kernel': 'rbf'}\n",
      "2125.670246845067 {'C': 100, 'epsilon': 0.0001, 'kernel': 'sigmoid'}\n"
     ]
    }
   ],
   "source": [
    "cvres = grid_search.cv_results_\n",
    "for mean_score, params in zip(cvres[\"mean_test_score\"], cvres[\"params\"]):\n",
    "    print(np.sqrt(-mean_score), params)"
   ]
  },
  {
   "cell_type": "code",
   "execution_count": 98,
   "metadata": {},
   "outputs": [],
   "source": [
    "final_model = grid_search.best_estimator_\n",
    "\n",
    "X_test = strat_test_set.drop(\"Rating\", axis=1)\n",
    "y_test = strat_test_set[\"Rating\"].copy()\n",
    "\n",
    "X_test.dropna(inplace=True)\n",
    "y_test.dropna(inplace=True)\n",
    "X_test.isnull().sum()\n",
    "X_test.drop(labels = ['App', 'Last Updated','Current Ver','Android Ver'], axis = 1, inplace = True)\n",
    "\n",
    "X_test_cat = X_test[[\"Content Rating\"]]\n",
    "\n",
    "ordinal_encoder = OrdinalEncoder()\n",
    "X_test_cat_encoded = ordinal_encoder.fit_transform(X_test_cat)\n",
    "X_test[\"Content Rating\"] = X_test_cat_encoded"
   ]
  },
  {
   "cell_type": "code",
   "execution_count": 104,
   "metadata": {},
   "outputs": [
    {
     "data": {
      "text/html": [
       "<div>\n",
       "<style scoped>\n",
       "    .dataframe tbody tr th:only-of-type {\n",
       "        vertical-align: middle;\n",
       "    }\n",
       "\n",
       "    .dataframe tbody tr th {\n",
       "        vertical-align: top;\n",
       "    }\n",
       "\n",
       "    .dataframe thead th {\n",
       "        text-align: right;\n",
       "    }\n",
       "</style>\n",
       "<table border=\"1\" class=\"dataframe\">\n",
       "  <thead>\n",
       "    <tr style=\"text-align: right;\">\n",
       "      <th></th>\n",
       "      <th>Category</th>\n",
       "      <th>Reviews</th>\n",
       "      <th>Size</th>\n",
       "      <th>Installs</th>\n",
       "      <th>Type</th>\n",
       "      <th>Price</th>\n",
       "      <th>Content Rating</th>\n",
       "      <th>Genres</th>\n",
       "    </tr>\n",
       "  </thead>\n",
       "  <tbody>\n",
       "    <tr>\n",
       "      <th>1951</th>\n",
       "      <td>GAME</td>\n",
       "      <td>37139.0</td>\n",
       "      <td>49000000.0</td>\n",
       "      <td>1000000.0</td>\n",
       "      <td>0.0</td>\n",
       "      <td>0.0</td>\n",
       "      <td>1.0</td>\n",
       "      <td>Action</td>\n",
       "    </tr>\n",
       "    <tr>\n",
       "      <th>3018</th>\n",
       "      <td>SPORTS</td>\n",
       "      <td>521138.0</td>\n",
       "      <td>27000000.0</td>\n",
       "      <td>10000000.0</td>\n",
       "      <td>0.0</td>\n",
       "      <td>0.0</td>\n",
       "      <td>1.0</td>\n",
       "      <td>Sports</td>\n",
       "    </tr>\n",
       "    <tr>\n",
       "      <th>5618</th>\n",
       "      <td>GAME</td>\n",
       "      <td>1041836.0</td>\n",
       "      <td>50000000.0</td>\n",
       "      <td>10000000.0</td>\n",
       "      <td>0.0</td>\n",
       "      <td>0.0</td>\n",
       "      <td>3.0</td>\n",
       "      <td>Action</td>\n",
       "    </tr>\n",
       "    <tr>\n",
       "      <th>7008</th>\n",
       "      <td>FAMILY</td>\n",
       "      <td>767.0</td>\n",
       "      <td>18000000.0</td>\n",
       "      <td>100000.0</td>\n",
       "      <td>0.0</td>\n",
       "      <td>0.0</td>\n",
       "      <td>0.0</td>\n",
       "      <td>Entertainment</td>\n",
       "    </tr>\n",
       "    <tr>\n",
       "      <th>5916</th>\n",
       "      <td>FAMILY</td>\n",
       "      <td>1734.0</td>\n",
       "      <td>5800000.0</td>\n",
       "      <td>500000.0</td>\n",
       "      <td>0.0</td>\n",
       "      <td>0.0</td>\n",
       "      <td>0.0</td>\n",
       "      <td>Strategy</td>\n",
       "    </tr>\n",
       "  </tbody>\n",
       "</table>\n",
       "</div>"
      ],
      "text/plain": [
       "     Category    Reviews        Size    Installs  Type  Price  Content Rating  \\\n",
       "1951     GAME    37139.0  49000000.0   1000000.0   0.0    0.0             1.0   \n",
       "3018   SPORTS   521138.0  27000000.0  10000000.0   0.0    0.0             1.0   \n",
       "5618     GAME  1041836.0  50000000.0  10000000.0   0.0    0.0             3.0   \n",
       "7008   FAMILY      767.0  18000000.0    100000.0   0.0    0.0             0.0   \n",
       "5916   FAMILY     1734.0   5800000.0    500000.0   0.0    0.0             0.0   \n",
       "\n",
       "             Genres  \n",
       "1951         Action  \n",
       "3018         Sports  \n",
       "5618         Action  \n",
       "7008  Entertainment  \n",
       "5916       Strategy  "
      ]
     },
     "execution_count": 104,
     "metadata": {},
     "output_type": "execute_result"
    }
   ],
   "source": []
  },
  {
   "cell_type": "code",
   "execution_count": 103,
   "metadata": {},
   "outputs": [
    {
     "ename": "ValueError",
     "evalue": "X.shape[1] = 126 should be equal to 146, the number of features at training time",
     "output_type": "error",
     "traceback": [
      "\u001b[1;31m---------------------------------------------------------------------------\u001b[0m",
      "\u001b[1;31mValueError\u001b[0m                                Traceback (most recent call last)",
      "\u001b[1;32m<ipython-input-103-e107e2517524>\u001b[0m in \u001b[0;36m<module>\u001b[1;34m\u001b[0m\n\u001b[1;32m----> 1\u001b[1;33m \u001b[0mfinal_predictions\u001b[0m \u001b[1;33m=\u001b[0m \u001b[0mfinal_model\u001b[0m\u001b[1;33m.\u001b[0m\u001b[0mpredict\u001b[0m\u001b[1;33m(\u001b[0m\u001b[0mX_test_prepared\u001b[0m\u001b[1;33m)\u001b[0m\u001b[1;33m\u001b[0m\u001b[1;33m\u001b[0m\u001b[0m\n\u001b[0m\u001b[0;32m      2\u001b[0m \u001b[1;33m\u001b[0m\u001b[0m\n\u001b[0;32m      3\u001b[0m \u001b[0mfinal_mse\u001b[0m \u001b[1;33m=\u001b[0m \u001b[0mmean_squared_error\u001b[0m\u001b[1;33m(\u001b[0m\u001b[0my_test\u001b[0m\u001b[1;33m,\u001b[0m \u001b[0mfinal_predictions\u001b[0m\u001b[1;33m)\u001b[0m\u001b[1;33m\u001b[0m\u001b[1;33m\u001b[0m\u001b[0m\n\u001b[0;32m      4\u001b[0m \u001b[0mfinal_rmse\u001b[0m \u001b[1;33m=\u001b[0m \u001b[0mnp\u001b[0m\u001b[1;33m.\u001b[0m\u001b[0msqrt\u001b[0m\u001b[1;33m(\u001b[0m\u001b[0mfinal_mse\u001b[0m\u001b[1;33m)\u001b[0m\u001b[1;33m\u001b[0m\u001b[1;33m\u001b[0m\u001b[0m\n\u001b[0;32m      5\u001b[0m \u001b[0mfinal_rmse\u001b[0m\u001b[1;33m\u001b[0m\u001b[1;33m\u001b[0m\u001b[0m\n",
      "\u001b[1;32m~\\Anaconda3\\lib\\site-packages\\sklearn\\svm\\base.py\u001b[0m in \u001b[0;36mpredict\u001b[1;34m(self, X)\u001b[0m\n\u001b[0;32m    320\u001b[0m         \u001b[0my_pred\u001b[0m \u001b[1;33m:\u001b[0m \u001b[0marray\u001b[0m\u001b[1;33m,\u001b[0m \u001b[0mshape\u001b[0m \u001b[1;33m(\u001b[0m\u001b[0mn_samples\u001b[0m\u001b[1;33m,\u001b[0m\u001b[1;33m)\u001b[0m\u001b[1;33m\u001b[0m\u001b[1;33m\u001b[0m\u001b[0m\n\u001b[0;32m    321\u001b[0m         \"\"\"\n\u001b[1;32m--> 322\u001b[1;33m         \u001b[0mX\u001b[0m \u001b[1;33m=\u001b[0m \u001b[0mself\u001b[0m\u001b[1;33m.\u001b[0m\u001b[0m_validate_for_predict\u001b[0m\u001b[1;33m(\u001b[0m\u001b[0mX\u001b[0m\u001b[1;33m)\u001b[0m\u001b[1;33m\u001b[0m\u001b[1;33m\u001b[0m\u001b[0m\n\u001b[0m\u001b[0;32m    323\u001b[0m         \u001b[0mpredict\u001b[0m \u001b[1;33m=\u001b[0m \u001b[0mself\u001b[0m\u001b[1;33m.\u001b[0m\u001b[0m_sparse_predict\u001b[0m \u001b[1;32mif\u001b[0m \u001b[0mself\u001b[0m\u001b[1;33m.\u001b[0m\u001b[0m_sparse\u001b[0m \u001b[1;32melse\u001b[0m \u001b[0mself\u001b[0m\u001b[1;33m.\u001b[0m\u001b[0m_dense_predict\u001b[0m\u001b[1;33m\u001b[0m\u001b[1;33m\u001b[0m\u001b[0m\n\u001b[0;32m    324\u001b[0m         \u001b[1;32mreturn\u001b[0m \u001b[0mpredict\u001b[0m\u001b[1;33m(\u001b[0m\u001b[0mX\u001b[0m\u001b[1;33m)\u001b[0m\u001b[1;33m\u001b[0m\u001b[1;33m\u001b[0m\u001b[0m\n",
      "\u001b[1;32m~\\Anaconda3\\lib\\site-packages\\sklearn\\svm\\base.py\u001b[0m in \u001b[0;36m_validate_for_predict\u001b[1;34m(self, X)\u001b[0m\n\u001b[0;32m    472\u001b[0m             raise ValueError(\"X.shape[1] = %d should be equal to %d, \"\n\u001b[0;32m    473\u001b[0m                              \u001b[1;34m\"the number of features at training time\"\u001b[0m \u001b[1;33m%\u001b[0m\u001b[1;33m\u001b[0m\u001b[1;33m\u001b[0m\u001b[0m\n\u001b[1;32m--> 474\u001b[1;33m                              (n_features, self.shape_fit_[1]))\n\u001b[0m\u001b[0;32m    475\u001b[0m         \u001b[1;32mreturn\u001b[0m \u001b[0mX\u001b[0m\u001b[1;33m\u001b[0m\u001b[1;33m\u001b[0m\u001b[0m\n\u001b[0;32m    476\u001b[0m \u001b[1;33m\u001b[0m\u001b[0m\n",
      "\u001b[1;31mValueError\u001b[0m: X.shape[1] = 126 should be equal to 146, the number of features at training time"
     ]
    }
   ],
   "source": [
    "X_test_prepared = full_pipeline.transform(X_test)\n",
    "\n",
    "final_predictions = final_model.predict(X_test_prepared)\n",
    "\n",
    "final_mse = mean_squared_error(y_test, final_predictions)\n",
    "final_rmse = np.sqrt(final_mse)\n",
    "final_rmse"
   ]
  },
  {
   "cell_type": "code",
   "execution_count": null,
   "metadata": {},
   "outputs": [],
   "source": []
  },
  {
   "cell_type": "markdown",
   "metadata": {},
   "source": [
    " \n",
    "# TBA TBA TBA TBA TBA TBA"
   ]
  },
  {
   "cell_type": "markdown",
   "metadata": {},
   "source": []
  },
  {
   "cell_type": "markdown",
   "metadata": {},
   "source": [
    "from sklearn.metrics import accuracy_score\n",
    "##############################################\n",
    "#### Note: Recap of accuracy, precision, recall\n",
    "\n",
    "**Accuracy** measures how often the classifier makes the correct prediction. It’s the ratio of the number of correct predictions to the total number of predictions (the number of test data points).\n",
    "\n",
    "**Precision** tells us what proportion of messages we classified as spam, actually were spam.\n",
    "It is a ratio of true positives(words classified as spam, and which are actually spam) to all positives(all words classified as spam, irrespective of whether that was the correct classificatio), in other words it is the ratio of\n",
    "\n",
    "`[True Positives/(True Positives + False Positives)]`\n",
    "\n",
    "**Recall(sensitivity)** tells us what proportion of messages that actually were spam were classified by us as spam.\n",
    "It is a ratio of true positives(words classified as spam, and which are actually spam) to all the words that were actually spam, in other words it is the ratio of\n",
    "\n",
    "`[True Positives/(True Positives + False Negatives)]`\n",
    "\n",
    "For classification problems that are skewed in their classification distributions like in our case, for example if we had a 100 text messages and only 2 were spam and the rest 98 weren't, accuracy by itself is not a very good metric. We could classify 90 messages as not spam(including the 2 that were spam but we classify them as not spam, hence they would be false negatives) and 10 as spam(all 10 false positives) and still get a reasonably good accuracy score. For such cases, precision and recall come in very handy. These two metrics can be combined to get the F1 score, which is weighted average(harmonic mean) of the precision and recall scores. This score can range from 0 to 1, with 1 being the best possible F1 score(we take the harmonic mean as we are dealing with ratios).\n",
    "###################################\n",
    "import joblib\n",
    "# to save our model\n",
    "joblib.dump(my_model, \"my_model.pkl\")\n",
    "# to load our model\n",
    "my_model_loaded = joblib.load(\"my_model.pkl\")"
   ]
  },
  {
   "cell_type": "markdown",
   "metadata": {},
   "source": []
  }
 ],
 "metadata": {
  "kernelspec": {
   "display_name": "Python 3",
   "language": "python",
   "name": "python3"
  },
  "language_info": {
   "codemirror_mode": {
    "name": "ipython",
    "version": 3
   },
   "file_extension": ".py",
   "mimetype": "text/x-python",
   "name": "python",
   "nbconvert_exporter": "python",
   "pygments_lexer": "ipython3",
   "version": "3.7.5"
  }
 },
 "nbformat": 4,
 "nbformat_minor": 4
}
