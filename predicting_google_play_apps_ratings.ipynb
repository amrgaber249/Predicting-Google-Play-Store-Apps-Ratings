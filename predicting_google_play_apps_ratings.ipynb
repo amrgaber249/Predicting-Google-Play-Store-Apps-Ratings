{
 "cells": [
  {
   "cell_type": "markdown",
   "metadata": {},
   "source": [
    "# Machine Learning Kaggle project\n",
    "## Google Play Store Apps Project\n",
    "Amr Mohamed Gaber <br>\n",
    "May 20th, 2020"
   ]
  },
  {
   "cell_type": "markdown",
   "metadata": {},
   "source": [
    "\n",
    "## Project Overview\n",
    "### Problem Statement\n",
    "This project aims to use the dataset provided by [Lavanya Gupta](https://www.kaggle.com/lava18/google-play-store-apps) to train a supervised machine learning algorithm to predict app ratings.\n",
    "\n",
    "**A supervised machine learning algorithm** is an algorithm where you feed to the algorithm your training dataset including your desired solutions *'labels'* so it can find correlations between instances in the data which leads to it understanding the dataset better.\n",
    "\n",
    "To predict the target numerical value `'Rating'`, We will be using Regression Algorithms given a set of predictors *'features'*.\n",
    "\n",
    "We will be using small functions to do everything, this will help us to automate most of the work done and be able to save time, update and reuse them later or on different machines/algorithms.\n",
    "like for example:\n",
    "- in case of downloading/installing the dataset on different/multiple machines, or if the dataset changes regularly.\n",
    "- reuse some of the transoformation functions on different Machine Learning algorithms.\n",
    "\n",
    "Our steps through the whole project will be as following:\n",
    "- Getting the data.\n",
    "- Data exploration.\n",
    "- Taking a quick look at the Data Structure.\n",
    "- Creating a Test set\n",
    "- Discover and Visualize the data.\n",
    "- Prepare the Data for Machine Learning.\n",
    "- Select and Train a Model\n",
    "- Fine-Tune the Model"
   ]
  },
  {
   "cell_type": "markdown",
   "metadata": {},
   "source": [
    "## Getting the data\n",
    "First, We will need to download the dataset using kaggle's api into a new folder we created inside our working directory called ' ..\\datasets\\gplay\\ ', by running the following code:"
   ]
  },
  {
   "cell_type": "code",
   "execution_count": 1,
   "metadata": {},
   "outputs": [],
   "source": [
    "import os\n",
    "import kaggle\n",
    "\n",
    "GPLAY_PATH = os.path.join(\"datasets\", \"gplay\")\n",
    "GPLAY_URL = \"lava18/google-play-store-apps\"\n",
    "\n",
    "def fetch_gplay_data(gplay_url=GPLAY_URL, gplay_path=GPLAY_PATH):\n",
    "    '''\n",
    "    Creates a datasets/gplay directory in your workspace,\n",
    "    downloads the google-play-store-apps.zip file,\n",
    "    and extract its files in this directory\n",
    "    '''\n",
    "    if not os.path.isdir(gplay_path):\n",
    "        os.makedirs(gplay_path)\n",
    "    kaggle.api.authenticate()\n",
    "    kaggle.api.dataset_download_files(gplay_url, path=gplay_path, unzip=True)"
   ]
  },
  {
   "cell_type": "code",
   "execution_count": 2,
   "metadata": {},
   "outputs": [],
   "source": [
    "fetch_gplay_data()"
   ]
  },
  {
   "cell_type": "markdown",
   "metadata": {},
   "source": [
    "Then Loading the data from the `googleplaystore.csv` file into our working space by running the following code:"
   ]
  },
  {
   "cell_type": "code",
   "execution_count": 3,
   "metadata": {},
   "outputs": [],
   "source": [
    "import pandas as pd\n",
    "\n",
    "def load_gplay_data(gplay_path=GPLAY_PATH):\n",
    "    csv_path = os.path.join(gplay_path, \"googleplaystore.csv\")\n",
    "    return pd.read_csv(csv_path)"
   ]
  },
  {
   "cell_type": "code",
   "execution_count": 4,
   "metadata": {},
   "outputs": [
    {
     "name": "stdout",
     "output_type": "stream",
     "text": [
      "<class 'pandas.core.frame.DataFrame'>\n",
      "RangeIndex: 10841 entries, 0 to 10840\n",
      "Data columns (total 13 columns):\n",
      "App               10841 non-null object\n",
      "Category          10841 non-null object\n",
      "Rating            9367 non-null float64\n",
      "Reviews           10841 non-null object\n",
      "Size              10841 non-null object\n",
      "Installs          10841 non-null object\n",
      "Type              10840 non-null object\n",
      "Price             10841 non-null object\n",
      "Content Rating    10840 non-null object\n",
      "Genres            10841 non-null object\n",
      "Last Updated      10841 non-null object\n",
      "Current Ver       10833 non-null object\n",
      "Android Ver       10838 non-null object\n",
      "dtypes: float64(1), object(12)\n",
      "memory usage: 1.1+ MB\n"
     ]
    }
   ],
   "source": [
    "gplay = load_gplay_data() \n",
    "gplay.info()"
   ]
  },
  {
   "cell_type": "markdown",
   "metadata": {},
   "source": [
    "## Data Exploration\n",
    "The input data consists of 10841 apps. Every Instance cosists of 12 features and 1 output or label target, they are all in text form so we will need to reformat them later.\n",
    "\n",
    "* **App:** Application name.\n",
    "* **Category:** Category the app belongs to, there is a total of 33 unique catagory in this dataset.\n",
    "* **Reviews:** Number of user reviews for the app (as when scraped).\n",
    "* **Size:** Size of the app (as when scraped).\n",
    "* **Installs:** Number of user downloads/installs for the app (as when scraped).\n",
    "* **Type:** Paid or Free.\n",
    "* **Price:** Price of the app (as when scraped)\n",
    "* **Content Rating:** Age group the app is targeted at - Children / Mature 21+ / Adult.\n",
    "* **Genres:** An app can belong to multiple genres (apart from its main category). For eg, a musical family game will belong to Music, Game, Family genres, there is a total of 115 unique genre in this dataset.\n",
    "* **Rating (label):** Overall user rating of the app (as when scraped).\n",
    "\n",
    "**THIS features are UNNECESSARY and can be dropped from our dataset without affecting it too much:**\n",
    "* **Last Updated:** Date when the app was last updated on Play Store (as when scraped).\n",
    "* **Current Ver:** Current version of the app available on Play Store (as when scraped)\n",
    "* **Android Ver:** Min required Android version (as when scraped)\n"
   ]
  },
  {
   "cell_type": "code",
   "execution_count": 5,
   "metadata": {
    "scrolled": true
   },
   "outputs": [
    {
     "data": {
      "text/html": [
       "<div>\n",
       "<style scoped>\n",
       "    .dataframe tbody tr th:only-of-type {\n",
       "        vertical-align: middle;\n",
       "    }\n",
       "\n",
       "    .dataframe tbody tr th {\n",
       "        vertical-align: top;\n",
       "    }\n",
       "\n",
       "    .dataframe thead th {\n",
       "        text-align: right;\n",
       "    }\n",
       "</style>\n",
       "<table border=\"1\" class=\"dataframe\">\n",
       "  <thead>\n",
       "    <tr style=\"text-align: right;\">\n",
       "      <th></th>\n",
       "      <th>App</th>\n",
       "      <th>Category</th>\n",
       "      <th>Rating</th>\n",
       "      <th>Reviews</th>\n",
       "      <th>Size</th>\n",
       "      <th>Installs</th>\n",
       "      <th>Type</th>\n",
       "      <th>Price</th>\n",
       "      <th>Content Rating</th>\n",
       "      <th>Genres</th>\n",
       "      <th>Last Updated</th>\n",
       "      <th>Current Ver</th>\n",
       "      <th>Android Ver</th>\n",
       "    </tr>\n",
       "  </thead>\n",
       "  <tbody>\n",
       "    <tr>\n",
       "      <th>0</th>\n",
       "      <td>Photo Editor &amp; Candy Camera &amp; Grid &amp; ScrapBook</td>\n",
       "      <td>ART_AND_DESIGN</td>\n",
       "      <td>4.1</td>\n",
       "      <td>159</td>\n",
       "      <td>19M</td>\n",
       "      <td>10,000+</td>\n",
       "      <td>Free</td>\n",
       "      <td>0</td>\n",
       "      <td>Everyone</td>\n",
       "      <td>Art &amp; Design</td>\n",
       "      <td>January 7, 2018</td>\n",
       "      <td>1.0.0</td>\n",
       "      <td>4.0.3 and up</td>\n",
       "    </tr>\n",
       "    <tr>\n",
       "      <th>1</th>\n",
       "      <td>Coloring book moana</td>\n",
       "      <td>ART_AND_DESIGN</td>\n",
       "      <td>3.9</td>\n",
       "      <td>967</td>\n",
       "      <td>14M</td>\n",
       "      <td>500,000+</td>\n",
       "      <td>Free</td>\n",
       "      <td>0</td>\n",
       "      <td>Everyone</td>\n",
       "      <td>Art &amp; Design;Pretend Play</td>\n",
       "      <td>January 15, 2018</td>\n",
       "      <td>2.0.0</td>\n",
       "      <td>4.0.3 and up</td>\n",
       "    </tr>\n",
       "    <tr>\n",
       "      <th>2</th>\n",
       "      <td>U Launcher Lite – FREE Live Cool Themes, Hide ...</td>\n",
       "      <td>ART_AND_DESIGN</td>\n",
       "      <td>4.7</td>\n",
       "      <td>87510</td>\n",
       "      <td>8.7M</td>\n",
       "      <td>5,000,000+</td>\n",
       "      <td>Free</td>\n",
       "      <td>0</td>\n",
       "      <td>Everyone</td>\n",
       "      <td>Art &amp; Design</td>\n",
       "      <td>August 1, 2018</td>\n",
       "      <td>1.2.4</td>\n",
       "      <td>4.0.3 and up</td>\n",
       "    </tr>\n",
       "    <tr>\n",
       "      <th>3</th>\n",
       "      <td>Sketch - Draw &amp; Paint</td>\n",
       "      <td>ART_AND_DESIGN</td>\n",
       "      <td>4.5</td>\n",
       "      <td>215644</td>\n",
       "      <td>25M</td>\n",
       "      <td>50,000,000+</td>\n",
       "      <td>Free</td>\n",
       "      <td>0</td>\n",
       "      <td>Teen</td>\n",
       "      <td>Art &amp; Design</td>\n",
       "      <td>June 8, 2018</td>\n",
       "      <td>Varies with device</td>\n",
       "      <td>4.2 and up</td>\n",
       "    </tr>\n",
       "    <tr>\n",
       "      <th>4</th>\n",
       "      <td>Pixel Draw - Number Art Coloring Book</td>\n",
       "      <td>ART_AND_DESIGN</td>\n",
       "      <td>4.3</td>\n",
       "      <td>967</td>\n",
       "      <td>2.8M</td>\n",
       "      <td>100,000+</td>\n",
       "      <td>Free</td>\n",
       "      <td>0</td>\n",
       "      <td>Everyone</td>\n",
       "      <td>Art &amp; Design;Creativity</td>\n",
       "      <td>June 20, 2018</td>\n",
       "      <td>1.1</td>\n",
       "      <td>4.4 and up</td>\n",
       "    </tr>\n",
       "  </tbody>\n",
       "</table>\n",
       "</div>"
      ],
      "text/plain": [
       "                                                 App        Category  Rating  \\\n",
       "0     Photo Editor & Candy Camera & Grid & ScrapBook  ART_AND_DESIGN     4.1   \n",
       "1                                Coloring book moana  ART_AND_DESIGN     3.9   \n",
       "2  U Launcher Lite – FREE Live Cool Themes, Hide ...  ART_AND_DESIGN     4.7   \n",
       "3                              Sketch - Draw & Paint  ART_AND_DESIGN     4.5   \n",
       "4              Pixel Draw - Number Art Coloring Book  ART_AND_DESIGN     4.3   \n",
       "\n",
       "  Reviews  Size     Installs  Type Price Content Rating  \\\n",
       "0     159   19M      10,000+  Free     0       Everyone   \n",
       "1     967   14M     500,000+  Free     0       Everyone   \n",
       "2   87510  8.7M   5,000,000+  Free     0       Everyone   \n",
       "3  215644   25M  50,000,000+  Free     0           Teen   \n",
       "4     967  2.8M     100,000+  Free     0       Everyone   \n",
       "\n",
       "                      Genres      Last Updated         Current Ver  \\\n",
       "0               Art & Design   January 7, 2018               1.0.0   \n",
       "1  Art & Design;Pretend Play  January 15, 2018               2.0.0   \n",
       "2               Art & Design    August 1, 2018               1.2.4   \n",
       "3               Art & Design      June 8, 2018  Varies with device   \n",
       "4    Art & Design;Creativity     June 20, 2018                 1.1   \n",
       "\n",
       "    Android Ver  \n",
       "0  4.0.3 and up  \n",
       "1  4.0.3 and up  \n",
       "2  4.0.3 and up  \n",
       "3    4.2 and up  \n",
       "4    4.4 and up  "
      ]
     },
     "execution_count": 5,
     "metadata": {},
     "output_type": "execute_result"
    }
   ],
   "source": [
    "gplay.head()"
   ]
  },
  {
   "cell_type": "code",
   "execution_count": 6,
   "metadata": {},
   "outputs": [
    {
     "data": {
      "text/html": [
       "<div>\n",
       "<style scoped>\n",
       "    .dataframe tbody tr th:only-of-type {\n",
       "        vertical-align: middle;\n",
       "    }\n",
       "\n",
       "    .dataframe tbody tr th {\n",
       "        vertical-align: top;\n",
       "    }\n",
       "\n",
       "    .dataframe thead th {\n",
       "        text-align: right;\n",
       "    }\n",
       "</style>\n",
       "<table border=\"1\" class=\"dataframe\">\n",
       "  <thead>\n",
       "    <tr style=\"text-align: right;\">\n",
       "      <th></th>\n",
       "      <th>Rating</th>\n",
       "    </tr>\n",
       "  </thead>\n",
       "  <tbody>\n",
       "    <tr>\n",
       "      <th>count</th>\n",
       "      <td>9367.000000</td>\n",
       "    </tr>\n",
       "    <tr>\n",
       "      <th>mean</th>\n",
       "      <td>4.193338</td>\n",
       "    </tr>\n",
       "    <tr>\n",
       "      <th>std</th>\n",
       "      <td>0.537431</td>\n",
       "    </tr>\n",
       "    <tr>\n",
       "      <th>min</th>\n",
       "      <td>1.000000</td>\n",
       "    </tr>\n",
       "    <tr>\n",
       "      <th>25%</th>\n",
       "      <td>4.000000</td>\n",
       "    </tr>\n",
       "    <tr>\n",
       "      <th>50%</th>\n",
       "      <td>4.300000</td>\n",
       "    </tr>\n",
       "    <tr>\n",
       "      <th>75%</th>\n",
       "      <td>4.500000</td>\n",
       "    </tr>\n",
       "    <tr>\n",
       "      <th>max</th>\n",
       "      <td>19.000000</td>\n",
       "    </tr>\n",
       "  </tbody>\n",
       "</table>\n",
       "</div>"
      ],
      "text/plain": [
       "            Rating\n",
       "count  9367.000000\n",
       "mean      4.193338\n",
       "std       0.537431\n",
       "min       1.000000\n",
       "25%       4.000000\n",
       "50%       4.300000\n",
       "75%       4.500000\n",
       "max      19.000000"
      ]
     },
     "execution_count": 6,
     "metadata": {},
     "output_type": "execute_result"
    }
   ],
   "source": [
    "gplay.describe()"
   ]
  },
  {
   "cell_type": "code",
   "execution_count": 7,
   "metadata": {},
   "outputs": [
    {
     "name": "stdout",
     "output_type": "stream",
     "text": [
      "<class 'pandas.core.frame.DataFrame'>\n",
      "RangeIndex: 10841 entries, 0 to 10840\n",
      "Data columns (total 13 columns):\n",
      "App               10841 non-null object\n",
      "Category          10841 non-null object\n",
      "Rating            9367 non-null float64\n",
      "Reviews           10841 non-null object\n",
      "Size              10841 non-null object\n",
      "Installs          10841 non-null object\n",
      "Type              10840 non-null object\n",
      "Price             10841 non-null object\n",
      "Content Rating    10840 non-null object\n",
      "Genres            10841 non-null object\n",
      "Last Updated      10841 non-null object\n",
      "Current Ver       10833 non-null object\n",
      "Android Ver       10838 non-null object\n",
      "dtypes: float64(1), object(12)\n",
      "memory usage: 1.1+ MB\n"
     ]
    }
   ],
   "source": [
    "gplay.info()"
   ]
  },
  {
   "cell_type": "markdown",
   "metadata": {},
   "source": [
    "## Taking a quick look at the Data Structure \n",
    "We will go through each feature visualizing it, cleaning it, and breaking it down."
   ]
  },
  {
   "cell_type": "markdown",
   "metadata": {},
   "source": [
    "**we will drop NaN values for simplicity, since the objective is to predict the ratings of the apps, also and we cant reformat some values to visualize them without dealing with NaN first.**"
   ]
  },
  {
   "cell_type": "code",
   "execution_count": 8,
   "metadata": {},
   "outputs": [],
   "source": [
    "gplay.dropna(inplace=True)"
   ]
  },
  {
   "cell_type": "markdown",
   "metadata": {},
   "source": [
    "we will be using the `In-place` operation which is an operation that changes directly the content of a given linear algebra, \n",
    "vector, matrices(Tensor) without making a copy."
   ]
  },
  {
   "cell_type": "markdown",
   "metadata": {},
   "source": [
    "Lets start by visualizing the first feature `'Category'`  in a pie chart to figure how many categories are there, and we will use multiple colors from different cmaps to represent each of them:"
   ]
  },
  {
   "cell_type": "code",
   "execution_count": 9,
   "metadata": {},
   "outputs": [
    {
     "data": {
      "image/png": "[encoded data removed]",
      "text/plain": [
       "<Figure size 1080x720 with 1 Axes>"
      ]
     },
     "metadata": {},
     "output_type": "display_data"
    }
   ],
   "source": [
    "# visualizing 'Category' feature \n",
    "\n",
    "import matplotlib.pyplot as plt\n",
    "import numpy as np\n",
    "\n",
    "plt.figure(figsize=(15,10))\n",
    "\n",
    "x = gplay['Category'].value_counts().index #gets the labels\n",
    "y = gplay['Category'].value_counts() #gets the count for each label\n",
    "n = gplay['Category'].value_counts().count() #get the total count for this feature\n",
    "\n",
    "percent = 100.*y/y.sum()\n",
    "\n",
    "cmap = plt.get_cmap('tab20')\n",
    "color1 = [cmap(i) for i in np.linspace(0, 1, n//2+1)]\n",
    "cmap = plt.get_cmap('tab20c')\n",
    "color2 = [cmap(i) for i in np.linspace(0, 1, n//2+1)]\n",
    "\n",
    "colors = color1 + color2\n",
    "\n",
    "patches, texts = plt.pie(y, colors=colors, startangle=90, radius=1)\n",
    "\n",
    "labels = ['{0}: {1:1.2f} %'.format(i,j) for i,j in zip(x, percent)]\n",
    "\n",
    "sort_legend = False #incase you want them to be sorted according to their count\n",
    "\n",
    "if sort_legend:\n",
    "    patches, labels, dummy =  zip(*sorted(zip(patches, labels, y), key=lambda x: x[2], reverse=True))\n",
    "\n",
    "plt.legend(patches, labels, loc='best', bbox_to_anchor=(-0.1, 1.), fontsize=11)\n",
    "\n",
    "plt.savefig('piechart.png', bbox_inches='tight')"
   ]
  },
  {
   "cell_type": "markdown",
   "metadata": {},
   "source": [
    "Taking a look at the `'Category'` feature shows us that:\n",
    "- Family, Game, and Tool apps have more than third of the market share."
   ]
  },
  {
   "cell_type": "markdown",
   "metadata": {},
   "source": [
    "For `'Reviews'`, we just need to Change it from text values to numerical values."
   ]
  },
  {
   "cell_type": "code",
   "execution_count": 10,
   "metadata": {},
   "outputs": [],
   "source": [
    "gplay['Reviews'] = gplay['Reviews'].astype(int)"
   ]
  },
  {
   "cell_type": "markdown",
   "metadata": {},
   "source": [
    "For `'Size'`, we need to convert all app sizes to MB."
   ]
  },
  {
   "cell_type": "code",
   "execution_count": 11,
   "metadata": {},
   "outputs": [],
   "source": [
    "def cleaning_size(size):\n",
    "        if 'M' in size:\n",
    "            return float(size[:-1]) * 1_000_000\n",
    "        elif 'K' in size:\n",
    "            return float(size[:-1]) * 1_000\n",
    "        else:\n",
    "            return None    #for \"Varies with device\" size\n",
    "\n",
    "gplay['Size'] = gplay['Size'].map(cleaning_size)\n",
    "gplay.Size.fillna(method='ffill', inplace=True)    #forwardfill:propagates last valid observation forward"
   ]
  },
  {
   "cell_type": "markdown",
   "metadata": {},
   "source": [
    "For `'Installs'`, Remove '+' from it to make it numeric."
   ]
  },
  {
   "cell_type": "code",
   "execution_count": 12,
   "metadata": {},
   "outputs": [],
   "source": [
    "gplay['Installs'] = [int(num[:-1].replace(',','')) for num in gplay['Installs']]"
   ]
  },
  {
   "cell_type": "markdown",
   "metadata": {},
   "source": [
    "For `'Type'`, return a 0 for 'Free' apps and 1 for paid apps."
   ]
  },
  {
   "cell_type": "code",
   "execution_count": 13,
   "metadata": {},
   "outputs": [],
   "source": [
    "gplay['Type'] = [0  if type_ == 'Free' else 1 for type_ in gplay['Type']]"
   ]
  },
  {
   "cell_type": "markdown",
   "metadata": {},
   "source": [
    "For `'Price'`, change them to numeric form."
   ]
  },
  {
   "cell_type": "code",
   "execution_count": 14,
   "metadata": {},
   "outputs": [],
   "source": [
    "gplay['Price'] = [float(price_[1:])  if '$' in price_ else 0 for price_ in gplay['Price']]"
   ]
  },
  {
   "cell_type": "markdown",
   "metadata": {},
   "source": [
    "Just using 1 color map is enough for `'Content Rating'`:"
   ]
  },
  {
   "cell_type": "code",
   "execution_count": 15,
   "metadata": {},
   "outputs": [
    {
     "data": {
      "image/png": "[encoded data removed]",
      "text/plain": [
       "<Figure size 720x720 with 1 Axes>"
      ]
     },
     "metadata": {},
     "output_type": "display_data"
    }
   ],
   "source": [
    "# visualizing 'Content Rating' feature \n",
    "\n",
    "import matplotlib.pyplot as plt\n",
    "import numpy as np\n",
    "\n",
    "plt.figure(figsize=(10,10))\n",
    "\n",
    "x = gplay['Content Rating'].value_counts().index #gets the labels\n",
    "y = gplay['Content Rating'].value_counts() #gets the count for each label\n",
    "n = gplay['Content Rating'].value_counts().count() #get the total count for this feature\n",
    "\n",
    "percent = 100.*y/y.sum()\n",
    "\n",
    "cmap = plt.get_cmap('tab20')\n",
    "colors = [cmap(i) for i in np.linspace(0, 1, n//2+1)]\n",
    "\n",
    "\n",
    "patches, texts = plt.pie(y, colors=colors, startangle=90, radius=0.6)\n",
    "\n",
    "labels = ['\\'{0}\\': {1:1.2f} %'.format(i,j) for i,j in zip(x, percent)]\n",
    "\n",
    "sort_legend = False #incase you want them to be sorted according to their count\n",
    "\n",
    "if sort_legend:\n",
    "    patches, labels, dummy =  zip(*sorted(zip(patches, labels, y), key=lambda x: x[2], reverse=True))\n",
    "\n",
    "plt.legend(patches, labels, loc='best', bbox_to_anchor=(-0.1, 1.), fontsize=13)\n",
    "\n",
    "plt.savefig('piechart2.png', bbox_inches='tight')"
   ]
  },
  {
   "cell_type": "markdown",
   "metadata": {},
   "source": [
    "Taking a look at the `'Content Rating'` feature shows us that:\n",
    "- Everyone Rating is dominating the market."
   ]
  },
  {
   "cell_type": "markdown",
   "metadata": {},
   "source": [
    "For `'Genres'`, since it is a subset of `'Category'` we will just need to count its unique values."
   ]
  },
  {
   "cell_type": "code",
   "execution_count": 16,
   "metadata": {},
   "outputs": [],
   "source": [
    "uGenres = gplay.Genres.unique()\n",
    "GenresDict = {}\n",
    "for i in range(len(uGenres)):\n",
    "    GenresDict[uGenres[i]] = i\n",
    "gplay['Genres'] = gplay['Genres'].map(GenresDict).astype(int)"
   ]
  },
  {
   "cell_type": "markdown",
   "metadata": {},
   "source": [
    "After cleaning and reformating our features, we can have more info about our dataset."
   ]
  },
  {
   "cell_type": "code",
   "execution_count": 17,
   "metadata": {},
   "outputs": [
    {
     "data": {
      "text/html": [
       "<div>\n",
       "<style scoped>\n",
       "    .dataframe tbody tr th:only-of-type {\n",
       "        vertical-align: middle;\n",
       "    }\n",
       "\n",
       "    .dataframe tbody tr th {\n",
       "        vertical-align: top;\n",
       "    }\n",
       "\n",
       "    .dataframe thead th {\n",
       "        text-align: right;\n",
       "    }\n",
       "</style>\n",
       "<table border=\"1\" class=\"dataframe\">\n",
       "  <thead>\n",
       "    <tr style=\"text-align: right;\">\n",
       "      <th></th>\n",
       "      <th>App</th>\n",
       "      <th>Category</th>\n",
       "      <th>Rating</th>\n",
       "      <th>Reviews</th>\n",
       "      <th>Size</th>\n",
       "      <th>Installs</th>\n",
       "      <th>Type</th>\n",
       "      <th>Price</th>\n",
       "      <th>Content Rating</th>\n",
       "      <th>Genres</th>\n",
       "      <th>Last Updated</th>\n",
       "      <th>Current Ver</th>\n",
       "      <th>Android Ver</th>\n",
       "    </tr>\n",
       "  </thead>\n",
       "  <tbody>\n",
       "    <tr>\n",
       "      <th>0</th>\n",
       "      <td>Photo Editor &amp; Candy Camera &amp; Grid &amp; ScrapBook</td>\n",
       "      <td>ART_AND_DESIGN</td>\n",
       "      <td>4.1</td>\n",
       "      <td>159</td>\n",
       "      <td>19000000.0</td>\n",
       "      <td>10000</td>\n",
       "      <td>0</td>\n",
       "      <td>0.0</td>\n",
       "      <td>Everyone</td>\n",
       "      <td>0</td>\n",
       "      <td>January 7, 2018</td>\n",
       "      <td>1.0.0</td>\n",
       "      <td>4.0.3 and up</td>\n",
       "    </tr>\n",
       "    <tr>\n",
       "      <th>1</th>\n",
       "      <td>Coloring book moana</td>\n",
       "      <td>ART_AND_DESIGN</td>\n",
       "      <td>3.9</td>\n",
       "      <td>967</td>\n",
       "      <td>14000000.0</td>\n",
       "      <td>500000</td>\n",
       "      <td>0</td>\n",
       "      <td>0.0</td>\n",
       "      <td>Everyone</td>\n",
       "      <td>1</td>\n",
       "      <td>January 15, 2018</td>\n",
       "      <td>2.0.0</td>\n",
       "      <td>4.0.3 and up</td>\n",
       "    </tr>\n",
       "    <tr>\n",
       "      <th>2</th>\n",
       "      <td>U Launcher Lite – FREE Live Cool Themes, Hide ...</td>\n",
       "      <td>ART_AND_DESIGN</td>\n",
       "      <td>4.7</td>\n",
       "      <td>87510</td>\n",
       "      <td>8700000.0</td>\n",
       "      <td>5000000</td>\n",
       "      <td>0</td>\n",
       "      <td>0.0</td>\n",
       "      <td>Everyone</td>\n",
       "      <td>0</td>\n",
       "      <td>August 1, 2018</td>\n",
       "      <td>1.2.4</td>\n",
       "      <td>4.0.3 and up</td>\n",
       "    </tr>\n",
       "    <tr>\n",
       "      <th>3</th>\n",
       "      <td>Sketch - Draw &amp; Paint</td>\n",
       "      <td>ART_AND_DESIGN</td>\n",
       "      <td>4.5</td>\n",
       "      <td>215644</td>\n",
       "      <td>25000000.0</td>\n",
       "      <td>50000000</td>\n",
       "      <td>0</td>\n",
       "      <td>0.0</td>\n",
       "      <td>Teen</td>\n",
       "      <td>0</td>\n",
       "      <td>June 8, 2018</td>\n",
       "      <td>Varies with device</td>\n",
       "      <td>4.2 and up</td>\n",
       "    </tr>\n",
       "    <tr>\n",
       "      <th>4</th>\n",
       "      <td>Pixel Draw - Number Art Coloring Book</td>\n",
       "      <td>ART_AND_DESIGN</td>\n",
       "      <td>4.3</td>\n",
       "      <td>967</td>\n",
       "      <td>2800000.0</td>\n",
       "      <td>100000</td>\n",
       "      <td>0</td>\n",
       "      <td>0.0</td>\n",
       "      <td>Everyone</td>\n",
       "      <td>2</td>\n",
       "      <td>June 20, 2018</td>\n",
       "      <td>1.1</td>\n",
       "      <td>4.4 and up</td>\n",
       "    </tr>\n",
       "  </tbody>\n",
       "</table>\n",
       "</div>"
      ],
      "text/plain": [
       "                                                 App        Category  Rating  \\\n",
       "0     Photo Editor & Candy Camera & Grid & ScrapBook  ART_AND_DESIGN     4.1   \n",
       "1                                Coloring book moana  ART_AND_DESIGN     3.9   \n",
       "2  U Launcher Lite – FREE Live Cool Themes, Hide ...  ART_AND_DESIGN     4.7   \n",
       "3                              Sketch - Draw & Paint  ART_AND_DESIGN     4.5   \n",
       "4              Pixel Draw - Number Art Coloring Book  ART_AND_DESIGN     4.3   \n",
       "\n",
       "   Reviews        Size  Installs  Type  Price Content Rating  Genres  \\\n",
       "0      159  19000000.0     10000     0    0.0       Everyone       0   \n",
       "1      967  14000000.0    500000     0    0.0       Everyone       1   \n",
       "2    87510   8700000.0   5000000     0    0.0       Everyone       0   \n",
       "3   215644  25000000.0  50000000     0    0.0           Teen       0   \n",
       "4      967   2800000.0    100000     0    0.0       Everyone       2   \n",
       "\n",
       "       Last Updated         Current Ver   Android Ver  \n",
       "0   January 7, 2018               1.0.0  4.0.3 and up  \n",
       "1  January 15, 2018               2.0.0  4.0.3 and up  \n",
       "2    August 1, 2018               1.2.4  4.0.3 and up  \n",
       "3      June 8, 2018  Varies with device    4.2 and up  \n",
       "4     June 20, 2018                 1.1    4.4 and up  "
      ]
     },
     "execution_count": 17,
     "metadata": {},
     "output_type": "execute_result"
    }
   ],
   "source": [
    "gplay.head()"
   ]
  },
  {
   "cell_type": "code",
   "execution_count": 18,
   "metadata": {},
   "outputs": [
    {
     "name": "stdout",
     "output_type": "stream",
     "text": [
      "<class 'pandas.core.frame.DataFrame'>\n",
      "Int64Index: 9360 entries, 0 to 10840\n",
      "Data columns (total 13 columns):\n",
      "App               9360 non-null object\n",
      "Category          9360 non-null object\n",
      "Rating            9360 non-null float64\n",
      "Reviews           9360 non-null int32\n",
      "Size              9360 non-null float64\n",
      "Installs          9360 non-null int64\n",
      "Type              9360 non-null int64\n",
      "Price             9360 non-null float64\n",
      "Content Rating    9360 non-null object\n",
      "Genres            9360 non-null int32\n",
      "Last Updated      9360 non-null object\n",
      "Current Ver       9360 non-null object\n",
      "Android Ver       9360 non-null object\n",
      "dtypes: float64(3), int32(2), int64(2), object(6)\n",
      "memory usage: 950.6+ KB\n"
     ]
    }
   ],
   "source": [
    "gplay.info()"
   ]
  },
  {
   "cell_type": "code",
   "execution_count": 19,
   "metadata": {},
   "outputs": [
    {
     "data": {
      "text/html": [
       "<div>\n",
       "<style scoped>\n",
       "    .dataframe tbody tr th:only-of-type {\n",
       "        vertical-align: middle;\n",
       "    }\n",
       "\n",
       "    .dataframe tbody tr th {\n",
       "        vertical-align: top;\n",
       "    }\n",
       "\n",
       "    .dataframe thead th {\n",
       "        text-align: right;\n",
       "    }\n",
       "</style>\n",
       "<table border=\"1\" class=\"dataframe\">\n",
       "  <thead>\n",
       "    <tr style=\"text-align: right;\">\n",
       "      <th></th>\n",
       "      <th>Rating</th>\n",
       "      <th>Reviews</th>\n",
       "      <th>Size</th>\n",
       "      <th>Installs</th>\n",
       "      <th>Type</th>\n",
       "      <th>Price</th>\n",
       "      <th>Genres</th>\n",
       "    </tr>\n",
       "  </thead>\n",
       "  <tbody>\n",
       "    <tr>\n",
       "      <th>count</th>\n",
       "      <td>9360.000000</td>\n",
       "      <td>9.360000e+03</td>\n",
       "      <td>9.360000e+03</td>\n",
       "      <td>9.360000e+03</td>\n",
       "      <td>9360.000000</td>\n",
       "      <td>9360.000000</td>\n",
       "      <td>9360.000000</td>\n",
       "    </tr>\n",
       "    <tr>\n",
       "      <th>mean</th>\n",
       "      <td>4.191838</td>\n",
       "      <td>5.143767e+05</td>\n",
       "      <td>2.373330e+07</td>\n",
       "      <td>1.790875e+07</td>\n",
       "      <td>0.068910</td>\n",
       "      <td>0.961279</td>\n",
       "      <td>49.806731</td>\n",
       "    </tr>\n",
       "    <tr>\n",
       "      <th>std</th>\n",
       "      <td>0.515263</td>\n",
       "      <td>3.145023e+06</td>\n",
       "      <td>2.326294e+07</td>\n",
       "      <td>9.126637e+07</td>\n",
       "      <td>0.253315</td>\n",
       "      <td>15.821640</td>\n",
       "      <td>34.100336</td>\n",
       "    </tr>\n",
       "    <tr>\n",
       "      <th>min</th>\n",
       "      <td>1.000000</td>\n",
       "      <td>1.000000e+00</td>\n",
       "      <td>1.000000e+06</td>\n",
       "      <td>1.000000e+00</td>\n",
       "      <td>0.000000</td>\n",
       "      <td>0.000000</td>\n",
       "      <td>0.000000</td>\n",
       "    </tr>\n",
       "    <tr>\n",
       "      <th>25%</th>\n",
       "      <td>4.000000</td>\n",
       "      <td>1.867500e+02</td>\n",
       "      <td>6.000000e+06</td>\n",
       "      <td>1.000000e+04</td>\n",
       "      <td>0.000000</td>\n",
       "      <td>0.000000</td>\n",
       "      <td>19.000000</td>\n",
       "    </tr>\n",
       "    <tr>\n",
       "      <th>50%</th>\n",
       "      <td>4.300000</td>\n",
       "      <td>5.955000e+03</td>\n",
       "      <td>1.500000e+07</td>\n",
       "      <td>5.000000e+05</td>\n",
       "      <td>0.000000</td>\n",
       "      <td>0.000000</td>\n",
       "      <td>38.000000</td>\n",
       "    </tr>\n",
       "    <tr>\n",
       "      <th>75%</th>\n",
       "      <td>4.500000</td>\n",
       "      <td>8.162750e+04</td>\n",
       "      <td>3.400000e+07</td>\n",
       "      <td>5.000000e+06</td>\n",
       "      <td>0.000000</td>\n",
       "      <td>0.000000</td>\n",
       "      <td>88.000000</td>\n",
       "    </tr>\n",
       "    <tr>\n",
       "      <th>max</th>\n",
       "      <td>5.000000</td>\n",
       "      <td>7.815831e+07</td>\n",
       "      <td>1.000000e+08</td>\n",
       "      <td>1.000000e+09</td>\n",
       "      <td>1.000000</td>\n",
       "      <td>400.000000</td>\n",
       "      <td>114.000000</td>\n",
       "    </tr>\n",
       "  </tbody>\n",
       "</table>\n",
       "</div>"
      ],
      "text/plain": [
       "            Rating       Reviews          Size      Installs         Type  \\\n",
       "count  9360.000000  9.360000e+03  9.360000e+03  9.360000e+03  9360.000000   \n",
       "mean      4.191838  5.143767e+05  2.373330e+07  1.790875e+07     0.068910   \n",
       "std       0.515263  3.145023e+06  2.326294e+07  9.126637e+07     0.253315   \n",
       "min       1.000000  1.000000e+00  1.000000e+06  1.000000e+00     0.000000   \n",
       "25%       4.000000  1.867500e+02  6.000000e+06  1.000000e+04     0.000000   \n",
       "50%       4.300000  5.955000e+03  1.500000e+07  5.000000e+05     0.000000   \n",
       "75%       4.500000  8.162750e+04  3.400000e+07  5.000000e+06     0.000000   \n",
       "max       5.000000  7.815831e+07  1.000000e+08  1.000000e+09     1.000000   \n",
       "\n",
       "             Price       Genres  \n",
       "count  9360.000000  9360.000000  \n",
       "mean      0.961279    49.806731  \n",
       "std      15.821640    34.100336  \n",
       "min       0.000000     0.000000  \n",
       "25%       0.000000    19.000000  \n",
       "50%       0.000000    38.000000  \n",
       "75%       0.000000    88.000000  \n",
       "max     400.000000   114.000000  "
      ]
     },
     "execution_count": 19,
     "metadata": {},
     "output_type": "execute_result"
    }
   ],
   "source": [
    "gplay.describe()"
   ]
  },
  {
   "cell_type": "code",
   "execution_count": 20,
   "metadata": {},
   "outputs": [
    {
     "data": {
      "text/plain": [
       "array([[<matplotlib.axes._subplots.AxesSubplot object at 0x0000022BF5C9BBC8>,\n",
       "        <matplotlib.axes._subplots.AxesSubplot object at 0x0000022BF5F0C048>,\n",
       "        <matplotlib.axes._subplots.AxesSubplot object at 0x0000022BF5F41C08>],\n",
       "       [<matplotlib.axes._subplots.AxesSubplot object at 0x0000022BF5F77D08>,\n",
       "        <matplotlib.axes._subplots.AxesSubplot object at 0x0000022BF6240E48>,\n",
       "        <matplotlib.axes._subplots.AxesSubplot object at 0x0000022BF627B148>],\n",
       "       [<matplotlib.axes._subplots.AxesSubplot object at 0x0000022BF62B5108>,\n",
       "        <matplotlib.axes._subplots.AxesSubplot object at 0x0000022BF62EE248>,\n",
       "        <matplotlib.axes._subplots.AxesSubplot object at 0x0000022BF62F3E08>]],\n",
       "      dtype=object)"
      ]
     },
     "execution_count": 20,
     "metadata": {},
     "output_type": "execute_result"
    },
    {
     "data": {
      "image/png": "[encoded data removed]",
      "text/plain": [
       "<Figure size 1440x1080 with 9 Axes>"
      ]
     },
     "metadata": {
      "needs_background": "light"
     },
     "output_type": "display_data"
    }
   ],
   "source": [
    "%matplotlib inline\n",
    "gplay.hist(bins=40, figsize=(20,15))"
   ]
  },
  {
   "cell_type": "markdown",
   "metadata": {},
   "source": [
    "From the histograms, we find out that:\n",
    "- the **Everyone** Content rating is dominating the app store just like what we figured out from the pie chart.\n",
    "- not everyone who rated an app wrote a review.\n",
    "- the app store are mostly free apps."
   ]
  },
  {
   "cell_type": "markdown",
   "metadata": {},
   "source": [
    "# Create a Test Set\n",
    "\n",
    "After Taking a quick look at the Data Structure of our attributes and changing some of them to get a better visualization and be able to get the most out of them when fed into a machine learning algorithm, we will now create a Test set before taking any major steps."
   ]
  },
  {
   "cell_type": "markdown",
   "metadata": {},
   "source": [
    "We will create a test set now before we find any intersting patterns that maybe will influence us to select a particular kind of Machine Learning model which may in turn give us an optimistic estimate, which will make our system not perform as well as expected after launch due to **Snooping bias**."
   ]
  },
  {
   "cell_type": "markdown",
   "metadata": {},
   "source": [
    "We will need make another assumption here to create a Test set which isn't skewed, with no bias, and representative for the whole data set, we will be using **Stratified sampling** on `'Category'` feature assuming it is the most important feature for the rating dataset. \n",
    "**Stratified sampling** is in most cases a much better option than **Random sampling** which can be skewed.\n",
    "\n",
    "- **Random sampling** involves the random selection of data from the entire population so each possible sample is equally likely to occur. \n",
    "- **Stratified sampling** divides the population into smaller groups, or strata, based on shared characteristics."
   ]
  },
  {
   "cell_type": "code",
   "execution_count": 21,
   "metadata": {},
   "outputs": [
    {
     "data": {
      "text/plain": [
       "<matplotlib.axes._subplots.AxesSubplot at 0x22bf78d5888>"
      ]
     },
     "execution_count": 21,
     "metadata": {},
     "output_type": "execute_result"
    },
    {
     "data": {
      "image/png": "[encoded data removed]",
      "text/plain": [
       "<Figure size 432x288 with 1 Axes>"
      ]
     },
     "metadata": {
      "needs_background": "light"
     },
     "output_type": "display_data"
    }
   ],
   "source": [
    "gplay_cat = gplay[[\"Category\"]]\n",
    "\n",
    "from sklearn.preprocessing import OrdinalEncoder\n",
    "ordinal_encoder = OrdinalEncoder()\n",
    "gplay_cat_encoded = ordinal_encoder.fit_transform(gplay_cat)\n",
    "gplay[\"Category_cat\"] = gplay_cat_encoded\n",
    "gplay[\"Category_cat\"].hist()"
   ]
  },
  {
   "cell_type": "markdown",
   "metadata": {},
   "source": [
    "To get a list of the caregories represented, use the following:"
   ]
  },
  {
   "cell_type": "code",
   "execution_count": 22,
   "metadata": {
    "scrolled": true
   },
   "outputs": [
    {
     "data": {
      "text/plain": [
       "[array(['ART_AND_DESIGN', 'AUTO_AND_VEHICLES', 'BEAUTY',\n",
       "        'BOOKS_AND_REFERENCE', 'BUSINESS', 'COMICS', 'COMMUNICATION',\n",
       "        'DATING', 'EDUCATION', 'ENTERTAINMENT', 'EVENTS', 'FAMILY',\n",
       "        'FINANCE', 'FOOD_AND_DRINK', 'GAME', 'HEALTH_AND_FITNESS',\n",
       "        'HOUSE_AND_HOME', 'LIBRARIES_AND_DEMO', 'LIFESTYLE',\n",
       "        'MAPS_AND_NAVIGATION', 'MEDICAL', 'NEWS_AND_MAGAZINES',\n",
       "        'PARENTING', 'PERSONALIZATION', 'PHOTOGRAPHY', 'PRODUCTIVITY',\n",
       "        'SHOPPING', 'SOCIAL', 'SPORTS', 'TOOLS', 'TRAVEL_AND_LOCAL',\n",
       "        'VIDEO_PLAYERS', 'WEATHER'], dtype=object)]"
      ]
     },
     "execution_count": 22,
     "metadata": {},
     "output_type": "execute_result"
    }
   ],
   "source": [
    "ordinal_encoder.categories_"
   ]
  },
  {
   "cell_type": "code",
   "execution_count": 23,
   "metadata": {},
   "outputs": [
    {
     "name": "stderr",
     "output_type": "stream",
     "text": [
      "C:\\Users\\Admin\\Anaconda3\\lib\\site-packages\\ipykernel_launcher.py:5: FutureWarning: \n",
      "Passing list-likes to .loc or [] with any missing label will raise\n",
      "KeyError in the future, you can use .reindex() as an alternative.\n",
      "\n",
      "See the documentation here:\n",
      "https://pandas.pydata.org/pandas-docs/stable/user_guide/indexing.html#deprecate-loc-reindex-listlike\n",
      "  \"\"\"\n",
      "C:\\Users\\Admin\\Anaconda3\\lib\\site-packages\\ipykernel_launcher.py:6: FutureWarning: \n",
      "Passing list-likes to .loc or [] with any missing label will raise\n",
      "KeyError in the future, you can use .reindex() as an alternative.\n",
      "\n",
      "See the documentation here:\n",
      "https://pandas.pydata.org/pandas-docs/stable/user_guide/indexing.html#deprecate-loc-reindex-listlike\n",
      "  \n"
     ]
    }
   ],
   "source": [
    "from sklearn.model_selection import StratifiedShuffleSplit\n",
    "\n",
    "split = StratifiedShuffleSplit(n_splits=1, test_size=0.2, random_state=42)\n",
    "for train_index, test_index in split.split(gplay, gplay[\"Category_cat\"]):\n",
    "    strat_train_set = gplay.loc[train_index]\n",
    "    strat_test_set = gplay.loc[test_index]"
   ]
  },
  {
   "cell_type": "markdown",
   "metadata": {},
   "source": [
    "Now, lets check and see if the test_set follows histogram of `Category_cat` for the full dataset."
   ]
  },
  {
   "cell_type": "code",
   "execution_count": 24,
   "metadata": {},
   "outputs": [
    {
     "data": {
      "text/plain": [
       "11.0    0.159722\n",
       "14.0    0.098291\n",
       "29.0    0.068376\n",
       "20.0    0.040598\n",
       "25.0    0.033120\n",
       "24.0    0.033120\n",
       "12.0    0.030983\n",
       "15.0    0.028846\n",
       "26.0    0.027778\n",
       "23.0    0.027778\n",
       "4.0     0.027778\n",
       "18.0    0.027244\n",
       "6.0     0.026175\n",
       "27.0    0.025641\n",
       "28.0    0.022436\n",
       "3.0     0.021368\n",
       "7.0     0.019231\n",
       "31.0    0.019231\n",
       "8.0     0.017628\n",
       "30.0    0.017628\n",
       "21.0    0.014957\n",
       "9.0     0.014957\n",
       "13.0    0.012286\n",
       "19.0    0.011218\n",
       "16.0    0.008547\n",
       "1.0     0.008013\n",
       "32.0    0.008013\n",
       "5.0     0.007479\n",
       "17.0    0.005876\n",
       "22.0    0.004808\n",
       "10.0    0.004274\n",
       "0.0     0.004274\n",
       "2.0     0.003739\n",
       "Name: Category_cat, dtype: float64"
      ]
     },
     "execution_count": 24,
     "metadata": {},
     "output_type": "execute_result"
    }
   ],
   "source": [
    "strat_test_set[\"Category_cat\"].value_counts() / len(strat_test_set)"
   ]
  },
  {
   "cell_type": "markdown",
   "metadata": {},
   "source": [
    "After making our desired test_set, we can now drop the new attribute `'Category_cat'` to get the original databack."
   ]
  },
  {
   "cell_type": "code",
   "execution_count": 25,
   "metadata": {},
   "outputs": [],
   "source": [
    "for set_ in (strat_train_set, strat_test_set):\n",
    "    set_.drop(\"Category_cat\", axis=1, inplace=True)"
   ]
  },
  {
   "cell_type": "markdown",
   "metadata": {},
   "source": [
    "## Discover and Visualize\n",
    "After putting the test_set aside, we can go into more depth in exploring the train_set. Since our data set is quite small, we can work directly on the full set. First we will need a copy to not alter the original dataset"
   ]
  },
  {
   "cell_type": "code",
   "execution_count": 26,
   "metadata": {},
   "outputs": [],
   "source": [
    "gplay = strat_train_set.copy()"
   ]
  },
  {
   "cell_type": "markdown",
   "metadata": {},
   "source": [
    "Now, we can look for how much each attribute correlates with `'Rating'` attribute."
   ]
  },
  {
   "cell_type": "code",
   "execution_count": 27,
   "metadata": {},
   "outputs": [
    {
     "data": {
      "text/plain": [
       "Rating      1.000000\n",
       "Size        0.086284\n",
       "Reviews     0.064944\n",
       "Installs    0.047218\n",
       "Type        0.036922\n",
       "Genres     -0.026535\n",
       "Price      -0.026860\n",
       "Name: Rating, dtype: float64"
      ]
     },
     "execution_count": 27,
     "metadata": {},
     "output_type": "execute_result"
    }
   ],
   "source": [
    "corr_matrix = gplay.corr()\n",
    "corr_matrix[\"Rating\"].sort_values(ascending=False)"
   ]
  },
  {
   "cell_type": "markdown",
   "metadata": {},
   "source": [
    "We will start by looking for any evident relationships or patterns between the attributes."
   ]
  },
  {
   "cell_type": "code",
   "execution_count": 28,
   "metadata": {
    "scrolled": false
   },
   "outputs": [
    {
     "name": "stderr",
     "output_type": "stream",
     "text": [
      "C:\\Users\\Admin\\Anaconda3\\lib\\site-packages\\seaborn\\distributions.py:288: UserWarning: Data must have variance to compute a kernel density estimate.\n",
      "  warnings.warn(msg, UserWarning)\n"
     ]
    },
    {
     "data": {
      "image/png": "[encoded data removed]",
      "text/plain": [
       "<Figure size 1314.97x1260 with 30 Axes>"
      ]
     },
     "metadata": {},
     "output_type": "display_data"
    }
   ],
   "source": [
    "import seaborn as sb\n",
    "sb.set(style=\"ticks\")\n",
    "attributes = [\"Rating\", \"Size\", \"Reviews\", \"Installs\", \"Price\"]\n",
    "figure = sb.pairplot(gplay, vars=attributes, height=3.5, hue=\"Type\", markers=[\"o\", \"d\"], kind=\"reg\")\n",
    "figure.savefig(\"relationships.png\")"
   ]
  },
  {
   "cell_type": "markdown",
   "metadata": {},
   "source": [
    "- `0` represents **free** apps.\n",
    "- `1` represents **paid** apps."
   ]
  },
  {
   "cell_type": "markdown",
   "metadata": {},
   "source": [
    "We can now experiment with some attribute combinations, so we can maybe get a more intersting attribute."
   ]
  },
  {
   "cell_type": "code",
   "execution_count": 29,
   "metadata": {},
   "outputs": [],
   "source": [
    "gplay[\"review_per_install\"]=gplay[\"Reviews\"]/gplay[\"Installs\"]\n",
    "gplay[\"size_per_install\"]=gplay[\"Size\"]/gplay[\"Installs\"]\n",
    "gplay[\"price_per_install\"]=gplay[\"Price\"]/gplay[\"Installs\"]"
   ]
  },
  {
   "cell_type": "code",
   "execution_count": 30,
   "metadata": {
    "scrolled": true
   },
   "outputs": [
    {
     "data": {
      "text/plain": [
       "Rating                1.000000\n",
       "review_per_install    0.209966\n",
       "Size                  0.086284\n",
       "Reviews               0.064944\n",
       "size_per_install      0.057274\n",
       "Installs              0.047218\n",
       "Type                  0.036922\n",
       "price_per_install     0.019932\n",
       "Genres               -0.026535\n",
       "Price                -0.026860\n",
       "Name: Rating, dtype: float64"
      ]
     },
     "execution_count": 30,
     "metadata": {},
     "output_type": "execute_result"
    }
   ],
   "source": [
    "corr_matrix = gplay.corr()\n",
    "corr_matrix[\"Rating\"].sort_values(ascending=False)"
   ]
  },
  {
   "cell_type": "markdown",
   "metadata": {},
   "source": [
    "From taking a look at the correlation matrix, we find out that:\n",
    "- `'review_per_install'` is much more correlated with the `'Rating'` attribute than `'Reviews'` or `'Installs'`.\n",
    "\n",
    "But the other combinations didn't help as much, we will do more testing before making a decision but more on that later."
   ]
  },
  {
   "cell_type": "markdown",
   "metadata": {},
   "source": [
    "## Preparing the Data for Machine Learning"
   ]
  },
  {
   "cell_type": "markdown",
   "metadata": {},
   "source": [
    "### Data Cleaning\n",
    "Let's revert to our clean training set to start applying transformation to it."
   ]
  },
  {
   "cell_type": "code",
   "execution_count": 31,
   "metadata": {},
   "outputs": [
    {
     "data": {
      "text/html": [
       "<div>\n",
       "<style scoped>\n",
       "    .dataframe tbody tr th:only-of-type {\n",
       "        vertical-align: middle;\n",
       "    }\n",
       "\n",
       "    .dataframe tbody tr th {\n",
       "        vertical-align: top;\n",
       "    }\n",
       "\n",
       "    .dataframe thead th {\n",
       "        text-align: right;\n",
       "    }\n",
       "</style>\n",
       "<table border=\"1\" class=\"dataframe\">\n",
       "  <thead>\n",
       "    <tr style=\"text-align: right;\">\n",
       "      <th></th>\n",
       "      <th>App</th>\n",
       "      <th>Category</th>\n",
       "      <th>Reviews</th>\n",
       "      <th>Size</th>\n",
       "      <th>Installs</th>\n",
       "      <th>Type</th>\n",
       "      <th>Price</th>\n",
       "      <th>Content Rating</th>\n",
       "      <th>Genres</th>\n",
       "      <th>Last Updated</th>\n",
       "      <th>Current Ver</th>\n",
       "      <th>Android Ver</th>\n",
       "    </tr>\n",
       "  </thead>\n",
       "  <tbody>\n",
       "    <tr>\n",
       "      <th>8665</th>\n",
       "      <td>How well do you know me?</td>\n",
       "      <td>GAME</td>\n",
       "      <td>1290.0</td>\n",
       "      <td>6400000.0</td>\n",
       "      <td>100000.0</td>\n",
       "      <td>0.0</td>\n",
       "      <td>0.0</td>\n",
       "      <td>Everyone</td>\n",
       "      <td>40.0</td>\n",
       "      <td>July 26, 2018</td>\n",
       "      <td>2.3.0</td>\n",
       "      <td>4.1 and up</td>\n",
       "    </tr>\n",
       "    <tr>\n",
       "      <th>1152</th>\n",
       "      <td>GoBank</td>\n",
       "      <td>FINANCE</td>\n",
       "      <td>5950.0</td>\n",
       "      <td>12000000.0</td>\n",
       "      <td>500000.0</td>\n",
       "      <td>0.0</td>\n",
       "      <td>0.0</td>\n",
       "      <td>Everyone</td>\n",
       "      <td>23.0</td>\n",
       "      <td>June 1, 2018</td>\n",
       "      <td>2.131</td>\n",
       "      <td>4.1 and up</td>\n",
       "    </tr>\n",
       "    <tr>\n",
       "      <th>6134</th>\n",
       "      <td>Photo BG Changer</td>\n",
       "      <td>PHOTOGRAPHY</td>\n",
       "      <td>11.0</td>\n",
       "      <td>17000000.0</td>\n",
       "      <td>1000.0</td>\n",
       "      <td>0.0</td>\n",
       "      <td>0.0</td>\n",
       "      <td>Everyone</td>\n",
       "      <td>87.0</td>\n",
       "      <td>February 21, 2018</td>\n",
       "      <td>1.3</td>\n",
       "      <td>4.1 and up</td>\n",
       "    </tr>\n",
       "    <tr>\n",
       "      <th>7882</th>\n",
       "      <td>NaN</td>\n",
       "      <td>NaN</td>\n",
       "      <td>NaN</td>\n",
       "      <td>NaN</td>\n",
       "      <td>NaN</td>\n",
       "      <td>NaN</td>\n",
       "      <td>NaN</td>\n",
       "      <td>NaN</td>\n",
       "      <td>NaN</td>\n",
       "      <td>NaN</td>\n",
       "      <td>NaN</td>\n",
       "      <td>NaN</td>\n",
       "    </tr>\n",
       "    <tr>\n",
       "      <th>3246</th>\n",
       "      <td>File Manager</td>\n",
       "      <td>TOOLS</td>\n",
       "      <td>739329.0</td>\n",
       "      <td>5300000.0</td>\n",
       "      <td>50000000.0</td>\n",
       "      <td>0.0</td>\n",
       "      <td>0.0</td>\n",
       "      <td>Everyone</td>\n",
       "      <td>90.0</td>\n",
       "      <td>April 17, 2018</td>\n",
       "      <td>Varies with device</td>\n",
       "      <td>Varies with device</td>\n",
       "    </tr>\n",
       "  </tbody>\n",
       "</table>\n",
       "</div>"
      ],
      "text/plain": [
       "                           App     Category   Reviews        Size    Installs  \\\n",
       "8665  How well do you know me?         GAME    1290.0   6400000.0    100000.0   \n",
       "1152                    GoBank      FINANCE    5950.0  12000000.0    500000.0   \n",
       "6134          Photo BG Changer  PHOTOGRAPHY      11.0  17000000.0      1000.0   \n",
       "7882                       NaN          NaN       NaN         NaN         NaN   \n",
       "3246              File Manager        TOOLS  739329.0   5300000.0  50000000.0   \n",
       "\n",
       "      Type  Price Content Rating  Genres       Last Updated  \\\n",
       "8665   0.0    0.0       Everyone    40.0      July 26, 2018   \n",
       "1152   0.0    0.0       Everyone    23.0       June 1, 2018   \n",
       "6134   0.0    0.0       Everyone    87.0  February 21, 2018   \n",
       "7882   NaN    NaN            NaN     NaN                NaN   \n",
       "3246   0.0    0.0       Everyone    90.0     April 17, 2018   \n",
       "\n",
       "             Current Ver         Android Ver  \n",
       "8665               2.3.0          4.1 and up  \n",
       "1152               2.131          4.1 and up  \n",
       "6134                 1.3          4.1 and up  \n",
       "7882                 NaN                 NaN  \n",
       "3246  Varies with device  Varies with device  "
      ]
     },
     "execution_count": 31,
     "metadata": {},
     "output_type": "execute_result"
    }
   ],
   "source": [
    "gplay = strat_train_set.drop(\"Rating\", axis=1) # drop labels for training set\n",
    "gplay_labels = strat_train_set[\"Rating\"].copy()\n",
    "gplay.head()"
   ]
  },
  {
   "cell_type": "markdown",
   "metadata": {},
   "source": [
    "Since Most Machine Learning algorithms cannot work with missing features, we will have to deal with the missing values. First lets check how many NaN values are there in each feature."
   ]
  },
  {
   "cell_type": "code",
   "execution_count": 32,
   "metadata": {},
   "outputs": [
    {
     "data": {
      "text/plain": [
       "App               918\n",
       "Category          918\n",
       "Reviews           918\n",
       "Size              918\n",
       "Installs          918\n",
       "Type              918\n",
       "Price             918\n",
       "Content Rating    918\n",
       "Genres            918\n",
       "Last Updated      918\n",
       "Current Ver       918\n",
       "Android Ver       918\n",
       "dtype: int64"
      ]
     },
     "execution_count": 32,
     "metadata": {},
     "output_type": "execute_result"
    }
   ],
   "source": [
    "# np.any(np.isnan(mat))\n",
    "# np.all(np.isfinite(mat))\n",
    "\n",
    "gplay.isnull().sum()"
   ]
  },
  {
   "cell_type": "markdown",
   "metadata": {},
   "source": [
    "These NaN values resulted from splitting the dataset, so we will have to replace them in this case as they are NaN instances 'apps' rather than some missing values. However, in most cases we can:\n",
    "- if there is a lot of missing values we can drop the whole attribute.\n",
    "- if there is only some missing values, we can either swap the NaN values to some other value (like for example 0's or the mean for this attribute), or get rid of the corresponding apps."
   ]
  },
  {
   "cell_type": "code",
   "execution_count": 33,
   "metadata": {},
   "outputs": [
    {
     "data": {
      "text/plain": [
       "App               0\n",
       "Category          0\n",
       "Reviews           0\n",
       "Size              0\n",
       "Installs          0\n",
       "Type              0\n",
       "Price             0\n",
       "Content Rating    0\n",
       "Genres            0\n",
       "Last Updated      0\n",
       "Current Ver       0\n",
       "Android Ver       0\n",
       "dtype: int64"
      ]
     },
     "execution_count": 33,
     "metadata": {},
     "output_type": "execute_result"
    }
   ],
   "source": [
    "gplay.fillna(method='ffill', inplace=True)\n",
    "gplay_labels.fillna(method='ffill', inplace=True)\n",
    "gplay.isnull().sum()"
   ]
  },
  {
   "cell_type": "markdown",
   "metadata": {},
   "source": [
    "#### Assumptions\n",
    "The features: `'App'`, `'Last Updated'`, `'Current Ver'`, and `'Android Ver'` will have a little to no effect on the training algorithm as they are in my opinion not an important aspect when looking into installing a new app.\n",
    "- **App:** this contains the app name, and you can make a strong argument it is a needed attribute, but I don't think it is needed for the sake of simplicity.\n",
    "- **Last Updated:** this can mean that it is a final product and it needs no further improvment or fixes, but can also mean it is abandoned.\n",
    "* **Current Ver:** this will be different from app to app depending on the developers, so there is no point keeping it.\n",
    "* **Android Ver:** most of the time, users who can already install the app on their phone and hence do not have an older version of andriord, will only rate the app, also it is backward compatiable so no point in keeping it either."
   ]
  },
  {
   "cell_type": "code",
   "execution_count": 34,
   "metadata": {},
   "outputs": [],
   "source": [
    "gplay.drop(labels = ['App', 'Last Updated','Current Ver','Android Ver'], axis = 1, inplace = True)"
   ]
  },
  {
   "cell_type": "markdown",
   "metadata": {},
   "source": [
    "### Transformers\n",
    "Lets add the transformers we will be using, we will start by **one-hot encoding** transformer, which convert categorical values into SciPy **sparse matrix** (one-hot vectors).<br> <br>\n",
    "**a sparse matrix:** is a matrix in which most of the elements are zero. <br> <br>\n",
    "We will use it later on `'Category'` and `'Generes'` attributes, we only need to initalize it for now.\n",
    "\n",
    "**one-hot encoding**: when there are several features for each record that are non-numeric. Typically, learning algorithms expect input to be numeric, which requires that non-numeric features (called *categorical variables*) be converted. One popular way to convert categorical variables is by using the **one-hot encoding** scheme. One-hot encoding creates a _\"dummy\"_ variable for each possible category of each non-numeric feature. For example, assume `someFeature` has three possible entries: `A`, `B`, or `C`. We then encode this feature into `someFeature_A`, `someFeature_B` and `someFeature_C`.\n",
    "\n",
    "|   | someFeature |                    | someFeature_A | someFeature_B | someFeature_C |\n",
    "| :-: | :-: |                            | :-: | :-: | :-: |\n",
    "| 0 |  B  |  | 0 | 1 | 0 |\n",
    "| 1 |  C  | ----> one-hot encode ----> | 0 | 0 | 1 |\n",
    "| 2 |  A  |  | 1 | 0 | 0 |\n"
   ]
  },
  {
   "cell_type": "code",
   "execution_count": 35,
   "metadata": {},
   "outputs": [],
   "source": [
    "from sklearn.preprocessing import OneHotEncoder\n",
    "cat_encoder = OneHotEncoder()\n",
    "\n",
    "# gplay_cat = gplay[[\"Category\"]]\n",
    "# gplay_cat_1hot = cat_encoder.fit_transform(gplay_cat)\n",
    "# gplay_cat_1hot.toarray()\n",
    "# cat_encoder.categories_\n",
    "\n",
    "#WARNING MSG \n",
    "#np.seterr(divide='ignore', invalid='ignore')\n",
    "#np.errstate(divide='ignore',invalid='ignore') # for a block of code"
   ]
  },
  {
   "cell_type": "markdown",
   "metadata": {},
   "source": [
    "We can add now our **custom transformer**, we will need it to combine the attributes that we got earlier.\n",
    "We need it to work seamlessly with Scikit-Learn functionalities, so we need to create a class and implement three methods:\n",
    "- fit() .\n",
    "- transform() .\n",
    "- fit_transform() .\n",
    "\n",
    "We will make each new combined attribute as a **hyperparameter**, which will allow us to easily find out whether adding this attribute helps the Machine Learning algorithms or not. <br><br>\n",
    " **hyperparameter** is a parameter whose value is set before the learning process begins."
   ]
  },
  {
   "cell_type": "code",
   "execution_count": 36,
   "metadata": {},
   "outputs": [],
   "source": [
    "from sklearn.base import BaseEstimator, TransformerMixin\n",
    "\n",
    "reviews_ix = gplay.columns.get_loc(\"Reviews\")\n",
    "installs_ix = gplay.columns.get_loc(\"Installs\")\n",
    "size_ix = gplay.columns.get_loc(\"Size\")\n",
    "price_ix = gplay.columns.get_loc(\"Price\")\n",
    "\n",
    "class CombinedAttributesAdder(BaseEstimator, TransformerMixin):\n",
    "    def __init__(self, add_review_per_install=True, add_size_per_install=True, add_price_per_install=True):\n",
    "        # no *args or **kargs\n",
    "        self.add_review_per_install = add_review_per_install\n",
    "        self.add_size_per_install = add_size_per_install\n",
    "        self.add_price_per_install = add_price_per_install\n",
    "        \n",
    "    def fit(self, X, y=None):\n",
    "        return self # nothing else to do\n",
    "    \n",
    "    def transform(self, X):\n",
    "        y = np.c_[X]\n",
    "        if self.add_review_per_install:\n",
    "            review_per_install = X[:, reviews_ix] / X[:, installs_ix]\n",
    "            y = np.c_[y, review_per_install]\n",
    "        if self.add_size_per_install:\n",
    "            size_per_install = X[:, size_ix] / X[:, installs_ix]\n",
    "            y = np.c_[y, size_per_install]\n",
    "        if self.add_price_per_install:\n",
    "            install_per_price = X[:, price_ix] / X[:, installs_ix]\n",
    "            y = np.c_[y, install_per_price]\n",
    "        return y\n",
    "\n"
   ]
  },
  {
   "cell_type": "markdown",
   "metadata": {},
   "source": [
    "For `'Content Rating'`, We will turn them into numeric values, because they have an order to them unlike `'Category'`."
   ]
  },
  {
   "cell_type": "code",
   "execution_count": 37,
   "metadata": {},
   "outputs": [
    {
     "data": {
      "text/html": [
       "<div>\n",
       "<style scoped>\n",
       "    .dataframe tbody tr th:only-of-type {\n",
       "        vertical-align: middle;\n",
       "    }\n",
       "\n",
       "    .dataframe tbody tr th {\n",
       "        vertical-align: top;\n",
       "    }\n",
       "\n",
       "    .dataframe thead th {\n",
       "        text-align: right;\n",
       "    }\n",
       "</style>\n",
       "<table border=\"1\" class=\"dataframe\">\n",
       "  <thead>\n",
       "    <tr style=\"text-align: right;\">\n",
       "      <th></th>\n",
       "      <th>Category</th>\n",
       "      <th>Reviews</th>\n",
       "      <th>Size</th>\n",
       "      <th>Installs</th>\n",
       "      <th>Type</th>\n",
       "      <th>Price</th>\n",
       "      <th>Content Rating</th>\n",
       "      <th>Genres</th>\n",
       "    </tr>\n",
       "  </thead>\n",
       "  <tbody>\n",
       "    <tr>\n",
       "      <th>8665</th>\n",
       "      <td>GAME</td>\n",
       "      <td>1290.0</td>\n",
       "      <td>6400000.0</td>\n",
       "      <td>100000.0</td>\n",
       "      <td>0.0</td>\n",
       "      <td>0.0</td>\n",
       "      <td>1.0</td>\n",
       "      <td>40.0</td>\n",
       "    </tr>\n",
       "    <tr>\n",
       "      <th>1152</th>\n",
       "      <td>FINANCE</td>\n",
       "      <td>5950.0</td>\n",
       "      <td>12000000.0</td>\n",
       "      <td>500000.0</td>\n",
       "      <td>0.0</td>\n",
       "      <td>0.0</td>\n",
       "      <td>1.0</td>\n",
       "      <td>23.0</td>\n",
       "    </tr>\n",
       "    <tr>\n",
       "      <th>6134</th>\n",
       "      <td>PHOTOGRAPHY</td>\n",
       "      <td>11.0</td>\n",
       "      <td>17000000.0</td>\n",
       "      <td>1000.0</td>\n",
       "      <td>0.0</td>\n",
       "      <td>0.0</td>\n",
       "      <td>1.0</td>\n",
       "      <td>87.0</td>\n",
       "    </tr>\n",
       "    <tr>\n",
       "      <th>7882</th>\n",
       "      <td>PHOTOGRAPHY</td>\n",
       "      <td>11.0</td>\n",
       "      <td>17000000.0</td>\n",
       "      <td>1000.0</td>\n",
       "      <td>0.0</td>\n",
       "      <td>0.0</td>\n",
       "      <td>1.0</td>\n",
       "      <td>87.0</td>\n",
       "    </tr>\n",
       "    <tr>\n",
       "      <th>3246</th>\n",
       "      <td>TOOLS</td>\n",
       "      <td>739329.0</td>\n",
       "      <td>5300000.0</td>\n",
       "      <td>50000000.0</td>\n",
       "      <td>0.0</td>\n",
       "      <td>0.0</td>\n",
       "      <td>1.0</td>\n",
       "      <td>90.0</td>\n",
       "    </tr>\n",
       "  </tbody>\n",
       "</table>\n",
       "</div>"
      ],
      "text/plain": [
       "         Category   Reviews        Size    Installs  Type  Price  \\\n",
       "8665         GAME    1290.0   6400000.0    100000.0   0.0    0.0   \n",
       "1152      FINANCE    5950.0  12000000.0    500000.0   0.0    0.0   \n",
       "6134  PHOTOGRAPHY      11.0  17000000.0      1000.0   0.0    0.0   \n",
       "7882  PHOTOGRAPHY      11.0  17000000.0      1000.0   0.0    0.0   \n",
       "3246        TOOLS  739329.0   5300000.0  50000000.0   0.0    0.0   \n",
       "\n",
       "      Content Rating  Genres  \n",
       "8665             1.0    40.0  \n",
       "1152             1.0    23.0  \n",
       "6134             1.0    87.0  \n",
       "7882             1.0    87.0  \n",
       "3246             1.0    90.0  "
      ]
     },
     "execution_count": 37,
     "metadata": {},
     "output_type": "execute_result"
    }
   ],
   "source": [
    "'''\n",
    "# in case you wanted to do it manually\n",
    "rating_cat = gplay['Content Rating'].unique()\n",
    "rating_dict = {rating_cat[i]:i for i in range(len(rating_cat))}\n",
    "gplay['Content Rating'] = gplay['Content Rating'].map(rating_dict).astype(int)\n",
    "\n",
    "'''\n",
    "gplay_cat = gplay[[\"Content Rating\"]]\n",
    "\n",
    "ordinal_encoder = OrdinalEncoder()\n",
    "gplay_cat_encoded = ordinal_encoder.fit_transform(gplay_cat)\n",
    "gplay[\"Content Rating\"] = gplay_cat_encoded\n",
    "gplay.head()"
   ]
  },
  {
   "cell_type": "code",
   "execution_count": 38,
   "metadata": {
    "scrolled": true
   },
   "outputs": [
    {
     "data": {
      "text/plain": [
       "[array(['Adults only 18+', 'Everyone', 'Everyone 10+', 'Mature 17+',\n",
       "        'Teen', 'Unrated'], dtype=object)]"
      ]
     },
     "execution_count": 38,
     "metadata": {},
     "output_type": "execute_result"
    }
   ],
   "source": [
    "# gplay_cat_encoded[:10]\n",
    "ordinal_encoder.categories_"
   ]
  },
  {
   "cell_type": "markdown",
   "metadata": {},
   "source": [
    "### Transformation Pipelines\n",
    "Because we will be using many data transformations steps that need to be executed in the right order, We will use the **Pipeline** class from Scikit-Learn to help us with such task."
   ]
  },
  {
   "cell_type": "markdown",
   "metadata": {},
   "source": [
    "We will need to differentiate between our numerical attributes and categorical attributes, because each type will require different kind of transformations."
   ]
  },
  {
   "cell_type": "code",
   "execution_count": 39,
   "metadata": {},
   "outputs": [],
   "source": [
    "gplay_cat = [\"Category\"]\n",
    "gplay_num = gplay.drop(gplay_cat, axis=1)\n",
    "\n",
    "num_attribs = list(gplay_num)\n",
    "cat_attribs = list(gplay_cat)"
   ]
  },
  {
   "cell_type": "code",
   "execution_count": 40,
   "metadata": {},
   "outputs": [
    {
     "data": {
      "text/plain": [
       "['Reviews', 'Size', 'Installs', 'Type', 'Price', 'Content Rating', 'Genres']"
      ]
     },
     "execution_count": 40,
     "metadata": {},
     "output_type": "execute_result"
    }
   ],
   "source": [
    "num_attribs"
   ]
  },
  {
   "cell_type": "code",
   "execution_count": 41,
   "metadata": {},
   "outputs": [
    {
     "data": {
      "text/plain": [
       "['Category']"
      ]
     },
     "execution_count": 41,
     "metadata": {},
     "output_type": "execute_result"
    }
   ],
   "source": [
    "cat_attribs"
   ]
  },
  {
   "cell_type": "markdown",
   "metadata": {},
   "source": [
    "We can start by making a small **pipeline** for the numerical attributes, **SimpleImputer** should compute the median value on the training set and use it to fill the missing values in the training set, then **StandardScaler** class will Normalize the training set, and finally combine our attributes using our custom transformer **CombinedAttributesAdder**.\n",
    "\n",
    "**StandardScaler** standardizes a feature by subtracting the mean and then scaling to unit variance. Unit variance means dividing all the values by the standard deviation."
   ]
  },
  {
   "cell_type": "code",
   "execution_count": 42,
   "metadata": {},
   "outputs": [],
   "source": [
    "from sklearn.pipeline import Pipeline\n",
    "from sklearn.preprocessing import StandardScaler\n",
    "from sklearn.impute import SimpleImputer\n",
    "\n",
    "num_pipeline = Pipeline([\n",
    "        ('imputer', SimpleImputer(strategy=\"mean\")),\n",
    "        ('std_scaler', StandardScaler()),\n",
    "        ('attribs_adder', CombinedAttributesAdder()),\n",
    "    ])\n",
    "\n",
    "#gplay_num_tr = num_pipeline.fit_transform(gplay_num)"
   ]
  },
  {
   "cell_type": "markdown",
   "metadata": {},
   "source": [
    "Now, Let's apply all the transformations to our data. **ColumnTransformer** applies each transformer to the appropriate\n",
    "columns and concatenates the outputs along the second axis."
   ]
  },
  {
   "cell_type": "code",
   "execution_count": 43,
   "metadata": {},
   "outputs": [],
   "source": [
    "from sklearn.compose import ColumnTransformer\n",
    "\n",
    "full_pipeline = ColumnTransformer([\n",
    "        (\"num\", num_pipeline, num_attribs),\n",
    "        (\"cat\", OneHotEncoder(), cat_attribs),\n",
    "    ])\n",
    "\n",
    "gplay_prepared = full_pipeline.fit_transform(gplay)"
   ]
  },
  {
   "cell_type": "markdown",
   "metadata": {},
   "source": [
    "looking at our final training set before starting with the Machine Learning Algorithms."
   ]
  },
  {
   "cell_type": "code",
   "execution_count": 44,
   "metadata": {},
   "outputs": [],
   "source": [
    "cat_cols = list(full_pipeline.transformers_[1][1].get_feature_names(cat_attribs))\n",
    "combined_cols = [\"price_per_install\", \"review_per_install\", \"size_per_install\"]"
   ]
  },
  {
   "cell_type": "code",
   "execution_count": 45,
   "metadata": {
    "scrolled": true
   },
   "outputs": [
    {
     "data": {
      "text/html": [
       "<div>\n",
       "<style scoped>\n",
       "    .dataframe tbody tr th:only-of-type {\n",
       "        vertical-align: middle;\n",
       "    }\n",
       "\n",
       "    .dataframe tbody tr th {\n",
       "        vertical-align: top;\n",
       "    }\n",
       "\n",
       "    .dataframe thead th {\n",
       "        text-align: right;\n",
       "    }\n",
       "</style>\n",
       "<table border=\"1\" class=\"dataframe\">\n",
       "  <thead>\n",
       "    <tr style=\"text-align: right;\">\n",
       "      <th></th>\n",
       "      <th>Reviews</th>\n",
       "      <th>Size</th>\n",
       "      <th>Installs</th>\n",
       "      <th>Type</th>\n",
       "      <th>Price</th>\n",
       "      <th>Content Rating</th>\n",
       "      <th>Genres</th>\n",
       "      <th>price_per_install</th>\n",
       "      <th>review_per_install</th>\n",
       "      <th>size_per_install</th>\n",
       "      <th>...</th>\n",
       "      <th>Category_PERSONALIZATION</th>\n",
       "      <th>Category_PHOTOGRAPHY</th>\n",
       "      <th>Category_PRODUCTIVITY</th>\n",
       "      <th>Category_SHOPPING</th>\n",
       "      <th>Category_SOCIAL</th>\n",
       "      <th>Category_SPORTS</th>\n",
       "      <th>Category_TOOLS</th>\n",
       "      <th>Category_TRAVEL_AND_LOCAL</th>\n",
       "      <th>Category_VIDEO_PLAYERS</th>\n",
       "      <th>Category_WEATHER</th>\n",
       "    </tr>\n",
       "  </thead>\n",
       "  <tbody>\n",
       "    <tr>\n",
       "      <th>8665</th>\n",
       "      <td>-0.170402</td>\n",
       "      <td>-0.739894</td>\n",
       "      <td>-0.206331</td>\n",
       "      <td>-0.274307</td>\n",
       "      <td>-0.062857</td>\n",
       "      <td>-0.475538</td>\n",
       "      <td>-0.272858</td>\n",
       "      <td>2.697327</td>\n",
       "      <td>0.752192</td>\n",
       "      <td>1.7336</td>\n",
       "      <td>...</td>\n",
       "      <td>0.0</td>\n",
       "      <td>0.0</td>\n",
       "      <td>0.0</td>\n",
       "      <td>0.0</td>\n",
       "      <td>0.0</td>\n",
       "      <td>0.0</td>\n",
       "      <td>0.0</td>\n",
       "      <td>0.0</td>\n",
       "      <td>0.0</td>\n",
       "      <td>0.0</td>\n",
       "    </tr>\n",
       "    <tr>\n",
       "      <th>1152</th>\n",
       "      <td>-0.169020</td>\n",
       "      <td>-0.498384</td>\n",
       "      <td>-0.202466</td>\n",
       "      <td>-0.274307</td>\n",
       "      <td>-0.062857</td>\n",
       "      <td>-0.475538</td>\n",
       "      <td>-0.769145</td>\n",
       "      <td>1.816888</td>\n",
       "      <td>0.738102</td>\n",
       "      <td>1.7336</td>\n",
       "      <td>...</td>\n",
       "      <td>0.0</td>\n",
       "      <td>0.0</td>\n",
       "      <td>0.0</td>\n",
       "      <td>0.0</td>\n",
       "      <td>0.0</td>\n",
       "      <td>0.0</td>\n",
       "      <td>0.0</td>\n",
       "      <td>0.0</td>\n",
       "      <td>0.0</td>\n",
       "      <td>0.0</td>\n",
       "    </tr>\n",
       "    <tr>\n",
       "      <th>6134</th>\n",
       "      <td>-0.170781</td>\n",
       "      <td>-0.282750</td>\n",
       "      <td>-0.207288</td>\n",
       "      <td>-0.274307</td>\n",
       "      <td>-0.062857</td>\n",
       "      <td>-0.475538</td>\n",
       "      <td>1.099231</td>\n",
       "      <td>1.030782</td>\n",
       "      <td>0.755679</td>\n",
       "      <td>1.7336</td>\n",
       "      <td>...</td>\n",
       "      <td>0.0</td>\n",
       "      <td>1.0</td>\n",
       "      <td>0.0</td>\n",
       "      <td>0.0</td>\n",
       "      <td>0.0</td>\n",
       "      <td>0.0</td>\n",
       "      <td>0.0</td>\n",
       "      <td>0.0</td>\n",
       "      <td>0.0</td>\n",
       "      <td>0.0</td>\n",
       "    </tr>\n",
       "    <tr>\n",
       "      <th>7882</th>\n",
       "      <td>-0.170781</td>\n",
       "      <td>-0.282750</td>\n",
       "      <td>-0.207288</td>\n",
       "      <td>-0.274307</td>\n",
       "      <td>-0.062857</td>\n",
       "      <td>-0.475538</td>\n",
       "      <td>1.099231</td>\n",
       "      <td>1.030782</td>\n",
       "      <td>0.755679</td>\n",
       "      <td>1.7336</td>\n",
       "      <td>...</td>\n",
       "      <td>0.0</td>\n",
       "      <td>1.0</td>\n",
       "      <td>0.0</td>\n",
       "      <td>0.0</td>\n",
       "      <td>0.0</td>\n",
       "      <td>0.0</td>\n",
       "      <td>0.0</td>\n",
       "      <td>0.0</td>\n",
       "      <td>0.0</td>\n",
       "      <td>0.0</td>\n",
       "    </tr>\n",
       "    <tr>\n",
       "      <th>3246</th>\n",
       "      <td>0.048373</td>\n",
       "      <td>-0.787334</td>\n",
       "      <td>0.275825</td>\n",
       "      <td>-0.274307</td>\n",
       "      <td>-0.062857</td>\n",
       "      <td>-0.475538</td>\n",
       "      <td>1.186811</td>\n",
       "      <td>2.870270</td>\n",
       "      <td>-1.005535</td>\n",
       "      <td>1.7336</td>\n",
       "      <td>...</td>\n",
       "      <td>0.0</td>\n",
       "      <td>0.0</td>\n",
       "      <td>0.0</td>\n",
       "      <td>0.0</td>\n",
       "      <td>0.0</td>\n",
       "      <td>0.0</td>\n",
       "      <td>1.0</td>\n",
       "      <td>0.0</td>\n",
       "      <td>0.0</td>\n",
       "      <td>0.0</td>\n",
       "    </tr>\n",
       "  </tbody>\n",
       "</table>\n",
       "<p>5 rows × 43 columns</p>\n",
       "</div>"
      ],
      "text/plain": [
       "       Reviews      Size  Installs      Type     Price  Content Rating  \\\n",
       "8665 -0.170402 -0.739894 -0.206331 -0.274307 -0.062857       -0.475538   \n",
       "1152 -0.169020 -0.498384 -0.202466 -0.274307 -0.062857       -0.475538   \n",
       "6134 -0.170781 -0.282750 -0.207288 -0.274307 -0.062857       -0.475538   \n",
       "7882 -0.170781 -0.282750 -0.207288 -0.274307 -0.062857       -0.475538   \n",
       "3246  0.048373 -0.787334  0.275825 -0.274307 -0.062857       -0.475538   \n",
       "\n",
       "        Genres  price_per_install  review_per_install  size_per_install  ...  \\\n",
       "8665 -0.272858           2.697327            0.752192            1.7336  ...   \n",
       "1152 -0.769145           1.816888            0.738102            1.7336  ...   \n",
       "6134  1.099231           1.030782            0.755679            1.7336  ...   \n",
       "7882  1.099231           1.030782            0.755679            1.7336  ...   \n",
       "3246  1.186811           2.870270           -1.005535            1.7336  ...   \n",
       "\n",
       "      Category_PERSONALIZATION  Category_PHOTOGRAPHY  Category_PRODUCTIVITY  \\\n",
       "8665                       0.0                   0.0                    0.0   \n",
       "1152                       0.0                   0.0                    0.0   \n",
       "6134                       0.0                   1.0                    0.0   \n",
       "7882                       0.0                   1.0                    0.0   \n",
       "3246                       0.0                   0.0                    0.0   \n",
       "\n",
       "      Category_SHOPPING  Category_SOCIAL  Category_SPORTS  Category_TOOLS  \\\n",
       "8665                0.0              0.0              0.0             0.0   \n",
       "1152                0.0              0.0              0.0             0.0   \n",
       "6134                0.0              0.0              0.0             0.0   \n",
       "7882                0.0              0.0              0.0             0.0   \n",
       "3246                0.0              0.0              0.0             1.0   \n",
       "\n",
       "      Category_TRAVEL_AND_LOCAL  Category_VIDEO_PLAYERS  Category_WEATHER  \n",
       "8665                        0.0                     0.0               0.0  \n",
       "1152                        0.0                     0.0               0.0  \n",
       "6134                        0.0                     0.0               0.0  \n",
       "7882                        0.0                     0.0               0.0  \n",
       "3246                        0.0                     0.0               0.0  \n",
       "\n",
       "[5 rows x 43 columns]"
      ]
     },
     "execution_count": 45,
     "metadata": {},
     "output_type": "execute_result"
    }
   ],
   "source": [
    "gplay_prepared_attribs = pd.DataFrame(\n",
    "    gplay_prepared.toarray(),\n",
    "    columns=num_attribs+combined_cols+cat_cols,\n",
    "    index=gplay.index)\n",
    "gplay_prepared_attribs.head()"
   ]
  },
  {
   "cell_type": "code",
   "execution_count": 46,
   "metadata": {},
   "outputs": [
    {
     "data": {
      "text/plain": [
       "(7488, 43)"
      ]
     },
     "execution_count": 46,
     "metadata": {},
     "output_type": "execute_result"
    }
   ],
   "source": [
    "gplay_prepared.shape"
   ]
  },
  {
   "cell_type": "markdown",
   "metadata": {},
   "source": [
    "we now have `146` features after applying every transformation:\n",
    "- `33` after one hot encoding the `'Category'` attribute .\n",
    "- `104` after one hot encoding the `'Generes'` attribute.\n",
    "- `6` for the numerical attributes (`'Reviews'`, `'Size'`, `'Installs'`, `'Type'`, `'Price'`, `'Content Rating'`).\n",
    "- `3` from the combined attributes we created (`'review_per_install'`, `'size_per_install'`, `'price_per_install'`)."
   ]
  },
  {
   "cell_type": "markdown",
   "metadata": {},
   "source": [
    "## Select and Train a Model\n",
    "We will investigate three different supervised algorithms, they are:\n",
    "- Linear Regression\n",
    "- Decision Tree\n",
    "- SVM\n",
    "- XGBoost"
   ]
  },
  {
   "cell_type": "markdown",
   "metadata": {},
   "source": [
    "Let's briefly talk about each model to understand them better, we will test them afterwards."
   ]
  },
  {
   "cell_type": "markdown",
   "metadata": {},
   "source": [
    "### 1) Linear Regression\n",
    "**Linear Regression** model is great for learning about the data analysis process. \n",
    "However, it isn’t recommended for most practical applications because it oversimplifies real world problems."
   ]
  },
  {
   "cell_type": "markdown",
   "metadata": {},
   "source": [
    "###  2) Decision Tree\n",
    "A **decision tree** is a managerial tool that presents all the decision alternatives and outcomes in a flowchart type of diagram, like a tree with branches and leaves. Each branch of the tree represents a decision option, its cost and the probability that it is likely to occur. The leaves at the end of the branches show the possible payoffs or outcomes. A decision tree illustrates graphically all the possible alternatives, probabilities and outcomes and identifies the benefits of using decision analysis. [1]<br><br>\n",
    "**Strengths of Decision Tree:**\n",
    "- Decision trees can handle both categorical and numerical variables at the same time as features. [2]\n",
    "- Nonlinear relationships between parameters do not affect tree performance [3]\n",
    "- Decision trees implicitly perform variable screening or feature selection [3]\n",
    "- The best feature of using trees for analytics - easy to interpret and explain to executives [3]\n",
    "\n",
    "**Weaknesses of Decision Tree:**\n",
    "- They can easily overfit. This can be negated by validation methods and pruning, but this is a grey area. [4]\n",
    "- They can be extremely sensitive to small perturbations in the data where a slight change can result in a drastically         different tree. [4]\n",
    "\n",
    "**Refrences:**<br>\n",
    "[**1**](https://smallbusiness.chron.com/advantages-decision-trees-75226.html)<br>\n",
    "[**2**](https://datascience.stackexchange.com/questions/32622/how-to-make-a-decision-tree-when-i-have-both-continous-and-categorical-variables)<br>\n",
    "[**3**](http://www.simafore.com/blog/bid/62333/4-key-advantages-of-using-decision-trees-for-predictive-analytics)<br>\n",
    "[**4**](https://stats.stackexchange.com/questions/1292/what-is-the-weak-side-of-decision-trees)"
   ]
  },
  {
   "cell_type": "markdown",
   "metadata": {},
   "source": [
    "###  3) SVM\n",
    "“Support Vector Machine” (SVM) is a supervised machine learning algorithm which can be used for both classification (SVC) or regression (SVR) challenges. In the SVM algorithm, we use a mechanism called kernels, which essentially calculate distance between two observations by plotting each data item as a point in n-dimensional space (where n is number of features you have) with the value of each feature being the value of a particular coordinate. Then, we find a decision boundary that maximizes the distance between the closest members of separate classes.[1]\n",
    "\n",
    "**Strengths of SVM:**\n",
    "- SVM's can model non-linear decision boundaries, and there are many kernels to choose from. They are also fairly robust against overfitting, especially in high-dimensional space. [1]\n",
    "\n",
    "**Weaknesses of SVM:**\n",
    "- However, SVM's are memory intensive, trickier to tune due to the importance of picking the right kernel, and don't scale well to larger datasets. Currently in the industry, random forests are usually preferred over SVM's. [1]\n",
    "\n",
    "**Refrences:**<br>\n",
    "[**1**](https://elitedatascience.com/machine-learning-algorithms)"
   ]
  },
  {
   "cell_type": "markdown",
   "metadata": {},
   "source": [
    "###  4) XGBoost\n",
    "XGBoost is an efficient and easy to use algorithm which delivers high performance and accuracy as compared to other algorithms. XGBoost is also known as regularized version of GBM. [1] <br><br>\n",
    "**Strengths of XGBoost:**\n",
    "- *Regularization:* XGBoost has in-built L1 and L2 regularization which prevents the model from overfitting. That is why, XGBoost is also called regularized form of GBM (Gradient Boosting Machine). [1]\n",
    "- *Handling Missing Values:* XGBoost has an in-built capability to handle missing values. When XGBoost encounters a missing value at a node, it tries both the left and right hand split and learns the way leading to higher loss for each node. It then does the same when working on the testing data. [1]\n",
    "- *Cross Validation:* XGBoost allows user to run a cross-validation at each iteration of the boosting process and thus it is easy to get the exact optimum number of boosting iterations in a single run. This is unlike GBM where we have to run a grid-search and only a limited values can be tested. [1]\n",
    "\n",
    "**Weaknesses of XGBoost:**\n",
    "- It can be slow. [2]\n",
    "- It can create a complex model. [2]\n",
    "\n",
    "**Refrences:**<br>\n",
    "[**1**](http://theprofessionalspoint.blogspot.com/2019/03/advantages-of-xgboost-algorithm-in.html) <br>\n",
    "[**2**](https://machinelearningmastery.com/gentle-introduction-xgboost-applied-machine-learning/ )"
   ]
  },
  {
   "cell_type": "markdown",
   "metadata": {},
   "source": [
    "we can now start training and evaluating our models."
   ]
  },
  {
   "cell_type": "markdown",
   "metadata": {},
   "source": [
    "## Training and Evaluating on the Training Set"
   ]
  },
  {
   "cell_type": "markdown",
   "metadata": {},
   "source": [
    "We will train all our models with the default parameters first, Let's start with Linear Regression."
   ]
  },
  {
   "cell_type": "code",
   "execution_count": 47,
   "metadata": {},
   "outputs": [
    {
     "data": {
      "text/plain": [
       "LinearRegression(copy_X=True, fit_intercept=True, n_jobs=None, normalize=False)"
      ]
     },
     "execution_count": 47,
     "metadata": {},
     "output_type": "execute_result"
    }
   ],
   "source": [
    "from sklearn.linear_model import LinearRegression\n",
    "\n",
    "lin_reg = LinearRegression()\n",
    "lin_reg.fit(gplay_prepared, gplay_labels)"
   ]
  },
  {
   "cell_type": "markdown",
   "metadata": {},
   "source": [
    "We will try it out on some instances from our training set and compare it to its original label(value)."
   ]
  },
  {
   "cell_type": "code",
   "execution_count": 48,
   "metadata": {},
   "outputs": [
    {
     "name": "stdout",
     "output_type": "stream",
     "text": [
      "Actual Value: [3.9, 4.4, 3.8, 3.8, 4.6]\n",
      "Predictions: [4.2240563  4.13365132 4.20870063 4.20870063 4.06488744]\n"
     ]
    }
   ],
   "source": [
    "head = 5\n",
    "some_data = gplay.iloc[:head]\n",
    "some_labels = gplay_labels.iloc[:head]\n",
    "\n",
    "some_data_prepared = full_pipeline.transform(some_data)\n",
    "\n",
    "print(\"Actual Value:\", list(some_labels))\n",
    "print(\"Predictions:\", lin_reg.predict(some_data_prepared))"
   ]
  },
  {
   "cell_type": "markdown",
   "metadata": {},
   "source": [
    "The predictions aren't that accurate but we can measure its **RMSE (The root-mean-square deviation or root-mean-square error)** which is a frequently used measure of the differences between values predicted by a model or an estimator and the values observed."
   ]
  },
  {
   "cell_type": "code",
   "execution_count": 49,
   "metadata": {},
   "outputs": [
    {
     "data": {
      "text/plain": [
       "0.49282193207234715"
      ]
     },
     "execution_count": 49,
     "metadata": {},
     "output_type": "execute_result"
    }
   ],
   "source": [
    "from sklearn.metrics import mean_squared_error\n",
    "\n",
    "gplay_predictions = lin_reg.predict(gplay_prepared)\n",
    "lin_mse = mean_squared_error(gplay_labels, gplay_predictions)\n",
    "lin_rmse = np.sqrt(lin_mse)\n",
    "lin_rmse"
   ]
  },
  {
   "cell_type": "markdown",
   "metadata": {},
   "source": [
    "It appears that our model is decent with almost **10%** error, that means we are off from our rating which ranges between 0 and 5 by just 0.49 , but we can do better."
   ]
  },
  {
   "cell_type": "markdown",
   "metadata": {},
   "source": [
    "Let's try the Decision Tree next."
   ]
  },
  {
   "cell_type": "code",
   "execution_count": 50,
   "metadata": {},
   "outputs": [
    {
     "data": {
      "text/plain": [
       "DecisionTreeRegressor(criterion='mse', max_depth=None, max_features=None,\n",
       "                      max_leaf_nodes=None, min_impurity_decrease=0.0,\n",
       "                      min_impurity_split=None, min_samples_leaf=1,\n",
       "                      min_samples_split=2, min_weight_fraction_leaf=0.0,\n",
       "                      presort=False, random_state=42, splitter='best')"
      ]
     },
     "execution_count": 50,
     "metadata": {},
     "output_type": "execute_result"
    }
   ],
   "source": [
    "from sklearn.tree import DecisionTreeRegressor\n",
    "\n",
    "tree_reg = DecisionTreeRegressor(random_state=42)\n",
    "tree_reg.fit(gplay_prepared, gplay_labels)"
   ]
  },
  {
   "cell_type": "markdown",
   "metadata": {},
   "source": [
    "Then we will do our small comparision."
   ]
  },
  {
   "cell_type": "code",
   "execution_count": 51,
   "metadata": {},
   "outputs": [
    {
     "name": "stdout",
     "output_type": "stream",
     "text": [
      "Actual Value: [3.9, 4.4, 3.8, 3.8, 4.6]\n",
      "Predictions: [3.9 4.4 3.8 3.8 4.6]\n"
     ]
    }
   ],
   "source": [
    "print(\"Actual Value:\", list(some_labels))\n",
    "print(\"Predictions:\", tree_reg.predict(some_data_prepared))"
   ]
  },
  {
   "cell_type": "markdown",
   "metadata": {},
   "source": [
    "The predictions looks perfect, We will measure **RMSE** to get the exact error if it exists."
   ]
  },
  {
   "cell_type": "code",
   "execution_count": 52,
   "metadata": {},
   "outputs": [
    {
     "data": {
      "text/plain": [
       "0.006981737471407679"
      ]
     },
     "execution_count": 52,
     "metadata": {},
     "output_type": "execute_result"
    }
   ],
   "source": [
    "gplay_predictions = tree_reg.predict(gplay_prepared)\n",
    "tree_mse = mean_squared_error(gplay_labels, gplay_predictions)\n",
    "tree_rmse = np.sqrt(tree_mse)\n",
    "tree_rmse"
   ]
  },
  {
   "cell_type": "markdown",
   "metadata": {},
   "source": [
    "the **0%** error means that it is much more likely our model has badly **overfit** the data.<br>"
   ]
  },
  {
   "cell_type": "markdown",
   "metadata": {},
   "source": [
    "Let's try the SVM next."
   ]
  },
  {
   "cell_type": "code",
   "execution_count": 53,
   "metadata": {},
   "outputs": [
    {
     "name": "stderr",
     "output_type": "stream",
     "text": [
      "C:\\Users\\Admin\\Anaconda3\\lib\\site-packages\\sklearn\\svm\\base.py:193: FutureWarning: The default value of gamma will change from 'auto' to 'scale' in version 0.22 to account better for unscaled features. Set gamma explicitly to 'auto' or 'scale' to avoid this warning.\n",
      "  \"avoid this warning.\", FutureWarning)\n"
     ]
    },
    {
     "data": {
      "text/plain": [
       "SVR(C=1.0, cache_size=200, coef0=0.0, degree=3, epsilon=0.1,\n",
       "    gamma='auto_deprecated', kernel='rbf', max_iter=-1, shrinking=True,\n",
       "    tol=0.001, verbose=False)"
      ]
     },
     "execution_count": 53,
     "metadata": {},
     "output_type": "execute_result"
    }
   ],
   "source": [
    "from sklearn.svm import SVR\n",
    "\n",
    "svr_reg = SVR()\n",
    "svr_reg.fit(gplay_prepared, gplay_labels)"
   ]
  },
  {
   "cell_type": "markdown",
   "metadata": {},
   "source": [
    "Then we will do our small comparision."
   ]
  },
  {
   "cell_type": "code",
   "execution_count": 54,
   "metadata": {},
   "outputs": [
    {
     "name": "stdout",
     "output_type": "stream",
     "text": [
      "Actual Value: [3.9, 4.4, 3.8, 3.8, 4.6]\n",
      "Predictions: [4.21794002 4.32377987 4.22226191 4.22226191 4.3575959 ]\n"
     ]
    }
   ],
   "source": [
    "print(\"Actual Value:\", list(some_labels))\n",
    "print(\"Predictions:\", svr_reg.predict(some_data_prepared))"
   ]
  },
  {
   "cell_type": "markdown",
   "metadata": {},
   "source": [
    "The Predictions varies between the data, We will need to measure **RMSE** to get an approximation."
   ]
  },
  {
   "cell_type": "code",
   "execution_count": 55,
   "metadata": {},
   "outputs": [
    {
     "data": {
      "text/plain": [
       "0.4923904809620161"
      ]
     },
     "execution_count": 55,
     "metadata": {},
     "output_type": "execute_result"
    }
   ],
   "source": [
    "gplay_predictions = svr_reg.predict(gplay_prepared)\n",
    "svr_mse = mean_squared_error(gplay_labels, gplay_predictions)\n",
    "svr_rmse = np.sqrt(svr_mse)\n",
    "svr_rmse"
   ]
  },
  {
   "cell_type": "markdown",
   "metadata": {},
   "source": [
    "It appears that our model is as good as our Linear regression model, with a difference between them **0.01%** error."
   ]
  },
  {
   "cell_type": "markdown",
   "metadata": {},
   "source": [
    "Finally, Let's try the XGBoost."
   ]
  },
  {
   "cell_type": "code",
   "execution_count": 56,
   "metadata": {},
   "outputs": [
    {
     "name": "stderr",
     "output_type": "stream",
     "text": [
      "C:\\Users\\Admin\\Anaconda3\\lib\\site-packages\\xgboost\\core.py:587: FutureWarning: Series.base is deprecated and will be removed in a future version\n",
      "  if getattr(data, 'base', None) is not None and \\\n",
      "C:\\Users\\Admin\\Anaconda3\\lib\\site-packages\\xgboost\\core.py:588: FutureWarning: Series.base is deprecated and will be removed in a future version\n",
      "  data.base is not None and isinstance(data, np.ndarray) \\\n"
     ]
    },
    {
     "data": {
      "text/plain": [
       "XGBRegressor(base_score=0.5, booster='gbtree', colsample_bylevel=1,\n",
       "             colsample_bynode=1, colsample_bytree=1, gamma=0,\n",
       "             importance_type='gain', learning_rate=0.1, max_delta_step=0,\n",
       "             max_depth=3, min_child_weight=1, missing=None, n_estimators=100,\n",
       "             n_jobs=1, nthread=None, objective='reg:linear', random_state=42,\n",
       "             reg_alpha=0, reg_lambda=1, scale_pos_weight=1, seed=None,\n",
       "             silent=True, subsample=1, verbosity=1)"
      ]
     },
     "execution_count": 56,
     "metadata": {},
     "output_type": "execute_result"
    }
   ],
   "source": [
    "import xgboost as xgb \n",
    "\n",
    "xgb_reg = xgb.XGBRegressor(random_state=42, silent=True)\n",
    "xgb_reg.fit(gplay_prepared, gplay_labels)"
   ]
  },
  {
   "cell_type": "markdown",
   "metadata": {},
   "source": [
    "Then we will do our small comparision."
   ]
  },
  {
   "cell_type": "code",
   "execution_count": 57,
   "metadata": {},
   "outputs": [
    {
     "name": "stdout",
     "output_type": "stream",
     "text": [
      "Actual Value: [3.9, 4.4, 3.8, 3.8, 4.6]\n",
      "Predictions: [4.0018206 4.1568117 3.835697  3.835697  4.3486958]\n"
     ]
    }
   ],
   "source": [
    "print(\"Actual Value:\", list(some_labels))\n",
    "print(\"Predictions:\", xgb_reg.predict(some_data_prepared))"
   ]
  },
  {
   "cell_type": "markdown",
   "metadata": {},
   "source": [
    "The Predictions varies between the data, We will need to measure **RMSE** to get an approximation."
   ]
  },
  {
   "cell_type": "code",
   "execution_count": 58,
   "metadata": {},
   "outputs": [
    {
     "data": {
      "text/plain": [
       "0.43649629391444367"
      ]
     },
     "execution_count": 58,
     "metadata": {},
     "output_type": "execute_result"
    }
   ],
   "source": [
    "gplay_predictions = xgb_reg.predict(gplay_prepared)\n",
    "xgb_mse = mean_squared_error(gplay_labels, gplay_predictions)\n",
    "xgb_rmse = np.sqrt(xgb_mse)\n",
    "xgb_rmse"
   ]
  },
  {
   "cell_type": "markdown",
   "metadata": {},
   "source": [
    "It appears that our model is better than the Linear regression model, with almost **9%** error."
   ]
  },
  {
   "cell_type": "markdown",
   "metadata": {},
   "source": [
    "We will get better evaluations on the **Linear Regression**, **Decision Tree**, **SVM**,and the **XGBoost** by using Scikit-Learn’s K-fold **cross-validation** feature.<br><br>\n",
    "[**K-Folds Cross-validation:**](https://towardsdatascience.com/why-and-how-to-cross-validate-a-model-d6424b45261f) Split the entire data randomly into k folds, Then fit the model using the (K-1) folds and validate the model using the remaining Kth fold, Repeat this process until every K-fold serve as the test set. Then take the average of your recorded scores. That will be the performance metric for the model, this ensures that every observation from the original dataset has the chance of appearing in training and test set. This is one among the best approach if we have a limited input data. "
   ]
  },
  {
   "cell_type": "markdown",
   "metadata": {},
   "source": [
    "We start by our linear regression model:"
   ]
  },
  {
   "cell_type": "code",
   "execution_count": 59,
   "metadata": {},
   "outputs": [
    {
     "data": {
      "text/plain": [
       "0.4958724149018594"
      ]
     },
     "execution_count": 59,
     "metadata": {},
     "output_type": "execute_result"
    }
   ],
   "source": [
    "from sklearn.model_selection import cross_val_score\n",
    "\n",
    "scores = cross_val_score(lin_reg, gplay_prepared, gplay_labels,\n",
    "                         scoring=\"neg_mean_squared_error\", cv=10)\n",
    "gplay_rmse_scores = np.sqrt(-scores)\n",
    "gplay_rmse_scores.mean()"
   ]
  },
  {
   "cell_type": "markdown",
   "metadata": {},
   "source": [
    "Followed by our Decision Tree model:"
   ]
  },
  {
   "cell_type": "code",
   "execution_count": 60,
   "metadata": {},
   "outputs": [
    {
     "data": {
      "text/plain": [
       "0.6207932739138723"
      ]
     },
     "execution_count": 60,
     "metadata": {},
     "output_type": "execute_result"
    }
   ],
   "source": [
    "scores = cross_val_score(tree_reg, gplay_prepared, gplay_labels,\n",
    "                         scoring=\"neg_mean_squared_error\", cv=10)\n",
    "gplay_rmse_scores = np.sqrt(-scores)\n",
    "gplay_rmse_scores.mean()"
   ]
  },
  {
   "cell_type": "markdown",
   "metadata": {},
   "source": [
    "Followed by our SVM model:"
   ]
  },
  {
   "cell_type": "code",
   "execution_count": 61,
   "metadata": {},
   "outputs": [
    {
     "data": {
      "text/plain": [
       "0.4998092890816787"
      ]
     },
     "execution_count": 61,
     "metadata": {},
     "output_type": "execute_result"
    }
   ],
   "source": [
    "# you can remove it with no effect on the model\n",
    "import warnings\n",
    "warnings.simplefilter(action='ignore', category=FutureWarning)\n",
    "\n",
    "scores = cross_val_score(svr_reg, gplay_prepared, gplay_labels,\n",
    "                         scoring=\"neg_mean_squared_error\", cv=10)\n",
    "gplay_rmse_scores = np.sqrt(-scores)\n",
    "gplay_rmse_scores.mean()"
   ]
  },
  {
   "cell_type": "markdown",
   "metadata": {},
   "source": [
    "And Finally, We try our XGBoost model:"
   ]
  },
  {
   "cell_type": "code",
   "execution_count": 62,
   "metadata": {},
   "outputs": [
    {
     "data": {
      "text/plain": [
       "0.4621049354146036"
      ]
     },
     "execution_count": 62,
     "metadata": {},
     "output_type": "execute_result"
    }
   ],
   "source": [
    "scores = cross_val_score(xgb_reg, gplay_prepared, gplay_labels,\n",
    "                         scoring=\"neg_mean_squared_error\", cv=10)\n",
    "gplay_rmse_scores = np.sqrt(-scores)\n",
    "gplay_rmse_scores.mean()"
   ]
  },
  {
   "cell_type": "markdown",
   "metadata": {},
   "source": [
    "From the looks of it, we found out that:\n",
    "- **Linear Regression** got the same error value and most likely its limit, which is underfitting.\n",
    "- **Decision Tree** is overfitting and preforming worse than the other two.\n",
    "- **SVR** is a great model, it is the main candidate to be our main model.\n",
    "- **XGBoost** is a great model as well, and our other cadidate to be our main model.\n",
    "\n",
    "**Overfitting:** the model preforms too well on the training data only and may therefore fail to fit additional data or predict future observations reliably.\n",
    "**Underfitting:** the model is too simple to learn the underlying structure of the data (does not fit the data well enough)."
   ]
  },
  {
   "cell_type": "markdown",
   "metadata": {},
   "source": [
    "We will plot the learning curve for each model to get more insights on which model is the better model. <br>\n",
    "**Learning Curve** is graph that compares the performance of a model on training and testing data over a varying number of training instances.<br>\n",
    "For more info about learning curve, [**check here**](https://www.ritchieng.com/machinelearning-learning-curve/)."
   ]
  },
  {
   "cell_type": "code",
   "execution_count": 63,
   "metadata": {},
   "outputs": [],
   "source": [
    "from sklearn.model_selection import learning_curve\n",
    "%matplotlib inline\n",
    "\n",
    "# It is good to randomize the data before drawing Learning Curves\n",
    "from sklearn.model_selection import ShuffleSplit, train_test_split\n",
    "\n",
    "def draw_learning_curves(X, y, estimator, num_trainings):\n",
    "    cv1 = ShuffleSplit(n_splits=10, random_state=0, test_size=0.2, train_size=None)\n",
    "    train_sizes, train_scores, test_scores = learning_curve(\n",
    "        estimator, X, y, cv=cv1, n_jobs=1, train_sizes=np.linspace(.1, 1.0, num_trainings),scoring = 'r2')\n",
    "    \n",
    "    print(\"train size :\\n\",train_sizes)\n",
    "    print()\n",
    "    train_scores_mean = np.mean(train_scores, axis=1)\n",
    "    print(\"train score mean:\\n\",train_scores_mean)\n",
    "    print()\n",
    "    #train_scores_std = np.std(train_scores, axis=1)\n",
    "    test_scores_mean = np.mean(test_scores, axis=1)\n",
    "    #test_scores_std = np.std(test_scores, axis=1)\n",
    "\n",
    "    plt.grid();\n",
    "\n",
    "    plt.title(\"Learning Curves\");\n",
    "    plt.xlabel(\"Training examples\");\n",
    "    plt.ylabel(\"Score\");\n",
    "\n",
    "    plt.plot(train_sizes,train_scores_mean, 'o-', color=\"g\",\n",
    "             label=\"Training score\");\n",
    "    plt.plot(train_sizes,test_scores_mean, 'o-', color=\"y\",\n",
    "             label=\"Cross-validation score\");\n",
    "    plt.legend(loc=\"best\");\n",
    "    \n"
   ]
  },
  {
   "cell_type": "markdown",
   "metadata": {},
   "source": [
    "Linear Regression learning curve:"
   ]
  },
  {
   "cell_type": "code",
   "execution_count": 64,
   "metadata": {},
   "outputs": [
    {
     "name": "stdout",
     "output_type": "stream",
     "text": [
      "train size :\n",
      " [ 599 1198 1797 2396 2995 3594 4193 4792 5391 5990]\n",
      "\n",
      "train score mean:\n",
      " [0.11443569 0.08377678 0.06659544 0.06002396 0.05561608 0.05103289\n",
      " 0.04948286 0.04835603 0.04828907 0.04762818]\n",
      "\n"
     ]
    },
    {
     "data": {
      "image/png": "[encoded data removed]",
      "text/plain": [
       "<Figure size 432x288 with 1 Axes>"
      ]
     },
     "metadata": {
      "needs_background": "light"
     },
     "output_type": "display_data"
    }
   ],
   "source": [
    "draw_learning_curves(gplay_prepared, gplay_labels, lin_reg, 10)"
   ]
  },
  {
   "cell_type": "markdown",
   "metadata": {},
   "source": [
    "Decision Tree learning curve:"
   ]
  },
  {
   "cell_type": "code",
   "execution_count": 65,
   "metadata": {},
   "outputs": [
    {
     "name": "stdout",
     "output_type": "stream",
     "text": [
      "train size :\n",
      " [ 599 1198 1797 2396 2995 3594 4193 4792 5391 5990]\n",
      "\n",
      "train score mean:\n",
      " [1.         1.         1.         1.         0.99995141 0.99995887\n",
      " 0.99995676 0.99993188 0.99989045 0.99985973]\n",
      "\n"
     ]
    },
    {
     "data": {
      "image/png": "[encoded data removed]",
      "text/plain": [
       "<Figure size 432x288 with 1 Axes>"
      ]
     },
     "metadata": {
      "needs_background": "light"
     },
     "output_type": "display_data"
    }
   ],
   "source": [
    "draw_learning_curves(gplay_prepared, gplay_labels, tree_reg, 10)"
   ]
  },
  {
   "cell_type": "markdown",
   "metadata": {},
   "source": [
    "SVR learning curve:"
   ]
  },
  {
   "cell_type": "code",
   "execution_count": 66,
   "metadata": {},
   "outputs": [
    {
     "name": "stdout",
     "output_type": "stream",
     "text": [
      "train size :\n",
      " [ 599 1198 1797 2396 2995 3594 4193 4792 5391 5990]\n",
      "\n",
      "train score mean:\n",
      " [0.09565698 0.07748046 0.06433358 0.06052958 0.05817109 0.05265027\n",
      " 0.05033661 0.04970719 0.04897861 0.04864591]\n",
      "\n"
     ]
    },
    {
     "data": {
      "image/png": "[encoded data removed]",
      "text/plain": [
       "<Figure size 432x288 with 1 Axes>"
      ]
     },
     "metadata": {
      "needs_background": "light"
     },
     "output_type": "display_data"
    }
   ],
   "source": [
    "draw_learning_curves(gplay_prepared, gplay_labels, svr_reg, 10)"
   ]
  },
  {
   "cell_type": "markdown",
   "metadata": {},
   "source": [
    "XGBoost learning curve:"
   ]
  },
  {
   "cell_type": "code",
   "execution_count": 67,
   "metadata": {},
   "outputs": [
    {
     "name": "stdout",
     "output_type": "stream",
     "text": [
      "train size :\n",
      " [ 599 1198 1797 2396 2995 3594 4193 4792 5391 5990]\n",
      "\n",
      "train score mean:\n",
      " [0.52111874 0.41113599 0.35942149 0.33471526 0.31501411 0.29520121\n",
      " 0.28465196 0.27580939 0.27223881 0.26254955]\n",
      "\n"
     ]
    },
    {
     "data": {
      "image/png": "[encoded data removed]",
      "text/plain": [
       "<Figure size 432x288 with 1 Axes>"
      ]
     },
     "metadata": {
      "needs_background": "light"
     },
     "output_type": "display_data"
    }
   ],
   "source": [
    "draw_learning_curves(gplay_prepared, gplay_labels, xgb_reg, 10)"
   ]
  },
  {
   "cell_type": "markdown",
   "metadata": {},
   "source": [
    "After plotting our learning curves for the score of each model, we found out that:\n",
    "- **Linear Regression** is underfitting (high bias).\n",
    "- **Decision Tree** is overfitting (high variance).\n",
    "- **SVR** is overall our best model.\n",
    "- **XGBoost** is not as good as our SVR model, but still a good model to consider."
   ]
  },
  {
   "cell_type": "markdown",
   "metadata": {},
   "source": [
    "## Fine-Tune our Models"
   ]
  },
  {
   "cell_type": "markdown",
   "metadata": {},
   "source": [
    "We can try multiple different hyperparameters manually until we find our a good combination of hyperparameter values, which will consume alot of time and we might end up not finding a great combination of hyperparameters.\n",
    "\n",
    "So instead, we will use Scikit-Learn’s **GridSearchCV** to search the best hyperparamter values for us, by giving it multiple values for the hyperparameters you want to experiment with and what values to try out, and it will use cross-validation to evaluate all the possible combinations of hyperparameter values."
   ]
  },
  {
   "cell_type": "markdown",
   "metadata": {},
   "source": [
    "We will first evaluate all of our hyperparameters `kernel`, `C`, `epsilon`, and `gamma` combinations, which is a total of (2x5x5x2) = 100 model combinations, training each model 5 times, which will result in (100x5) =  500 round of training."
   ]
  },
  {
   "cell_type": "code",
   "execution_count": 76,
   "metadata": {},
   "outputs": [
    {
     "name": "stdout",
     "output_type": "stream",
     "text": [
      "Fitting 5 folds for each of 100 candidates, totalling 500 fits\n"
     ]
    },
    {
     "name": "stderr",
     "output_type": "stream",
     "text": [
      "[Parallel(n_jobs=11)]: Using backend LokyBackend with 11 concurrent workers.\n",
      "[Parallel(n_jobs=11)]: Done  28 tasks      | elapsed:   13.3s\n",
      "[Parallel(n_jobs=11)]: Done 178 tasks      | elapsed:  1.6min\n",
      "[Parallel(n_jobs=11)]: Done 428 tasks      | elapsed:  3.9min\n",
      "[Parallel(n_jobs=11)]: Done 500 out of 500 | elapsed:  4.6min finished\n"
     ]
    },
    {
     "data": {
      "text/plain": [
       "GridSearchCV(cv=5, error_score='raise-deprecating',\n",
       "             estimator=SVR(C=1.0, cache_size=200, coef0=0.0, degree=3,\n",
       "                           epsilon=0.1, gamma='auto_deprecated', kernel='rbf',\n",
       "                           max_iter=-1, shrinking=True, tol=0.001,\n",
       "                           verbose=False),\n",
       "             iid='warn', n_jobs=11,\n",
       "             param_grid=[{'C': [1, 5, 10, 15, 20],\n",
       "                          'epsilon': [0, 1, 0.1, 0.01, 0.001],\n",
       "                          'gamma': ['auto', 'scale'],\n",
       "                          'kernel': ['rbf', 'sigmoid']}],\n",
       "             pre_dispatch='2*n_jobs', refit=True, return_train_score=True,\n",
       "             scoring='neg_mean_squared_error', verbose=True)"
      ]
     },
     "execution_count": 76,
     "metadata": {},
     "output_type": "execute_result"
    }
   ],
   "source": [
    "from sklearn.model_selection import GridSearchCV\n",
    "\n",
    "param_grid = [\n",
    "    {'kernel': [\"rbf\", \"sigmoid\"], 'C': [1, 5, 10, 15, 20], 'epsilon': [0, 1, 0.1, 0.01, 0.001],\n",
    "    'gamma': [\"auto\", \"scale\"]}\n",
    "  ]\n",
    "\n",
    "svr_reg = SVR()\n",
    "\n",
    "# train using almost all of our CPU cores\n",
    "import multiprocessing\n",
    "n_jobs = multiprocessing.cpu_count()-1\n",
    "\n",
    "# train across 5 folds, that's a total of (2*5*6)*5=300 rounds of training \n",
    "grid_search = GridSearchCV(svr_reg, param_grid, cv=5,\n",
    "                           scoring='neg_mean_squared_error',\n",
    "                           return_train_score=True,\n",
    "                           n_jobs=n_jobs,\n",
    "                           verbose=True)\n",
    "\n",
    "grid_search.fit(gplay_prepared, gplay_labels)"
   ]
  },
  {
   "cell_type": "markdown",
   "metadata": {},
   "source": [
    "After GridSearch picked the best estimator(combination of parameters), We can check the best estimator parameters directly:"
   ]
  },
  {
   "cell_type": "code",
   "execution_count": 77,
   "metadata": {},
   "outputs": [
    {
     "data": {
      "text/plain": [
       "SVR(C=1, cache_size=200, coef0=0.0, degree=3, epsilon=0.1, gamma='scale',\n",
       "    kernel='rbf', max_iter=-1, shrinking=True, tol=0.001, verbose=False)"
      ]
     },
     "execution_count": 77,
     "metadata": {},
     "output_type": "execute_result"
    }
   ],
   "source": [
    "grid_search.best_estimator_"
   ]
  },
  {
   "cell_type": "markdown",
   "metadata": {},
   "source": [
    "To take a look at our evaluation scores, we can simply do this."
   ]
  },
  {
   "cell_type": "code",
   "execution_count": 78,
   "metadata": {
    "scrolled": true
   },
   "outputs": [
    {
     "name": "stdout",
     "output_type": "stream",
     "text": [
      "0.5027457414523796 {'C': 1, 'epsilon': 0, 'gamma': 'auto', 'kernel': 'rbf'}\n",
      "96.5441034400188 {'C': 1, 'epsilon': 0, 'gamma': 'auto', 'kernel': 'sigmoid'}\n",
      "0.5026508273314049 {'C': 1, 'epsilon': 0, 'gamma': 'scale', 'kernel': 'rbf'}\n",
      "90.74237432787402 {'C': 1, 'epsilon': 0, 'gamma': 'scale', 'kernel': 'sigmoid'}\n",
      "0.5960150794122625 {'C': 1, 'epsilon': 1, 'gamma': 'auto', 'kernel': 'rbf'}\n",
      "102.20925462206436 {'C': 1, 'epsilon': 1, 'gamma': 'auto', 'kernel': 'sigmoid'}\n",
      "0.5951885203286039 {'C': 1, 'epsilon': 1, 'gamma': 'scale', 'kernel': 'rbf'}\n",
      "92.57231476540154 {'C': 1, 'epsilon': 1, 'gamma': 'scale', 'kernel': 'sigmoid'}\n",
      "0.5007728456589345 {'C': 1, 'epsilon': 0.1, 'gamma': 'auto', 'kernel': 'rbf'}\n",
      "97.6260275888478 {'C': 1, 'epsilon': 0.1, 'gamma': 'auto', 'kernel': 'sigmoid'}\n",
      "0.5007677603991106 {'C': 1, 'epsilon': 0.1, 'gamma': 'scale', 'kernel': 'rbf'}\n",
      "93.00763307233152 {'C': 1, 'epsilon': 0.1, 'gamma': 'scale', 'kernel': 'sigmoid'}\n",
      "0.5025412462987471 {'C': 1, 'epsilon': 0.01, 'gamma': 'auto', 'kernel': 'rbf'}\n",
      "97.42486559416443 {'C': 1, 'epsilon': 0.01, 'gamma': 'auto', 'kernel': 'sigmoid'}\n",
      "0.5025060702399599 {'C': 1, 'epsilon': 0.01, 'gamma': 'scale', 'kernel': 'rbf'}\n",
      "93.02745474924498 {'C': 1, 'epsilon': 0.01, 'gamma': 'scale', 'kernel': 'sigmoid'}\n",
      "0.502713568063324 {'C': 1, 'epsilon': 0.001, 'gamma': 'auto', 'kernel': 'rbf'}\n",
      "96.5619616535205 {'C': 1, 'epsilon': 0.001, 'gamma': 'auto', 'kernel': 'sigmoid'}\n",
      "0.5026490710529713 {'C': 1, 'epsilon': 0.001, 'gamma': 'scale', 'kernel': 'rbf'}\n",
      "90.74254438994984 {'C': 1, 'epsilon': 0.001, 'gamma': 'scale', 'kernel': 'sigmoid'}\n",
      "0.5043589544772223 {'C': 5, 'epsilon': 0, 'gamma': 'auto', 'kernel': 'rbf'}\n",
      "470.16125877873804 {'C': 5, 'epsilon': 0, 'gamma': 'auto', 'kernel': 'sigmoid'}\n",
      "0.5042475270559923 {'C': 5, 'epsilon': 0, 'gamma': 'scale', 'kernel': 'rbf'}\n",
      "443.0459643600993 {'C': 5, 'epsilon': 0, 'gamma': 'scale', 'kernel': 'sigmoid'}\n",
      "0.5947460771052162 {'C': 5, 'epsilon': 1, 'gamma': 'auto', 'kernel': 'rbf'}\n",
      "507.3841792717781 {'C': 5, 'epsilon': 1, 'gamma': 'auto', 'kernel': 'sigmoid'}\n",
      "0.5946039664009367 {'C': 5, 'epsilon': 1, 'gamma': 'scale', 'kernel': 'rbf'}\n",
      "466.43804314104693 {'C': 5, 'epsilon': 1, 'gamma': 'scale', 'kernel': 'sigmoid'}\n",
      "0.501939861110484 {'C': 5, 'epsilon': 0.1, 'gamma': 'auto', 'kernel': 'rbf'}\n",
      "469.3134454238996 {'C': 5, 'epsilon': 0.1, 'gamma': 'auto', 'kernel': 'sigmoid'}\n",
      "0.5017868392407702 {'C': 5, 'epsilon': 0.1, 'gamma': 'scale', 'kernel': 'rbf'}\n",
      "443.3797310347031 {'C': 5, 'epsilon': 0.1, 'gamma': 'scale', 'kernel': 'sigmoid'}\n",
      "0.5039272916359759 {'C': 5, 'epsilon': 0.01, 'gamma': 'auto', 'kernel': 'rbf'}\n",
      "470.254708622325 {'C': 5, 'epsilon': 0.01, 'gamma': 'auto', 'kernel': 'sigmoid'}\n",
      "0.5038470406042431 {'C': 5, 'epsilon': 0.01, 'gamma': 'scale', 'kernel': 'rbf'}\n",
      "432.9024406859501 {'C': 5, 'epsilon': 0.01, 'gamma': 'scale', 'kernel': 'sigmoid'}\n",
      "0.5043441437055343 {'C': 5, 'epsilon': 0.001, 'gamma': 'auto', 'kernel': 'rbf'}\n",
      "470.148578696135 {'C': 5, 'epsilon': 0.001, 'gamma': 'auto', 'kernel': 'sigmoid'}\n",
      "0.5042130532472497 {'C': 5, 'epsilon': 0.001, 'gamma': 'scale', 'kernel': 'rbf'}\n",
      "443.0904984707317 {'C': 5, 'epsilon': 0.001, 'gamma': 'scale', 'kernel': 'sigmoid'}\n",
      "0.5055589322239669 {'C': 10, 'epsilon': 0, 'gamma': 'auto', 'kernel': 'rbf'}\n",
      "953.4859116371983 {'C': 10, 'epsilon': 0, 'gamma': 'auto', 'kernel': 'sigmoid'}\n",
      "0.5054818666144176 {'C': 10, 'epsilon': 0, 'gamma': 'scale', 'kernel': 'rbf'}\n",
      "878.8911184136122 {'C': 10, 'epsilon': 0, 'gamma': 'scale', 'kernel': 'sigmoid'}\n",
      "0.5894908953510547 {'C': 10, 'epsilon': 1, 'gamma': 'auto', 'kernel': 'rbf'}\n",
      "1013.3961166785425 {'C': 10, 'epsilon': 1, 'gamma': 'auto', 'kernel': 'sigmoid'}\n",
      "0.589494551010623 {'C': 10, 'epsilon': 1, 'gamma': 'scale', 'kernel': 'rbf'}\n",
      "902.7533304488792 {'C': 10, 'epsilon': 1, 'gamma': 'scale', 'kernel': 'sigmoid'}\n",
      "0.5033840955375337 {'C': 10, 'epsilon': 0.1, 'gamma': 'auto', 'kernel': 'rbf'}\n",
      "953.7656932293527 {'C': 10, 'epsilon': 0.1, 'gamma': 'auto', 'kernel': 'sigmoid'}\n",
      "0.5030060763097232 {'C': 10, 'epsilon': 0.1, 'gamma': 'scale', 'kernel': 'rbf'}\n",
      "869.1370995809673 {'C': 10, 'epsilon': 0.1, 'gamma': 'scale', 'kernel': 'sigmoid'}\n",
      "0.505507976341166 {'C': 10, 'epsilon': 0.01, 'gamma': 'auto', 'kernel': 'rbf'}\n",
      "953.5410554511471 {'C': 10, 'epsilon': 0.01, 'gamma': 'auto', 'kernel': 'sigmoid'}\n",
      "0.5052135794079624 {'C': 10, 'epsilon': 0.01, 'gamma': 'scale', 'kernel': 'rbf'}\n",
      "878.8761396991893 {'C': 10, 'epsilon': 0.01, 'gamma': 'scale', 'kernel': 'sigmoid'}\n",
      "0.5055711120103339 {'C': 10, 'epsilon': 0.001, 'gamma': 'auto', 'kernel': 'rbf'}\n",
      "953.4854958149067 {'C': 10, 'epsilon': 0.001, 'gamma': 'auto', 'kernel': 'sigmoid'}\n",
      "0.505483601406504 {'C': 10, 'epsilon': 0.001, 'gamma': 'scale', 'kernel': 'rbf'}\n",
      "878.8909963984844 {'C': 10, 'epsilon': 0.001, 'gamma': 'scale', 'kernel': 'sigmoid'}\n",
      "0.5067492189985833 {'C': 15, 'epsilon': 0, 'gamma': 'auto', 'kernel': 'rbf'}\n",
      "1456.1294914988518 {'C': 15, 'epsilon': 0, 'gamma': 'auto', 'kernel': 'sigmoid'}\n",
      "0.5064162610302818 {'C': 15, 'epsilon': 0, 'gamma': 'scale', 'kernel': 'rbf'}\n",
      "1327.2470193622694 {'C': 15, 'epsilon': 0, 'gamma': 'scale', 'kernel': 'sigmoid'}\n",
      "0.5871937741981504 {'C': 15, 'epsilon': 1, 'gamma': 'auto', 'kernel': 'rbf'}\n",
      "1520.0753292936388 {'C': 15, 'epsilon': 1, 'gamma': 'auto', 'kernel': 'sigmoid'}\n",
      "0.5875264029448289 {'C': 15, 'epsilon': 1, 'gamma': 'scale', 'kernel': 'rbf'}\n",
      "1353.6842606293696 {'C': 15, 'epsilon': 1, 'gamma': 'scale', 'kernel': 'sigmoid'}\n",
      "0.5046665689903832 {'C': 15, 'epsilon': 0.1, 'gamma': 'auto', 'kernel': 'rbf'}\n",
      "1456.1500552028397 {'C': 15, 'epsilon': 0.1, 'gamma': 'auto', 'kernel': 'sigmoid'}\n",
      "0.5043085823368193 {'C': 15, 'epsilon': 0.1, 'gamma': 'scale', 'kernel': 'rbf'}\n",
      "1327.1189264417544 {'C': 15, 'epsilon': 0.1, 'gamma': 'scale', 'kernel': 'sigmoid'}\n",
      "0.5065464540159802 {'C': 15, 'epsilon': 0.01, 'gamma': 'auto', 'kernel': 'rbf'}\n",
      "1456.121924894478 {'C': 15, 'epsilon': 0.01, 'gamma': 'auto', 'kernel': 'sigmoid'}\n",
      "0.5062821281044595 {'C': 15, 'epsilon': 0.01, 'gamma': 'scale', 'kernel': 'rbf'}\n",
      "1327.1192185149316 {'C': 15, 'epsilon': 0.01, 'gamma': 'scale', 'kernel': 'sigmoid'}\n",
      "0.5067329233149397 {'C': 15, 'epsilon': 0.001, 'gamma': 'auto', 'kernel': 'rbf'}\n",
      "1456.0318428679582 {'C': 15, 'epsilon': 0.001, 'gamma': 'auto', 'kernel': 'sigmoid'}\n",
      "0.5064013215366623 {'C': 15, 'epsilon': 0.001, 'gamma': 'scale', 'kernel': 'rbf'}\n",
      "1327.1768071648637 {'C': 15, 'epsilon': 0.001, 'gamma': 'scale', 'kernel': 'sigmoid'}\n",
      "0.5076172301178762 {'C': 20, 'epsilon': 0, 'gamma': 'auto', 'kernel': 'rbf'}\n",
      "1984.468745580444 {'C': 20, 'epsilon': 0, 'gamma': 'auto', 'kernel': 'sigmoid'}\n",
      "0.5072328754859696 {'C': 20, 'epsilon': 0, 'gamma': 'scale', 'kernel': 'rbf'}\n",
      "1788.5970836759789 {'C': 20, 'epsilon': 0, 'gamma': 'scale', 'kernel': 'sigmoid'}\n",
      "0.5845155225945541 {'C': 20, 'epsilon': 1, 'gamma': 'auto', 'kernel': 'rbf'}\n",
      "2027.0463186792294 {'C': 20, 'epsilon': 1, 'gamma': 'auto', 'kernel': 'sigmoid'}\n",
      "0.5854190964144061 {'C': 20, 'epsilon': 1, 'gamma': 'scale', 'kernel': 'rbf'}\n",
      "1865.1150244798903 {'C': 20, 'epsilon': 1, 'gamma': 'scale', 'kernel': 'sigmoid'}\n",
      "0.5055251486598665 {'C': 20, 'epsilon': 0.1, 'gamma': 'auto', 'kernel': 'rbf'}\n",
      "1984.4536793456275 {'C': 20, 'epsilon': 0.1, 'gamma': 'auto', 'kernel': 'sigmoid'}\n",
      "0.505223599152013 {'C': 20, 'epsilon': 0.1, 'gamma': 'scale', 'kernel': 'rbf'}\n",
      "1788.6184714444473 {'C': 20, 'epsilon': 0.1, 'gamma': 'scale', 'kernel': 'sigmoid'}\n",
      "0.5073805159108344 {'C': 20, 'epsilon': 0.01, 'gamma': 'auto', 'kernel': 'rbf'}\n",
      "1984.467598402358 {'C': 20, 'epsilon': 0.01, 'gamma': 'auto', 'kernel': 'sigmoid'}\n",
      "0.5070029054412468 {'C': 20, 'epsilon': 0.01, 'gamma': 'scale', 'kernel': 'rbf'}\n",
      "1788.5989568245245 {'C': 20, 'epsilon': 0.01, 'gamma': 'scale', 'kernel': 'sigmoid'}\n",
      "0.5075942594064741 {'C': 20, 'epsilon': 0.001, 'gamma': 'auto', 'kernel': 'rbf'}\n",
      "1984.4686490256352 {'C': 20, 'epsilon': 0.001, 'gamma': 'auto', 'kernel': 'sigmoid'}\n",
      "0.5072256965243109 {'C': 20, 'epsilon': 0.001, 'gamma': 'scale', 'kernel': 'rbf'}\n",
      "1788.5970151494585 {'C': 20, 'epsilon': 0.001, 'gamma': 'scale', 'kernel': 'sigmoid'}\n"
     ]
    }
   ],
   "source": [
    "cvres = grid_search.cv_results_\n",
    "for mean_score, params in zip(cvres[\"mean_test_score\"], cvres[\"params\"]):\n",
    "    print(np.sqrt(-mean_score), params)"
   ]
  },
  {
   "cell_type": "markdown",
   "metadata": {},
   "source": [
    "or if you want to look at it as a Dataframe."
   ]
  },
  {
   "cell_type": "code",
   "execution_count": 85,
   "metadata": {},
   "outputs": [
    {
     "data": {
      "text/html": [
       "<div>\n",
       "<style scoped>\n",
       "    .dataframe tbody tr th:only-of-type {\n",
       "        vertical-align: middle;\n",
       "    }\n",
       "\n",
       "    .dataframe tbody tr th {\n",
       "        vertical-align: top;\n",
       "    }\n",
       "\n",
       "    .dataframe thead th {\n",
       "        text-align: right;\n",
       "    }\n",
       "</style>\n",
       "<table border=\"1\" class=\"dataframe\">\n",
       "  <thead>\n",
       "    <tr style=\"text-align: right;\">\n",
       "      <th></th>\n",
       "      <th>mean_fit_time</th>\n",
       "      <th>std_fit_time</th>\n",
       "      <th>mean_score_time</th>\n",
       "      <th>std_score_time</th>\n",
       "      <th>param_C</th>\n",
       "      <th>param_epsilon</th>\n",
       "      <th>param_gamma</th>\n",
       "      <th>param_kernel</th>\n",
       "      <th>params</th>\n",
       "      <th>split0_test_score</th>\n",
       "      <th>...</th>\n",
       "      <th>mean_test_score</th>\n",
       "      <th>std_test_score</th>\n",
       "      <th>rank_test_score</th>\n",
       "      <th>split0_train_score</th>\n",
       "      <th>split1_train_score</th>\n",
       "      <th>split2_train_score</th>\n",
       "      <th>split3_train_score</th>\n",
       "      <th>split4_train_score</th>\n",
       "      <th>mean_train_score</th>\n",
       "      <th>std_train_score</th>\n",
       "    </tr>\n",
       "  </thead>\n",
       "  <tbody>\n",
       "    <tr>\n",
       "      <th>0</th>\n",
       "      <td>3.632879</td>\n",
       "      <td>0.101140</td>\n",
       "      <td>0.438826</td>\n",
       "      <td>0.042711</td>\n",
       "      <td>1</td>\n",
       "      <td>0</td>\n",
       "      <td>auto</td>\n",
       "      <td>rbf</td>\n",
       "      <td>{'C': 1, 'epsilon': 0, 'gamma': 'auto', 'kerne...</td>\n",
       "      <td>-2.660162e-01</td>\n",
       "      <td>...</td>\n",
       "      <td>-2.527533e-01</td>\n",
       "      <td>0.014915</td>\n",
       "      <td>10</td>\n",
       "      <td>-2.399343e-01</td>\n",
       "      <td>-2.472355e-01</td>\n",
       "      <td>-2.494531e-01</td>\n",
       "      <td>-2.442037e-01</td>\n",
       "      <td>-2.400163e-01</td>\n",
       "      <td>-2.441686e-01</td>\n",
       "      <td>0.003808</td>\n",
       "    </tr>\n",
       "    <tr>\n",
       "      <th>1</th>\n",
       "      <td>3.891787</td>\n",
       "      <td>0.206937</td>\n",
       "      <td>0.472535</td>\n",
       "      <td>0.016477</td>\n",
       "      <td>1</td>\n",
       "      <td>0</td>\n",
       "      <td>auto</td>\n",
       "      <td>sigmoid</td>\n",
       "      <td>{'C': 1, 'epsilon': 0, 'gamma': 'auto', 'kerne...</td>\n",
       "      <td>-8.797372e+03</td>\n",
       "      <td>...</td>\n",
       "      <td>-9.320764e+03</td>\n",
       "      <td>962.324065</td>\n",
       "      <td>56</td>\n",
       "      <td>-9.309044e+03</td>\n",
       "      <td>-1.019437e+04</td>\n",
       "      <td>-9.662781e+03</td>\n",
       "      <td>-9.193983e+03</td>\n",
       "      <td>-8.498505e+03</td>\n",
       "      <td>-9.371737e+03</td>\n",
       "      <td>558.478889</td>\n",
       "    </tr>\n",
       "    <tr>\n",
       "      <th>2</th>\n",
       "      <td>4.161349</td>\n",
       "      <td>0.371173</td>\n",
       "      <td>0.377314</td>\n",
       "      <td>0.014438</td>\n",
       "      <td>1</td>\n",
       "      <td>0</td>\n",
       "      <td>scale</td>\n",
       "      <td>rbf</td>\n",
       "      <td>{'C': 1, 'epsilon': 0, 'gamma': 'scale', 'kern...</td>\n",
       "      <td>-2.661267e-01</td>\n",
       "      <td>...</td>\n",
       "      <td>-2.526579e-01</td>\n",
       "      <td>0.014942</td>\n",
       "      <td>8</td>\n",
       "      <td>-2.405105e-01</td>\n",
       "      <td>-2.474232e-01</td>\n",
       "      <td>-2.498103e-01</td>\n",
       "      <td>-2.443700e-01</td>\n",
       "      <td>-2.403294e-01</td>\n",
       "      <td>-2.444887e-01</td>\n",
       "      <td>0.003744</td>\n",
       "    </tr>\n",
       "    <tr>\n",
       "      <th>3</th>\n",
       "      <td>4.795869</td>\n",
       "      <td>0.255042</td>\n",
       "      <td>0.488064</td>\n",
       "      <td>0.022774</td>\n",
       "      <td>1</td>\n",
       "      <td>0</td>\n",
       "      <td>scale</td>\n",
       "      <td>sigmoid</td>\n",
       "      <td>{'C': 1, 'epsilon': 0, 'gamma': 'scale', 'kern...</td>\n",
       "      <td>-7.734569e+03</td>\n",
       "      <td>...</td>\n",
       "      <td>-8.234178e+03</td>\n",
       "      <td>1461.926450</td>\n",
       "      <td>51</td>\n",
       "      <td>-8.851078e+03</td>\n",
       "      <td>-9.497421e+03</td>\n",
       "      <td>-7.821146e+03</td>\n",
       "      <td>-9.265614e+03</td>\n",
       "      <td>-6.581507e+03</td>\n",
       "      <td>-8.403353e+03</td>\n",
       "      <td>1076.942413</td>\n",
       "    </tr>\n",
       "    <tr>\n",
       "      <th>4</th>\n",
       "      <td>0.296024</td>\n",
       "      <td>0.051413</td>\n",
       "      <td>0.021747</td>\n",
       "      <td>0.001430</td>\n",
       "      <td>1</td>\n",
       "      <td>1</td>\n",
       "      <td>auto</td>\n",
       "      <td>rbf</td>\n",
       "      <td>{'C': 1, 'epsilon': 1, 'gamma': 'auto', 'kerne...</td>\n",
       "      <td>-3.532589e-01</td>\n",
       "      <td>...</td>\n",
       "      <td>-3.552340e-01</td>\n",
       "      <td>0.007237</td>\n",
       "      <td>50</td>\n",
       "      <td>-3.425976e-01</td>\n",
       "      <td>-3.545127e-01</td>\n",
       "      <td>-3.559803e-01</td>\n",
       "      <td>-3.515245e-01</td>\n",
       "      <td>-3.485041e-01</td>\n",
       "      <td>-3.506238e-01</td>\n",
       "      <td>0.004765</td>\n",
       "    </tr>\n",
       "    <tr>\n",
       "      <th>...</th>\n",
       "      <td>...</td>\n",
       "      <td>...</td>\n",
       "      <td>...</td>\n",
       "      <td>...</td>\n",
       "      <td>...</td>\n",
       "      <td>...</td>\n",
       "      <td>...</td>\n",
       "      <td>...</td>\n",
       "      <td>...</td>\n",
       "      <td>...</td>\n",
       "      <td>...</td>\n",
       "      <td>...</td>\n",
       "      <td>...</td>\n",
       "      <td>...</td>\n",
       "      <td>...</td>\n",
       "      <td>...</td>\n",
       "      <td>...</td>\n",
       "      <td>...</td>\n",
       "      <td>...</td>\n",
       "      <td>...</td>\n",
       "      <td>...</td>\n",
       "    </tr>\n",
       "    <tr>\n",
       "      <th>95</th>\n",
       "      <td>4.152577</td>\n",
       "      <td>0.265067</td>\n",
       "      <td>0.462003</td>\n",
       "      <td>0.068877</td>\n",
       "      <td>20</td>\n",
       "      <td>0.01</td>\n",
       "      <td>scale</td>\n",
       "      <td>sigmoid</td>\n",
       "      <td>{'C': 20, 'epsilon': 0.01, 'gamma': 'scale', '...</td>\n",
       "      <td>-3.074941e+06</td>\n",
       "      <td>...</td>\n",
       "      <td>-3.199086e+06</td>\n",
       "      <td>380104.610885</td>\n",
       "      <td>93</td>\n",
       "      <td>-3.534025e+06</td>\n",
       "      <td>-3.282524e+06</td>\n",
       "      <td>-3.104306e+06</td>\n",
       "      <td>-3.168857e+06</td>\n",
       "      <td>-3.400479e+06</td>\n",
       "      <td>-3.298038e+06</td>\n",
       "      <td>155334.668253</td>\n",
       "    </tr>\n",
       "    <tr>\n",
       "      <th>96</th>\n",
       "      <td>5.947893</td>\n",
       "      <td>0.148998</td>\n",
       "      <td>0.451888</td>\n",
       "      <td>0.041659</td>\n",
       "      <td>20</td>\n",
       "      <td>0.001</td>\n",
       "      <td>auto</td>\n",
       "      <td>rbf</td>\n",
       "      <td>{'C': 20, 'epsilon': 0.001, 'gamma': 'auto', '...</td>\n",
       "      <td>-2.684691e-01</td>\n",
       "      <td>...</td>\n",
       "      <td>-2.576519e-01</td>\n",
       "      <td>0.013724</td>\n",
       "      <td>39</td>\n",
       "      <td>-2.297616e-01</td>\n",
       "      <td>-2.368304e-01</td>\n",
       "      <td>-2.372675e-01</td>\n",
       "      <td>-2.346879e-01</td>\n",
       "      <td>-2.285403e-01</td>\n",
       "      <td>-2.334175e-01</td>\n",
       "      <td>0.003612</td>\n",
       "    </tr>\n",
       "    <tr>\n",
       "      <th>97</th>\n",
       "      <td>3.844686</td>\n",
       "      <td>0.320885</td>\n",
       "      <td>0.459914</td>\n",
       "      <td>0.048621</td>\n",
       "      <td>20</td>\n",
       "      <td>0.001</td>\n",
       "      <td>auto</td>\n",
       "      <td>sigmoid</td>\n",
       "      <td>{'C': 20, 'epsilon': 0.001, 'gamma': 'auto', '...</td>\n",
       "      <td>-3.875480e+06</td>\n",
       "      <td>...</td>\n",
       "      <td>-3.938116e+06</td>\n",
       "      <td>289570.625683</td>\n",
       "      <td>98</td>\n",
       "      <td>-4.387147e+06</td>\n",
       "      <td>-3.550238e+06</td>\n",
       "      <td>-4.510516e+06</td>\n",
       "      <td>-3.694220e+06</td>\n",
       "      <td>-4.073882e+06</td>\n",
       "      <td>-4.043201e+06</td>\n",
       "      <td>374813.191526</td>\n",
       "    </tr>\n",
       "    <tr>\n",
       "      <th>98</th>\n",
       "      <td>5.521182</td>\n",
       "      <td>0.091705</td>\n",
       "      <td>0.380604</td>\n",
       "      <td>0.018342</td>\n",
       "      <td>20</td>\n",
       "      <td>0.001</td>\n",
       "      <td>scale</td>\n",
       "      <td>rbf</td>\n",
       "      <td>{'C': 20, 'epsilon': 0.001, 'gamma': 'scale', ...</td>\n",
       "      <td>-2.680742e-01</td>\n",
       "      <td>...</td>\n",
       "      <td>-2.572779e-01</td>\n",
       "      <td>0.013856</td>\n",
       "      <td>36</td>\n",
       "      <td>-2.308386e-01</td>\n",
       "      <td>-2.370878e-01</td>\n",
       "      <td>-2.380230e-01</td>\n",
       "      <td>-2.351499e-01</td>\n",
       "      <td>-2.292076e-01</td>\n",
       "      <td>-2.340614e-01</td>\n",
       "      <td>0.003464</td>\n",
       "    </tr>\n",
       "    <tr>\n",
       "      <th>99</th>\n",
       "      <td>3.737032</td>\n",
       "      <td>0.353982</td>\n",
       "      <td>0.375806</td>\n",
       "      <td>0.006013</td>\n",
       "      <td>20</td>\n",
       "      <td>0.001</td>\n",
       "      <td>scale</td>\n",
       "      <td>sigmoid</td>\n",
       "      <td>{'C': 20, 'epsilon': 0.001, 'gamma': 'scale', ...</td>\n",
       "      <td>-3.074936e+06</td>\n",
       "      <td>...</td>\n",
       "      <td>-3.199079e+06</td>\n",
       "      <td>380104.786944</td>\n",
       "      <td>91</td>\n",
       "      <td>-3.534020e+06</td>\n",
       "      <td>-3.282518e+06</td>\n",
       "      <td>-3.104296e+06</td>\n",
       "      <td>-3.168862e+06</td>\n",
       "      <td>-3.400474e+06</td>\n",
       "      <td>-3.298034e+06</td>\n",
       "      <td>155334.456045</td>\n",
       "    </tr>\n",
       "  </tbody>\n",
       "</table>\n",
       "<p>100 rows × 24 columns</p>\n",
       "</div>"
      ],
      "text/plain": [
       "    mean_fit_time  std_fit_time  mean_score_time  std_score_time param_C  \\\n",
       "0        3.632879      0.101140         0.438826        0.042711       1   \n",
       "1        3.891787      0.206937         0.472535        0.016477       1   \n",
       "2        4.161349      0.371173         0.377314        0.014438       1   \n",
       "3        4.795869      0.255042         0.488064        0.022774       1   \n",
       "4        0.296024      0.051413         0.021747        0.001430       1   \n",
       "..            ...           ...              ...             ...     ...   \n",
       "95       4.152577      0.265067         0.462003        0.068877      20   \n",
       "96       5.947893      0.148998         0.451888        0.041659      20   \n",
       "97       3.844686      0.320885         0.459914        0.048621      20   \n",
       "98       5.521182      0.091705         0.380604        0.018342      20   \n",
       "99       3.737032      0.353982         0.375806        0.006013      20   \n",
       "\n",
       "   param_epsilon param_gamma param_kernel  \\\n",
       "0              0        auto          rbf   \n",
       "1              0        auto      sigmoid   \n",
       "2              0       scale          rbf   \n",
       "3              0       scale      sigmoid   \n",
       "4              1        auto          rbf   \n",
       "..           ...         ...          ...   \n",
       "95          0.01       scale      sigmoid   \n",
       "96         0.001        auto          rbf   \n",
       "97         0.001        auto      sigmoid   \n",
       "98         0.001       scale          rbf   \n",
       "99         0.001       scale      sigmoid   \n",
       "\n",
       "                                               params  split0_test_score  ...  \\\n",
       "0   {'C': 1, 'epsilon': 0, 'gamma': 'auto', 'kerne...      -2.660162e-01  ...   \n",
       "1   {'C': 1, 'epsilon': 0, 'gamma': 'auto', 'kerne...      -8.797372e+03  ...   \n",
       "2   {'C': 1, 'epsilon': 0, 'gamma': 'scale', 'kern...      -2.661267e-01  ...   \n",
       "3   {'C': 1, 'epsilon': 0, 'gamma': 'scale', 'kern...      -7.734569e+03  ...   \n",
       "4   {'C': 1, 'epsilon': 1, 'gamma': 'auto', 'kerne...      -3.532589e-01  ...   \n",
       "..                                                ...                ...  ...   \n",
       "95  {'C': 20, 'epsilon': 0.01, 'gamma': 'scale', '...      -3.074941e+06  ...   \n",
       "96  {'C': 20, 'epsilon': 0.001, 'gamma': 'auto', '...      -2.684691e-01  ...   \n",
       "97  {'C': 20, 'epsilon': 0.001, 'gamma': 'auto', '...      -3.875480e+06  ...   \n",
       "98  {'C': 20, 'epsilon': 0.001, 'gamma': 'scale', ...      -2.680742e-01  ...   \n",
       "99  {'C': 20, 'epsilon': 0.001, 'gamma': 'scale', ...      -3.074936e+06  ...   \n",
       "\n",
       "    mean_test_score  std_test_score  rank_test_score  split0_train_score  \\\n",
       "0     -2.527533e-01        0.014915               10       -2.399343e-01   \n",
       "1     -9.320764e+03      962.324065               56       -9.309044e+03   \n",
       "2     -2.526579e-01        0.014942                8       -2.405105e-01   \n",
       "3     -8.234178e+03     1461.926450               51       -8.851078e+03   \n",
       "4     -3.552340e-01        0.007237               50       -3.425976e-01   \n",
       "..              ...             ...              ...                 ...   \n",
       "95    -3.199086e+06   380104.610885               93       -3.534025e+06   \n",
       "96    -2.576519e-01        0.013724               39       -2.297616e-01   \n",
       "97    -3.938116e+06   289570.625683               98       -4.387147e+06   \n",
       "98    -2.572779e-01        0.013856               36       -2.308386e-01   \n",
       "99    -3.199079e+06   380104.786944               91       -3.534020e+06   \n",
       "\n",
       "    split1_train_score  split2_train_score  split3_train_score  \\\n",
       "0        -2.472355e-01       -2.494531e-01       -2.442037e-01   \n",
       "1        -1.019437e+04       -9.662781e+03       -9.193983e+03   \n",
       "2        -2.474232e-01       -2.498103e-01       -2.443700e-01   \n",
       "3        -9.497421e+03       -7.821146e+03       -9.265614e+03   \n",
       "4        -3.545127e-01       -3.559803e-01       -3.515245e-01   \n",
       "..                 ...                 ...                 ...   \n",
       "95       -3.282524e+06       -3.104306e+06       -3.168857e+06   \n",
       "96       -2.368304e-01       -2.372675e-01       -2.346879e-01   \n",
       "97       -3.550238e+06       -4.510516e+06       -3.694220e+06   \n",
       "98       -2.370878e-01       -2.380230e-01       -2.351499e-01   \n",
       "99       -3.282518e+06       -3.104296e+06       -3.168862e+06   \n",
       "\n",
       "    split4_train_score  mean_train_score  std_train_score  \n",
       "0        -2.400163e-01     -2.441686e-01         0.003808  \n",
       "1        -8.498505e+03     -9.371737e+03       558.478889  \n",
       "2        -2.403294e-01     -2.444887e-01         0.003744  \n",
       "3        -6.581507e+03     -8.403353e+03      1076.942413  \n",
       "4        -3.485041e-01     -3.506238e-01         0.004765  \n",
       "..                 ...               ...              ...  \n",
       "95       -3.400479e+06     -3.298038e+06    155334.668253  \n",
       "96       -2.285403e-01     -2.334175e-01         0.003612  \n",
       "97       -4.073882e+06     -4.043201e+06    374813.191526  \n",
       "98       -2.292076e-01     -2.340614e-01         0.003464  \n",
       "99       -3.400474e+06     -3.298034e+06    155334.456045  \n",
       "\n",
       "[100 rows x 24 columns]"
      ]
     },
     "execution_count": 85,
     "metadata": {},
     "output_type": "execute_result"
    }
   ],
   "source": [
    "pd.DataFrame(grid_search.cv_results_)"
   ]
  },
  {
   "cell_type": "markdown",
   "metadata": {},
   "source": [
    "# Analyzing our Best Model"
   ]
  },
  {
   "cell_type": "markdown",
   "metadata": {},
   "source": [
    "Usually, we should check on our model and indicate the relative importance of each feature for making the accurate predictions here, but since our model is SVM with rbf kernel, it isn't possible because the data are transformed by kernel method to another space, which is not related to input space.\n",
    "for more explanation [**check here**](https://stackoverflow.com/questions/21260691/how-to-obtain-features-weights).\n",
    "And with that information, we can try to drop some of the less useful features and look for specific errors that the system makes, why it makes them, and what could fix the problem."
   ]
  },
  {
   "cell_type": "markdown",
   "metadata": {},
   "source": [
    "# Evaluate your System on the Test Set"
   ]
  },
  {
   "cell_type": "markdown",
   "metadata": {},
   "source": [
    "We will need get the predictors and label from our test set, usually we don't need to modify them but in this case we have an exception due to a problem with splitting earlier, we will then run our **full_pipeline** to transform the data and evaluate our final model."
   ]
  },
  {
   "cell_type": "code",
   "execution_count": 1,
   "metadata": {
    "scrolled": true
   },
   "outputs": [
    {
     "ename": "NameError",
     "evalue": "name 'grid_search' is not defined",
     "output_type": "error",
     "traceback": [
      "\u001b[1;31m---------------------------------------------------------------------------\u001b[0m",
      "\u001b[1;31mNameError\u001b[0m                                 Traceback (most recent call last)",
      "\u001b[1;32m<ipython-input-1-240e980f13cf>\u001b[0m in \u001b[0;36m<module>\u001b[1;34m\u001b[0m\n\u001b[1;32m----> 1\u001b[1;33m \u001b[0mfinal_model\u001b[0m \u001b[1;33m=\u001b[0m \u001b[0mgrid_search\u001b[0m\u001b[1;33m.\u001b[0m\u001b[0mbest_estimator_\u001b[0m\u001b[1;33m\u001b[0m\u001b[1;33m\u001b[0m\u001b[0m\n\u001b[0m\u001b[0;32m      2\u001b[0m \u001b[1;33m\u001b[0m\u001b[0m\n\u001b[0;32m      3\u001b[0m \u001b[0mX_test\u001b[0m \u001b[1;33m=\u001b[0m \u001b[0mstrat_test_set\u001b[0m\u001b[1;33m.\u001b[0m\u001b[0mdrop\u001b[0m\u001b[1;33m(\u001b[0m\u001b[1;34m\"Rating\"\u001b[0m\u001b[1;33m,\u001b[0m \u001b[0maxis\u001b[0m\u001b[1;33m=\u001b[0m\u001b[1;36m1\u001b[0m\u001b[1;33m)\u001b[0m\u001b[1;33m\u001b[0m\u001b[1;33m\u001b[0m\u001b[0m\n\u001b[0;32m      4\u001b[0m \u001b[0my_test\u001b[0m \u001b[1;33m=\u001b[0m \u001b[0mstrat_test_set\u001b[0m\u001b[1;33m[\u001b[0m\u001b[1;34m\"Rating\"\u001b[0m\u001b[1;33m]\u001b[0m\u001b[1;33m.\u001b[0m\u001b[0mcopy\u001b[0m\u001b[1;33m(\u001b[0m\u001b[1;33m)\u001b[0m\u001b[1;33m\u001b[0m\u001b[1;33m\u001b[0m\u001b[0m\n\u001b[0;32m      5\u001b[0m \u001b[1;33m\u001b[0m\u001b[0m\n",
      "\u001b[1;31mNameError\u001b[0m: name 'grid_search' is not defined"
     ]
    }
   ],
   "source": [
    "final_model = grid_search.best_estimator_\n",
    "\n",
    "X_test = strat_test_set.drop(\"Rating\", axis=1)\n",
    "y_test = strat_test_set[\"Rating\"].copy()\n",
    "\n",
    "X_test.fillna(method='ffill', inplace=True)\n",
    "y_test.fillna(method='ffill', inplace=True)\n",
    "X_test.drop(labels = ['App', 'Last Updated','Current Ver','Android Ver'], axis = 1, inplace = True)"
   ]
  },
  {
   "cell_type": "code",
   "execution_count": 80,
   "metadata": {},
   "outputs": [
    {
     "name": "stdout",
     "output_type": "stream",
     "text": [
      "(7488, 8)\n"
     ]
    },
    {
     "data": {
      "text/plain": [
       "(1872, 8)"
      ]
     },
     "execution_count": 80,
     "metadata": {},
     "output_type": "execute_result"
    }
   ],
   "source": [
    "X_test_cat = X_test[[\"Content Rating\"]]\n",
    "\n",
    "ordinal_encoder = OrdinalEncoder()\n",
    "X_test_cat_encoded = ordinal_encoder.fit_transform(X_test_cat)\n",
    "X_test[\"Content Rating\"] = X_test_cat_encoded\n",
    "print(gplay.shape)\n",
    "X_test.shape"
   ]
  },
  {
   "cell_type": "code",
   "execution_count": 121,
   "metadata": {},
   "outputs": [
    {
     "data": {
      "text/plain": [
       "(1872, 43)"
      ]
     },
     "execution_count": 121,
     "metadata": {},
     "output_type": "execute_result"
    }
   ],
   "source": [
    "# DON'T DO THIS AS IT WILL FIT THE TEST SET AND WE ONLY WANT TO TRANSFORM THEM\n",
    "# X_test_prepared = full_pipeline.fit_transform(X_test)\n",
    "\n",
    "X_test_prepared = full_pipeline.transform(X_test)\n",
    "\n",
    "X_test_prepared.shape"
   ]
  },
  {
   "cell_type": "markdown",
   "metadata": {},
   "source": [
    "Checking its **RMSE**:"
   ]
  },
  {
   "cell_type": "code",
   "execution_count": 82,
   "metadata": {},
   "outputs": [
    {
     "data": {
      "text/plain": [
       "0.5559784941583609"
      ]
     },
     "execution_count": 82,
     "metadata": {},
     "output_type": "execute_result"
    }
   ],
   "source": [
    "final_predictions = final_model.predict(X_test_prepared)\n",
    "\n",
    "final_mse = mean_squared_error(y_test, final_predictions)\n",
    "final_rmse = np.sqrt(final_mse)\n",
    "final_rmse"
   ]
  },
  {
   "cell_type": "markdown",
   "metadata": {},
   "source": [
    "Let's now compare our training accuracy and our test accuracy."
   ]
  },
  {
   "cell_type": "code",
   "execution_count": 126,
   "metadata": {},
   "outputs": [
    {
     "name": "stdout",
     "output_type": "stream",
     "text": [
      "The training accuracy is 0.24271511749901847\n",
      "The test accuracy is 0.3091120859665985\n"
     ]
    }
   ],
   "source": [
    "# if we were using a classifier model, we can use **accuracy_score**.\n",
    "train_accuracy = mean_squared_error(gplay_labels, y_train_pred)\n",
    "test_accuracy = mean_squared_error(y_test, y_test_pred)\n",
    "\n",
    "print('The training accuracy is', train_accuracy)\n",
    "print('The test accuracy is', test_accuracy)\n"
   ]
  },
  {
   "cell_type": "markdown",
   "metadata": {},
   "source": [
    "Our model seems to generalize and predict very well on our test set, let us look at the actual values just to be sure."
   ]
  },
  {
   "cell_type": "code",
   "execution_count": 130,
   "metadata": {},
   "outputs": [
    {
     "name": "stdout",
     "output_type": "stream",
     "text": [
      "Actual Value: [4.7, 4.2, 4.2, 4.5, 4.4]\n",
      "Predictions : [4.37160372 4.26738915 4.26738915 4.29775525 4.50789375]\n"
     ]
    }
   ],
   "source": [
    "print(\"Actual Value:\", list(y_test)[:5])\n",
    "print(\"Predictions :\",  final_predictions[:5])"
   ]
  },
  {
   "cell_type": "markdown",
   "metadata": {},
   "source": [
    "To get a better idea on how precise this estimate is, you can compute a **95% confidence interval** for the generalization error using **scipy.stats.t.interval()**.\n",
    "\n",
    "**Confidence Interval** is a range of values we are fairly sure our true value lies in.\n"
   ]
  },
  {
   "cell_type": "code",
   "execution_count": 83,
   "metadata": {},
   "outputs": [
    {
     "data": {
      "text/plain": [
       "array([0.51629229, 0.59301471])"
      ]
     },
     "execution_count": 83,
     "metadata": {},
     "output_type": "execute_result"
    }
   ],
   "source": [
    "from scipy import stats\n",
    "\n",
    "confidence = 0.95\n",
    "squared_errors = (final_predictions - y_test) ** 2\n",
    "np.sqrt(stats.t.interval(confidence, len(squared_errors) - 1,\n",
    "                         loc=squared_errors.mean(),\n",
    "                         scale=stats.sem(squared_errors)))"
   ]
  },
  {
   "cell_type": "markdown",
   "metadata": {},
   "source": [
    "This means we have an error of approximately 0.56 ± 0.04, which is around 10-12%."
   ]
  },
  {
   "cell_type": "markdown",
   "metadata": {},
   "source": [
    "Finally, We can save our model using **joblib** library, which is more efficient than **pickle** at serializing large NumPy arrays."
   ]
  },
  {
   "cell_type": "code",
   "execution_count": 118,
   "metadata": {},
   "outputs": [
    {
     "data": {
      "text/plain": [
       "['final_model.pkl']"
      ]
     },
     "execution_count": 118,
     "metadata": {},
     "output_type": "execute_result"
    }
   ],
   "source": [
    "import joblib\n",
    "joblib.dump(final_model, \"final_model.pkl\")\n"
   ]
  },
  {
   "cell_type": "markdown",
   "metadata": {},
   "source": [
    "We can load it later using."
   ]
  },
  {
   "cell_type": "code",
   "execution_count": 131,
   "metadata": {},
   "outputs": [],
   "source": [
    "my_model_loaded = joblib.load(\"final_model.pkl\")"
   ]
  }
 ],
 "metadata": {
  "kernelspec": {
   "display_name": "Python 3",
   "language": "python",
   "name": "python3"
  },
  "language_info": {
   "codemirror_mode": {
    "name": "ipython",
    "version": 3
   },
   "file_extension": ".py",
   "mimetype": "text/x-python",
   "name": "python",
   "nbconvert_exporter": "python",
   "pygments_lexer": "ipython3",
   "version": "3.7.5"
  }
 },
 "nbformat": 4,
 "nbformat_minor": 4
}
